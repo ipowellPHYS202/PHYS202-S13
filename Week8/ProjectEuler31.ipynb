{
 "metadata": {
  "name": "ProjectEuler31"
 },
 "nbformat": 3,
 "nbformat_minor": 0,
 "worksheets": [
  {
   "cells": [
    {
     "cell_type": "markdown",
     "metadata": {},
     "source": [
      "###Coin Sums"
     ]
    },
    {
     "cell_type": "markdown",
     "metadata": {},
     "source": [
      "In England the currency is made up of pound, \u00a3, and pence, p, and there are eight coins in general circulation:\n",
      "\n",
      "1p, 2p, 5p, 10p, 20p, 50p, \u00a31 (100p) and \u00a32 (200p).\n",
      "It is possible to make \u00a32 in the following way:\n",
      "\n",
      "1\u00a31 + 150p + 220p + 15p + 12p + 31p\n",
      "How many different ways can \u00a32 be made using any number of coins?"
     ]
    },
    {
     "cell_type": "code",
     "collapsed": false,
     "input": [
      "#I initialize the number of ways\n",
      "Ways = 0\n",
      "#I have a for loop for every type of currency exept the 200 piece and add that at the end\n",
      "#notice that the ranges are only pertinent to each currency piece \"a,b,c,d,e,f,g\"\n",
      "#also notice that a is 1p, b is 2p, c is 5p,d is 10p and so on.\n",
      "#this code is VERY inefficient, but this project euler is difficult and it's the only thing I've gotten to work\n",
      "for a in range(201):\n",
      "    for b in range(101):\n",
      "        for c in range(41):\n",
      "            for d in range(21):\n",
      "                for e in range(11):\n",
      "                    for f in range(5):\n",
      "                        for g in range(3):\n",
      "                            if (a*1)+(b*2)*(c*5)+(d*10)+(e*20)+(f*50)+(g*100)==200:\n",
      "                                Ways+=1\n",
      "Ways = Ways+1\n",
      "\n",
      "print Ways\n",
      "                "
     ],
     "language": "python",
     "metadata": {},
     "outputs": [],
     "prompt_number": "*"
    },
    {
     "cell_type": "code",
     "collapsed": false,
     "input": [],
     "language": "python",
     "metadata": {},
     "outputs": []
    }
   ],
   "metadata": {}
  }
 ]
}