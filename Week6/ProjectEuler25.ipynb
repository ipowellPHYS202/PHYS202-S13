{
 "metadata": {
  "name": "ProjectEuler25"
 },
 "nbformat": 3,
 "nbformat_minor": 0,
 "worksheets": [
  {
   "cells": [
    {
     "cell_type": "markdown",
     "metadata": {},
     "source": [
      "###1000-digit Fibonacci number\n",
      "###Problem 25"
     ]
    },
    {
     "cell_type": "markdown",
     "metadata": {},
     "source": [
      "The Fibonacci sequence is defined by the recurrence relation:\n",
      "\n",
      "Fn = Fn1 + Fn2, where F1 = 1 and F2 = 1.\n",
      "Hence the first 12 terms will be:\n",
      "\n",
      "F1 = 1\n",
      "F2 = 1\n",
      "F3 = 2\n",
      "F4 = 3\n",
      "F5 = 5\n",
      "F6 = 8\n",
      "F7 = 13\n",
      "F8 = 21\n",
      "F9 = 34\n",
      "F10 = 55\n",
      "F11 = 89\n",
      "F12 = 144\n",
      "The 12th term, F12, is the first term to contain three digits.\n",
      "\n",
      "What is the first term in the Fibonacci sequence to contain 1000 digits?"
     ]
    },
    {
     "cell_type": "code",
     "collapsed": false,
     "input": [
      "#Here I define a recursive function similar to the Hermite polynomial in the previous assignment\n",
      "def F(n):\n",
      "    F=[1]\n",
      "    for i in range(0,n+1):\n",
      "        F.append(F[i-1]+F[i])\n",
      "    return F[n-2]\n",
      "#Return F[n-2] so that the index stays consistent with the given info"
     ],
     "language": "python",
     "metadata": {},
     "outputs": [],
     "prompt_number": 81
    },
    {
     "cell_type": "code",
     "collapsed": false,
     "input": [
      "print F(7);F(12)\n",
      "#The code checks out in the test cases"
     ],
     "language": "python",
     "metadata": {},
     "outputs": [
      {
       "output_type": "stream",
       "stream": "stdout",
       "text": [
        "13\n"
       ]
      },
      {
       "output_type": "pyout",
       "prompt_number": 82,
       "text": [
        "144"
       ]
      }
     ],
     "prompt_number": 82
    },
    {
     "cell_type": "code",
     "collapsed": false,
     "input": [
      "#Here I guess that the index is between 0 and 10000\n",
      "#As soon as the length of our fibonacci number is 100 i break the loop with the \"flag\" variable\n",
      "flag = 0\n",
      "#I initialize\n",
      "for i in arange(0,10000):\n",
      "    if len(str(F(i)))==1000:\n",
      "        flag+=1\n",
      "    if flag ==1:\n",
      "        print F(i)\n",
      "        print i\n",
      "#I print the number and the index\n",
      "        break"
     ],
     "language": "python",
     "metadata": {},
     "outputs": [
      {
       "output_type": "stream",
       "stream": "stdout",
       "text": [
        "1070066266382758936764980584457396885083683896632151665013235203375314520604694040621889147582489792657804694888177591957484336466672569959512996030461262748092482186144069433051234774442750273781753087579391666192149259186759553966422837148943113074699503439547001985432609723067290192870526447243726117715821825548491120525013201478612965931381792235559657452039506137551467837543229119602129934048260706175397706847068202895486902666185435124521900369480641357447470911707619766945691070098024393439617474103736912503231365532164773697023167755051595173518460579954919410967778373229665796581646513903488154256310184224190259846088000110186255550245493937113651657039447629584714548523425950428582425306083544435428212611008992863795048006894330309773217834864543113205765659868456288616808718693835297350643986297640660000723562917905207051164077614812491885830945940566688339109350944456576357666151619317753792891661581327159616877487983821820492520348473874384736771934512787029218636250627816\n",
        "4782\n"
       ]
      }
     ],
     "prompt_number": 83
    },
    {
     "cell_type": "code",
     "collapsed": false,
     "input": [
      "print F(4782)\n",
      "print len(str(F(4782)))"
     ],
     "language": "python",
     "metadata": {},
     "outputs": [
      {
       "output_type": "stream",
       "stream": "stdout",
       "text": [
        "1070066266382758936764980584457396885083683896632151665013235203375314520604694040621889147582489792657804694888177591957484336466672569959512996030461262748092482186144069433051234774442750273781753087579391666192149259186759553966422837148943113074699503439547001985432609723067290192870526447243726117715821825548491120525013201478612965931381792235559657452039506137551467837543229119602129934048260706175397706847068202895486902666185435124521900369480641357447470911707619766945691070098024393439617474103736912503231365532164773697023167755051595173518460579954919410967778373229665796581646513903488154256310184224190259846088000110186255550245493937113651657039447629584714548523425950428582425306083544435428212611008992863795048006894330309773217834864543113205765659868456288616808718693835297350643986297640660000723562917905207051164077614812491885830945940566688339109350944456576357666151619317753792891661581327159616877487983821820492520348473874384736771934512787029218636250627816\n",
        "1000\n"
       ]
      }
     ],
     "prompt_number": 84
    },
    {
     "cell_type": "markdown",
     "metadata": {},
     "source": [
      "###My answer checks out!"
     ]
    }
   ],
   "metadata": {}
  }
 ]
}