{
 "metadata": {
  "name": "Thursdaynotes"
 },
 "nbformat": 3,
 "nbformat_minor": 0,
 "worksheets": [
  {
   "cells": [
    {
     "cell_type": "markdown",
     "metadata": {},
     "source": [
      "#Example 1: Free-fall"
     ]
    },
    {
     "cell_type": "markdown",
     "metadata": {},
     "source": [
      "###Euler's Method"
     ]
    },
    {
     "cell_type": "markdown",
     "metadata": {},
     "source": [
      "a(t) = d^2x/dt^2"
     ]
    },
    {
     "cell_type": "markdown",
     "metadata": {},
     "source": [
      "a(t)=dv/dt ; v(t)=dx/dt"
     ]
    },
    {
     "cell_type": "markdown",
     "metadata": {},
     "source": [
      "v(t1)=v(t0)+a(t0)(t1-t0)\n",
      "\n",
      "r(t1)=r(t0)+v(t0)(t1-t0)\n",
      "\n",
      "Now as for Coding:"
     ]
    },
    {
     "cell_type": "markdown",
     "metadata": {},
     "source": [
      "###Example 1"
     ]
    },
    {
     "cell_type": "markdown",
     "metadata": {},
     "source": [
      "Euler's Method and Free Fall"
     ]
    },
    {
     "cell_type": "code",
     "collapsed": false,
     "input": [
      "\n"
     ],
     "language": "python",
     "metadata": {},
     "outputs": [],
     "prompt_number": 26
    },
    {
     "cell_type": "code",
     "collapsed": false,
     "input": [],
     "language": "python",
     "metadata": {},
     "outputs": [],
     "prompt_number": 27
    },
    {
     "cell_type": "code",
     "collapsed": false,
     "input": [],
     "language": "python",
     "metadata": {},
     "outputs": []
    }
   ],
   "metadata": {}
  }
 ]
}