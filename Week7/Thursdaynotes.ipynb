{
 "metadata": {
  "name": "Thursdaynotes"
 },
 "nbformat": 3,
 "nbformat_minor": 0,
 "worksheets": [
  {
   "cells": [
    {
     "cell_type": "markdown",
     "metadata": {},
     "source": [
      "#Example 1: Free-fall"
     ]
    },
    {
     "cell_type": "markdown",
     "metadata": {},
     "source": [
      "###Euler's Method"
     ]
    },
    {
     "cell_type": "markdown",
     "metadata": {},
     "source": [
      "a(t) = d^2x/dt^2"
     ]
    },
    {
     "cell_type": "markdown",
     "metadata": {},
     "source": [
      "a(t)=dv/dt ; v(t)=dx/dt"
     ]
    },
    {
     "cell_type": "markdown",
     "metadata": {},
     "source": [
      "v(t1)=v(t0)+a(t0)(t1-t0)\n",
      "\n",
      "r(t1)=r(t0)+v(t0)(t1-t0)\n",
      "\n",
      "Now as for Coding:"
     ]
    },
    {
     "cell_type": "markdown",
     "metadata": {},
     "source": [
      "###Example 1"
     ]
    },
    {
     "cell_type": "markdown",
     "metadata": {},
     "source": [
      "Euler's Method and Free Fall"
     ]
    },
    {
     "cell_type": "markdown",
     "metadata": {},
     "source": [
      "a(t) = d^2/dt^2"
     ]
    },
    {
     "cell_type": "markdown",
     "metadata": {},
     "source": [
      "a(t) = dvdt; \n",
      "v(t) = dxdt"
     ]
    },
    {
     "cell_type": "code",
     "collapsed": false,
     "input": [
      "a = -9.8\n",
      "dt = .01\n",
      "x = arange(0,10,dt)\n",
      "v = zeros(x.shape, float)\n",
      "t = arange(0,10,dt)\n",
      "v[0]=0\n",
      "for i in range(x.shape[0]):\n",
      "    v[i] = v[i-1] + a*dt\n",
      "plot(v,t)\n",
      "show()"
     ],
     "language": "python",
     "metadata": {},
     "outputs": [
      {
       "output_type": "display_data",
       "png": "[encoded data removed]"
      }
     ],
     "prompt_number": 31
    },
    {
     "cell_type": "code",
     "collapsed": false,
     "input": [
      "r = zeros(x.shape)\n",
      "r[0]=0\n",
      "for i in range(x.shape[0]):\n",
      "    r[i] = r[i-1] + v[i]*dt\n",
      "plot(x,r)\n",
      "show()"
     ],
     "language": "python",
     "metadata": {},
     "outputs": [
      {
       "output_type": "display_data",
       "png": "[encoded data removed]"
      }
     ],
     "prompt_number": 56
    },
    {
     "cell_type": "markdown",
     "metadata": {},
     "source": [
      "#Exercise 1"
     ]
    },
    {
     "cell_type": "code",
     "collapsed": false,
     "input": [
      "dx=0.02\n",
      "\n",
      "x2 = arange(0,10,dx)\n",
      "y2 = zeros(x2.shape, float)\n",
      "y2[0]=0\n",
      "for i in range(x2.shape[0]):\n",
      "    y2[i]=y2[i-1]+(x2[i]+2*y2[i-1])*dx\n",
      "\n",
      "plot(x2,y2)\n",
      "show()"
     ],
     "language": "python",
     "metadata": {},
     "outputs": [
      {
       "output_type": "display_data",
       "png": "[encoded data removed]"
      }
     ],
     "prompt_number": 91
    },
    {
     "cell_type": "code",
     "collapsed": false,
     "input": [
      "print x2[50]\n",
      "print y2[50]"
     ],
     "language": "python",
     "metadata": {},
     "outputs": [
      {
       "output_type": "stream",
       "stream": "stdout",
       "text": [
        "1.0\n",
        "1.08773767003\n"
       ]
      }
     ],
     "prompt_number": 93
    },
    {
     "cell_type": "code",
     "collapsed": false,
     "input": [
      "dx=0.25\n",
      "\n",
      "x1 = arange(0,10,dx)\n",
      "y1 = zeros(x1.shape, float)\n",
      "y1[0]=0\n",
      "for i in range(x1.shape[0]):\n",
      "    y1[i]=y1[i-1]+(x1[i]+2*y1[i-1])*dx\n",
      "    \n",
      "print x1[4]\n",
      "print y1[4]"
     ],
     "language": "python",
     "metadata": {},
     "outputs": [
      {
       "output_type": "stream",
       "stream": "stdout",
       "text": [
        "1.0\n",
        "1.0234375\n"
       ]
      }
     ],
     "prompt_number": 94
    },
    {
     "cell_type": "code",
     "collapsed": false,
     "input": [
      "f = lambda x: .25*e**(2*x)-.5*x-.25"
     ],
     "language": "python",
     "metadata": {},
     "outputs": [],
     "prompt_number": 95
    },
    {
     "cell_type": "code",
     "collapsed": false,
     "input": [
      "plot(x,f(x), label = 'actual')\n",
      "plot(x1,y1, label='.25 stepsize')\n",
      "plot(x2,y2, label = '.01 stepsize')\n",
      "legend(loc='upper left')\n",
      "show()"
     ],
     "language": "python",
     "metadata": {},
     "outputs": [
      {
       "output_type": "display_data",
       "png": "[encoded data removed]"
      }
     ],
     "prompt_number": 99
    },
    {
     "cell_type": "code",
     "collapsed": false,
     "input": [
      "#The smaller stepsize produces the more accurate graph"
     ],
     "language": "python",
     "metadata": {},
     "outputs": [],
     "prompt_number": 100
    },
    {
     "cell_type": "code",
     "collapsed": false,
     "input": [],
     "language": "python",
     "metadata": {},
     "outputs": []
    }
   ],
   "metadata": {}
  }
 ]
}