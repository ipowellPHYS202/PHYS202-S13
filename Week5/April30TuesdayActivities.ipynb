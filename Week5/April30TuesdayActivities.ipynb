{
 "metadata": {
  "name": "April30TuesdayActivities"
 },
 "nbformat": 3,
 "nbformat_minor": 0,
 "worksheets": [
  {
   "cells": [
    {
     "cell_type": "markdown",
     "metadata": {},
     "source": [
      "###Example 1"
     ]
    },
    {
     "cell_type": "markdown",
     "metadata": {},
     "source": [
      "Numerically integrate $x^4-2x+1$"
     ]
    },
    {
     "cell_type": "markdown",
     "metadata": {},
     "source": [
      "from x=0 to x=2"
     ]
    },
    {
     "cell_type": "code",
     "collapsed": false,
     "input": [
      "f = lambda x: x**4-2*x+1"
     ],
     "language": "python",
     "metadata": {},
     "outputs": [],
     "prompt_number": 13
    },
    {
     "cell_type": "code",
     "collapsed": false,
     "input": [
      "N=10\n",
      "a=0.0\n",
      "b=2.0\n",
      "h=(b-a)/N\n",
      "s=.5*f(a)+.5*f(b)\n",
      "for k in range(1,N):\n",
      "    s+=f(a+k*h)\n",
      "print (h*s)"
     ],
     "language": "python",
     "metadata": {},
     "outputs": [
      {
       "output_type": "stream",
       "stream": "stdout",
       "text": [
        "4.50656\n"
       ]
      }
     ],
     "prompt_number": 7
    },
    {
     "cell_type": "code",
     "collapsed": false,
     "input": [
      "Correct_Answer=4.4"
     ],
     "language": "python",
     "metadata": {},
     "outputs": [],
     "prompt_number": 8
    },
    {
     "cell_type": "code",
     "collapsed": false,
     "input": [
      "print ((h*s)/Correct_Answer-1)*100"
     ],
     "language": "python",
     "metadata": {},
     "outputs": [
      {
       "output_type": "stream",
       "stream": "stdout",
       "text": [
        "2.42181818182\n"
       ]
      }
     ],
     "prompt_number": 12
    },
    {
     "cell_type": "markdown",
     "metadata": {},
     "source": [
      "So our integral is off by 2.4 percent"
     ]
    },
    {
     "cell_type": "markdown",
     "metadata": {},
     "source": [
      "###Exercise 1"
     ]
    },
    {
     "cell_type": "markdown",
     "metadata": {},
     "source": [
      "What are the results for N=100 and N=1000?"
     ]
    },
    {
     "cell_type": "code",
     "collapsed": false,
     "input": [
      "f=lambda x: x**4-2*x+1\n",
      "N=100\n",
      "a=0.0\n",
      "b=2.0\n",
      "h=(b-a)/N\n",
      "s=.5*f(a)+.5*f(b)\n",
      "for k in range(1,N):\n",
      "    s+=f(a+k*h)\n",
      "print (h*s)\n",
      "#When N = 100"
     ],
     "language": "python",
     "metadata": {},
     "outputs": [
      {
       "output_type": "stream",
       "stream": "stdout",
       "text": [
        "4.401066656\n"
       ]
      }
     ],
     "prompt_number": 16
    },
    {
     "cell_type": "code",
     "collapsed": false,
     "input": [
      "f=lambda x: x**4-2*x+1\n",
      "N=1000\n",
      "a=0.0\n",
      "b=2.0\n",
      "h=(b-a)/N\n",
      "s=.5*f(a)+.5*f(b)\n",
      "for k in range(1,N):\n",
      "    s+=f(a+k*h)\n",
      "print (h*s)\n",
      "#When N=1000"
     ],
     "language": "python",
     "metadata": {},
     "outputs": [
      {
       "output_type": "stream",
       "stream": "stdout",
       "text": [
        "4.40001066667\n"
       ]
      }
     ],
     "prompt_number": 41
    },
    {
     "cell_type": "markdown",
     "metadata": {},
     "source": [
      "###Exersice 2: Simpson's Rule"
     ]
    },
    {
     "cell_type": "code",
     "collapsed": false,
     "input": [
      "N=10\n",
      "\n",
      "a=0.0\n",
      "b=2.0\n",
      "h=(b-a)/N\n",
      "\n",
      "c=f(0) #ex^2+dx+c for simpson's rule\n",
      "d=(1/(2*h))*(f(h)-f(-h))\n",
      "e=(1/h**2.)*(.5*f(-h)-f(0)+.5*f(h))\n",
      "\n",
      "s=f(a)+f(b)\n",
      "for k in range(1,N/2+1):\n",
      "    s+=4.*f(a+(2.*k-1.)*h)\n",
      "for k in range(1,N/2):\n",
      "    s+=2.*f(a+2*k*h)\n",
      "print h*s/3\n",
      "print (((h*s/3)/4.4)-1)*100\n"
     ],
     "language": "python",
     "metadata": {},
     "outputs": [
      {
       "output_type": "stream",
       "stream": "stdout",
       "text": [
        "4.40042666667\n",
        "0.00969696969699\n"
       ]
      }
     ],
     "prompt_number": 48
    },
    {
     "cell_type": "markdown",
     "metadata": {},
     "source": [
      "Top print tells us the value of our numerical approx.\n",
      "Bottom print is the percent difference between known and simpsons"
     ]
    },
    {
     "cell_type": "code",
     "collapsed": false,
     "input": [
      "N=100\n",
      "\n",
      "a=0.0\n",
      "b=2.0\n",
      "h=(b-a)/N\n",
      "\n",
      "c=f(0) #ex^2+dx+c for simpson's rule\n",
      "d=(1/(2*h))*(f(h)-f(-h))\n",
      "e=(1/h**2.)*(.5*f(-h)-f(0)+.5*f(h))\n",
      "\n",
      "s=f(a)+f(b)\n",
      "for k in range(1,N/2+1):\n",
      "    s+=4.*f(a+(2.*k-1.)*h)\n",
      "for k in range(1,N/2):\n",
      "    s+=2.*f(a+2*k*h)\n",
      "print h*s/3\n",
      "print (((h*s/3)/4.4)-1)*100"
     ],
     "language": "python",
     "metadata": {},
     "outputs": [
      {
       "output_type": "stream",
       "stream": "stdout",
       "text": [
        "4.40000004267\n",
        "9.69696967168e-07\n"
       ]
      }
     ],
     "prompt_number": 49
    },
    {
     "cell_type": "code",
     "collapsed": false,
     "input": [
      "N=1000\n",
      "\n",
      "a=0.0\n",
      "b=2.0\n",
      "h=(b-a)/N\n",
      "\n",
      "c=f(0) #ex^2+dx+c for simpson's rule\n",
      "d=(1/(2*h))*(f(h)-f(-h))\n",
      "e=(1/h**2.)*(.5*f(-h)-f(0)+.5*f(h))\n",
      "\n",
      "s=f(a)+f(b)\n",
      "for k in range(1,N/2+1):\n",
      "    s+=4.*f(a+(2.*k-1.)*h)\n",
      "for k in range(1,N/2):\n",
      "    s+=2.*f(a+2*k*h)\n",
      "print h*s/3\n",
      "print (((h*s/3)/4.4)-1)*100"
     ],
     "language": "python",
     "metadata": {},
     "outputs": [
      {
       "output_type": "stream",
       "stream": "stdout",
       "text": [
        "4.4\n",
        "9.69446745103e-11\n"
       ]
      }
     ],
     "prompt_number": 50
    },
    {
     "cell_type": "markdown",
     "metadata": {},
     "source": [
      "The results are very good for N=100/N=1000.  For N=1000 our percent error is 10^-11! Simpson's rule seems to trump the trapezoidal rule"
     ]
    },
    {
     "cell_type": "markdown",
     "metadata": {},
     "source": [
      "###Exersice 3"
     ]
    },
    {
     "cell_type": "code",
     "collapsed": false,
     "input": [
      "import scipy.integrate as integrate\n",
      "data = loadtxt(\"velocities.txt\",float)\n",
      "t = data[:,0]\n",
      "V = data[:,1]"
     ],
     "language": "python",
     "metadata": {},
     "outputs": [],
     "prompt_number": 2
    },
    {
     "cell_type": "code",
     "collapsed": false,
     "input": [
      "scatter(t,V)\n",
      "xlabel('time (s)')\n",
      "ylabel('Velocity (m/s)')\n",
      "show()"
     ],
     "language": "python",
     "metadata": {},
     "outputs": [
      {
       "output_type": "display_data",
       "png": "[encoded data removed]"
      }
     ],
     "prompt_number": 3
    },
    {
     "cell_type": "code",
     "collapsed": false,
     "input": [
      "result = integrate.trapz(V,t)\n",
      "print(result)\n",
      "#total distance traveled"
     ],
     "language": "python",
     "metadata": {},
     "outputs": [
      {
       "output_type": "stream",
       "stream": "stdout",
       "text": [
        "8.218924\n"
       ]
      }
     ],
     "prompt_number": 4
    },
    {
     "cell_type": "code",
     "collapsed": false,
     "input": [
      "X=zeros(t.shape,float)\n",
      "X[0]=0\n",
      "X[1:]=integrate.cumtrapz(V,t,.01)\n"
     ],
     "language": "python",
     "metadata": {},
     "outputs": [],
     "prompt_number": 31
    },
    {
     "cell_type": "code",
     "collapsed": false,
     "input": [
      "plot(t,X)\n",
      "show()"
     ],
     "language": "python",
     "metadata": {},
     "outputs": [
      {
       "output_type": "display_data",
       "png": "[encoded data removed]"
      }
     ],
     "prompt_number": 34
    },
    {
     "cell_type": "code",
     "collapsed": false,
     "input": [],
     "language": "python",
     "metadata": {},
     "outputs": []
    }
   ],
   "metadata": {}
  }
 ]
}