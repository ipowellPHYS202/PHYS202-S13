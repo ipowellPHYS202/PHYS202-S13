{
 "metadata": {
  "name": "ProjectEuler4"
 },
 "nbformat": 3,
 "nbformat_minor": 0,
 "worksheets": [
  {
   "cells": [
    {
     "cell_type": "markdown",
     "metadata": {},
     "source": [
      "###Largest palindrome product\n",
      "Problem 4"
     ]
    },
    {
     "cell_type": "markdown",
     "metadata": {},
     "source": [
      "A palindromic number reads the same both ways. The largest palindrome made from the product of two 2-digit numbers is 9009 = 91 99.\n",
      "\n",
      "Find the largest palindrome made from the product of two 3-digit numbers."
     ]
    },
    {
     "cell_type": "code",
     "collapsed": false,
     "input": [
      "#I create a function to check if i is a Palindromic number: if the number reads the same both ways,\n",
      "#it's palindromic!\n",
      "def Palindrome(i):\n",
      "    if str(i)==str(i)[::-1]:\n",
      "        return str(i)\n",
      "    else:\n",
      "        return 0"
     ],
     "language": "python",
     "metadata": {},
     "outputs": [],
     "prompt_number": 51
    },
    {
     "cell_type": "code",
     "collapsed": false,
     "input": [
      "#An example of the function, note that 9009 is in fact palindromic\n",
      "print Palindrome(9000)\n",
      "print Palindrome(9009)"
     ],
     "language": "python",
     "metadata": {},
     "outputs": [
      {
       "output_type": "stream",
       "stream": "stdout",
       "text": [
        "0\n",
        "9009\n"
       ]
      }
     ],
     "prompt_number": 57
    },
    {
     "cell_type": "code",
     "collapsed": false,
     "input": [
      "#I initialize my double for loop\n",
      "s_prime=0\n",
      "#A test case for the double digit range:\n",
      "for i in range(10, 100):\n",
      "    for k in range(10, 100):\n",
      "#I define s as my product of integers in the ranges\n",
      "        s = i * k\n",
      "        if Palindrome(s):\n",
      "#Check if Palindromic and largest\n",
      "            if s > s_prime:\n",
      "                s_prime = s\n",
      "print s_prime"
     ],
     "language": "python",
     "metadata": {},
     "outputs": [
      {
       "output_type": "stream",
       "stream": "stdout",
       "text": [
        "9009\n"
       ]
      }
     ],
     "prompt_number": 88
    },
    {
     "cell_type": "markdown",
     "metadata": {},
     "source": [
      "Our test case checks out so let's see what the answer is to the problem!"
     ]
    },
    {
     "cell_type": "code",
     "collapsed": false,
     "input": [
      "#Just changing the ranges to triple digit numbers\n",
      "s_prime=0\n",
      "for i in range(100, 1000):\n",
      "    for k in range(100, 1000):\n",
      "        s = i * k\n",
      "        if Palindrome(s):\n",
      "            if s > s_prime:\n",
      "                s_prime = s\n",
      "print s_prime"
     ],
     "language": "python",
     "metadata": {},
     "outputs": [
      {
       "output_type": "stream",
       "stream": "stdout",
       "text": [
        "906609\n"
       ]
      }
     ],
     "prompt_number": 89
    },
    {
     "cell_type": "markdown",
     "metadata": {},
     "source": [
      "Thus 906609 is the largest palindrome made from multiplying two 3-digit numbers"
     ]
    },
    {
     "cell_type": "code",
     "collapsed": false,
     "input": [],
     "language": "python",
     "metadata": {},
     "outputs": []
    }
   ],
   "metadata": {}
  }
 ]
}