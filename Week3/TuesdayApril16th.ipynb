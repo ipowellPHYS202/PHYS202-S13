{
 "metadata": {
  "name": "TuesdayApril16th"
 },
 "nbformat": 3,
 "nbformat_minor": 0,
 "worksheets": [
  {
   "cells": [
    {
     "cell_type": "markdown",
     "metadata": {},
     "source": [
      "Using Matplotlib to make pretty graphs"
     ]
    },
    {
     "cell_type": "code",
     "collapsed": false,
     "input": [
      "#simple line plot\n",
      "t = arange(0.0,1.01,.01)\n",
      "c = cos(4*pi*t)\n",
      "s = sin(pi*t)\n",
      "print pi"
     ],
     "language": "python",
     "metadata": {},
     "outputs": [
      {
       "output_type": "stream",
       "stream": "stdout",
       "text": [
        "3.14159265359\n"
       ]
      }
     ],
     "prompt_number": 52
    },
    {
     "cell_type": "code",
     "collapsed": false,
     "input": [
      "print e"
     ],
     "language": "python",
     "metadata": {},
     "outputs": [
      {
       "output_type": "stream",
       "stream": "stdout",
       "text": [
        "2.71828182846\n"
       ]
      }
     ],
     "prompt_number": 53
    },
    {
     "cell_type": "code",
     "collapsed": false,
     "input": [
      "print c"
     ],
     "language": "python",
     "metadata": {},
     "outputs": [
      {
       "output_type": "stream",
       "stream": "stdout",
       "text": [
        "[ 1.          0.9921147   0.96858316  0.92977649  0.87630668  0.80901699\n",
        "  0.72896863  0.63742399  0.53582679  0.42577929  0.30901699  0.18738131\n",
        "  0.06279052 -0.06279052 -0.18738131 -0.30901699 -0.42577929 -0.53582679\n",
        " -0.63742399 -0.72896863 -0.80901699 -0.87630668 -0.92977649 -0.96858316\n",
        " -0.9921147  -1.         -0.9921147  -0.96858316 -0.92977649 -0.87630668\n",
        " -0.80901699 -0.72896863 -0.63742399 -0.53582679 -0.42577929 -0.30901699\n",
        " -0.18738131 -0.06279052  0.06279052  0.18738131  0.30901699  0.42577929\n",
        "  0.53582679  0.63742399  0.72896863  0.80901699  0.87630668  0.92977649\n",
        "  0.96858316  0.9921147   1.          0.9921147   0.96858316  0.92977649\n",
        "  0.87630668  0.80901699  0.72896863  0.63742399  0.53582679  0.42577929\n",
        "  0.30901699  0.18738131  0.06279052 -0.06279052 -0.18738131 -0.30901699\n",
        " -0.42577929 -0.53582679 -0.63742399 -0.72896863 -0.80901699 -0.87630668\n",
        " -0.92977649 -0.96858316 -0.9921147  -1.         -0.9921147  -0.96858316\n",
        " -0.92977649 -0.87630668 -0.80901699 -0.72896863 -0.63742399 -0.53582679\n",
        " -0.42577929 -0.30901699 -0.18738131 -0.06279052  0.06279052  0.18738131\n",
        "  0.30901699  0.42577929  0.53582679  0.63742399  0.72896863  0.80901699\n",
        "  0.87630668  0.92977649  0.96858316  0.9921147   1.        ]\n"
       ]
      }
     ],
     "prompt_number": 54
    },
    {
     "cell_type": "code",
     "collapsed": false,
     "input": [
      "plot(t,s)\n",
      "xlabel(\"time (s)\", fontsize = 12)\n",
      "ylabel(\"voltage (mV)\", fontsize=12)\n",
      "title(\"DOPEBOY FRESH\", fontsize=15)\n"
     ],
     "language": "python",
     "metadata": {},
     "outputs": [
      {
       "output_type": "pyout",
       "prompt_number": 55,
       "text": [
        "<matplotlib.text.Text at 0x10e8accd0>"
       ]
      },
      {
       "output_type": "display_data",
       "png": "[encoded data removed]"
      }
     ],
     "prompt_number": 55
    },
    {
     "cell_type": "code",
     "collapsed": false,
     "input": [
      "plot(s,c,color=\"black\", linewidth=2, label=\"$sin({4\\pi}t)$ vs $cos({\\pi}t)$\")\n",
      "plot(t,t, linewidth =1.5, label=\"$time$ vs $time$\")\n",
      "plot(c,s, label=(\"\")\n",
      "xlabel(\"magnetism (mH)\")\n",
      "ylabel(\"THOTs (tH)\")\n",
      "title(\"Thirst vs time\", fontsize=10)\n",
      "legend()\n",
      "show()"
     ],
     "language": "python",
     "metadata": {},
     "outputs": [
      {
       "ename": "SyntaxError",
       "evalue": "invalid syntax (<ipython-input-56-ad1ebc09f0cf>, line 4)",
       "output_type": "pyerr",
       "traceback": [
        "\u001b[0;36m  File \u001b[0;32m\"<ipython-input-56-ad1ebc09f0cf>\"\u001b[0;36m, line \u001b[0;32m4\u001b[0m\n\u001b[0;31m    xlabel(\"magnetism (mH)\")\u001b[0m\n\u001b[0m         ^\u001b[0m\n\u001b[0;31mSyntaxError\u001b[0m\u001b[0;31m:\u001b[0m invalid syntax\n"
       ]
      }
     ],
     "prompt_number": 56
    },
    {
     "cell_type": "code",
     "collapsed": false,
     "input": [
      "plot(c,t)"
     ],
     "language": "python",
     "metadata": {},
     "outputs": [
      {
       "output_type": "pyout",
       "prompt_number": 57,
       "text": [
        "[<matplotlib.lines.Line2D at 0x10ecba490>]"
       ]
      },
      {
       "output_type": "display_data",
       "png": "[encoded data removed]"
      }
     ],
     "prompt_number": 57
    },
    {
     "cell_type": "code",
     "collapsed": false,
     "input": [],
     "language": "python",
     "metadata": {},
     "outputs": [],
     "prompt_number": 56
    },
    {
     "cell_type": "code",
     "collapsed": false,
     "input": [],
     "language": "python",
     "metadata": {},
     "outputs": [],
     "prompt_number": 56
    },
    {
     "cell_type": "code",
     "collapsed": false,
     "input": [],
     "language": "python",
     "metadata": {},
     "outputs": []
    }
   ],
   "metadata": {}
  }
 ]
}