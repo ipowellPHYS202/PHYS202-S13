{
 "metadata": {
  "name": "GraphicsEx2"
 },
 "nbformat": 3,
 "nbformat_minor": 0,
 "worksheets": [
  {
   "cells": [
    {
     "cell_type": "markdown",
     "metadata": {},
     "source": [
      "###Question 1\n"
     ]
    },
    {
     "cell_type": "markdown",
     "metadata": {},
     "source": [
      "a."
     ]
    },
    {
     "cell_type": "markdown",
     "metadata": {},
     "source": [
      "$\\psi_{k} = A(\\frac{ik - tanh(ax)}\n",
      "{ik+a})e^{+ikx}$"
     ]
    },
    {
     "cell_type": "markdown",
     "metadata": {},
     "source": [
      "b."
     ]
    },
    {
     "cell_type": "markdown",
     "metadata": {},
     "source": [
      "$v_1 = m_2\\sqrt{\\frac{2G}{M}(\\frac{1}{r} - \\frac{1}{r_0})}$"
     ]
    },
    {
     "cell_type": "markdown",
     "metadata": {},
     "source": [
      "c."
     ]
    },
    {
     "cell_type": "markdown",
     "metadata": {},
     "source": [
      "$f({\\theta}) = \\frac{\\hslash}{p}\\{\\sum\\limits_{l=0}^{\\infty} (2\\ell +1)e^{i\\delta_\\ell}sin{\\delta_\\ell}{P_\\ell}cos(\\theta)}$"
     ]
    },
    {
     "cell_type": "markdown",
     "metadata": {},
     "source": [
      "d."
     ]
    },
    {
     "cell_type": "markdown",
     "metadata": {},
     "source": [
      "$\\frac{d\\sigma}{d\\Omega} = \\frac{k\\pi^2(\\pi - \\theta)}{mu_0^2\\theta^2(2\\pi - \\theta)^2sin\\theta}$"
     ]
    },
    {
     "cell_type": "markdown",
     "metadata": {},
     "source": [
      "e."
     ]
    },
    {
     "cell_type": "markdown",
     "metadata": {},
     "source": [
      "$\\langle f \\rangle = \\frac{1}{\\tau}\\int\\limits_{0}^{\\tau}f(t)dt$"
     ]
    },
    {
     "cell_type": "markdown",
     "metadata": {},
     "source": [
      "f."
     ]
    },
    {
     "cell_type": "markdown",
     "metadata": {},
     "source": [
      "$\\Omega_S = \\omega\\frac{sin\\alpha}{sin\\omega} = \\frac{L}{\\lambda_1} = \\omega\\frac{\\sqrt{\\lambda_3^2+(\\lambda_1^2-\\lambda_3^2)}}{\\lambda_1}$"
     ]
    },
    {
     "cell_type": "markdown",
     "metadata": {},
     "source": [
      "###Question 2"
     ]
    },
    {
     "cell_type": "code",
     "collapsed": false,
     "input": [],
     "language": "python",
     "metadata": {},
     "outputs": []
    }
   ],
   "metadata": {}
  }
 ]
}