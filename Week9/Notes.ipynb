{
 "metadata": {
  "name": "Notes"
 },
 "nbformat": 3,
 "nbformat_minor": 0,
 "worksheets": [
  {
   "cells": [
    {
     "cell_type": "markdown",
     "metadata": {},
     "source": [
      "#Week 9 Notes"
     ]
    },
    {
     "cell_type": "code",
     "collapsed": false,
     "input": [
      "DataIn = loadtxt('input.dat')\n",
      "print DataIn.shape\n",
      "print DataIn"
     ],
     "language": "python",
     "metadata": {},
     "outputs": [
      {
       "output_type": "stream",
       "stream": "stdout",
       "text": [
        "(5, 3)\n",
        "[[ 0.   1.1  0.1]\n",
        " [ 2.   1.9  0.2]\n",
        " [ 4.   3.2  0.1]\n",
        " [ 6.   4.   0.3]\n",
        " [ 8.   5.9  0.3]]\n"
       ]
      }
     ],
     "prompt_number": 96
    },
    {
     "cell_type": "code",
     "collapsed": false,
     "input": [
      "print DataIn[:,2]"
     ],
     "language": "python",
     "metadata": {},
     "outputs": [
      {
       "output_type": "stream",
       "stream": "stdout",
       "text": [
        "[ 0.1  0.2  0.1  0.3  0.3]\n"
       ]
      }
     ],
     "prompt_number": 97
    },
    {
     "cell_type": "code",
     "collapsed": false,
     "input": [
      "x,y,yerr = loadtxt('input.dat',unpack=True)\n",
      "print x\n",
      "print y\n",
      "print yerr"
     ],
     "language": "python",
     "metadata": {},
     "outputs": [
      {
       "output_type": "stream",
       "stream": "stdout",
       "text": [
        "[ 0.  2.  4.  6.  8.]\n",
        "[ 1.1  1.9  3.2  4.   5.9]\n",
        "[ 0.1  0.2  0.1  0.3  0.3]\n"
       ]
      }
     ],
     "prompt_number": 98
    },
    {
     "cell_type": "code",
     "collapsed": false,
     "input": [
      "x,y = loadtxt('input.dat',unpack=True, usecols=[0,1])\n",
      "print x\n",
      "print y"
     ],
     "language": "python",
     "metadata": {},
     "outputs": [
      {
       "output_type": "stream",
       "stream": "stdout",
       "text": [
        "[ 0.  2.  4.  6.  8.]\n",
        "[ 1.1  1.9  3.2  4.   5.9]\n"
       ]
      }
     ],
     "prompt_number": 99
    },
    {
     "cell_type": "code",
     "collapsed": false,
     "input": [
      "x,y = loadtxt('input.csv',unpack=True, usecols=[0,1])\n",
      "print x,y"
     ],
     "language": "python",
     "metadata": {},
     "outputs": [
      {
       "ename": "ValueError",
       "evalue": "invalid literal for float(): 0.0,",
       "output_type": "pyerr",
       "traceback": [
        "\u001b[1;31m---------------------------------------------------------------------------\u001b[0m\n\u001b[1;31mValueError\u001b[0m                                Traceback (most recent call last)",
        "\u001b[1;32m<ipython-input-100-ccdc942ac098>\u001b[0m in \u001b[0;36m<module>\u001b[1;34m()\u001b[0m\n\u001b[1;32m----> 1\u001b[1;33m \u001b[0mx\u001b[0m\u001b[1;33m,\u001b[0m\u001b[0my\u001b[0m \u001b[1;33m=\u001b[0m \u001b[0mloadtxt\u001b[0m\u001b[1;33m(\u001b[0m\u001b[1;34m'input.csv'\u001b[0m\u001b[1;33m,\u001b[0m\u001b[0munpack\u001b[0m\u001b[1;33m=\u001b[0m\u001b[0mTrue\u001b[0m\u001b[1;33m,\u001b[0m \u001b[0musecols\u001b[0m\u001b[1;33m=\u001b[0m\u001b[1;33m[\u001b[0m\u001b[1;36m0\u001b[0m\u001b[1;33m,\u001b[0m\u001b[1;36m1\u001b[0m\u001b[1;33m]\u001b[0m\u001b[1;33m)\u001b[0m\u001b[1;33m\u001b[0m\u001b[0m\n\u001b[0m\u001b[0;32m      2\u001b[0m \u001b[1;32mprint\u001b[0m \u001b[0mx\u001b[0m\u001b[1;33m,\u001b[0m\u001b[0my\u001b[0m\u001b[1;33m\u001b[0m\u001b[0m\n",
        "\u001b[1;32m/usr/lib/pymodules/python2.7/numpy/lib/npyio.pyc\u001b[0m in \u001b[0;36mloadtxt\u001b[1;34m(fname, dtype, comments, delimiter, converters, skiprows, usecols, unpack)\u001b[0m\n\u001b[0;32m    711\u001b[0m \u001b[1;33m\u001b[0m\u001b[0m\n\u001b[0;32m    712\u001b[0m             \u001b[1;31m# Convert each value according to its column and store\u001b[0m\u001b[1;33m\u001b[0m\u001b[1;33m\u001b[0m\u001b[0m\n\u001b[1;32m--> 713\u001b[1;33m             \u001b[0mX\u001b[0m\u001b[1;33m.\u001b[0m\u001b[0mappend\u001b[0m\u001b[1;33m(\u001b[0m\u001b[0mtuple\u001b[0m\u001b[1;33m(\u001b[0m\u001b[1;33m[\u001b[0m\u001b[0mconv\u001b[0m\u001b[1;33m(\u001b[0m\u001b[0mval\u001b[0m\u001b[1;33m)\u001b[0m \u001b[1;32mfor\u001b[0m \u001b[1;33m(\u001b[0m\u001b[0mconv\u001b[0m\u001b[1;33m,\u001b[0m \u001b[0mval\u001b[0m\u001b[1;33m)\u001b[0m \u001b[1;32min\u001b[0m \u001b[0mzip\u001b[0m\u001b[1;33m(\u001b[0m\u001b[0mconverters\u001b[0m\u001b[1;33m,\u001b[0m \u001b[0mvals\u001b[0m\u001b[1;33m)\u001b[0m\u001b[1;33m]\u001b[0m\u001b[1;33m)\u001b[0m\u001b[1;33m)\u001b[0m\u001b[1;33m\u001b[0m\u001b[0m\n\u001b[0m\u001b[0;32m    714\u001b[0m     \u001b[1;32mfinally\u001b[0m\u001b[1;33m:\u001b[0m\u001b[1;33m\u001b[0m\u001b[0m\n\u001b[0;32m    715\u001b[0m         \u001b[1;32mif\u001b[0m \u001b[0mown_fh\u001b[0m\u001b[1;33m:\u001b[0m\u001b[1;33m\u001b[0m\u001b[0m\n",
        "\u001b[1;31mValueError\u001b[0m: invalid literal for float(): 0.0,"
       ]
      }
     ],
     "prompt_number": 100
    },
    {
     "cell_type": "code",
     "collapsed": false,
     "input": [
      "t = array([0,1,2,3,4,5,6,7,8,9])\n",
      "v = array([0.137,0.456,0.591,0.713,0.859,0.926,1.139,1.327,1.512,1.875])\n",
      "p = array(0.15+v/10.)"
     ],
     "language": "python",
     "metadata": {},
     "outputs": [],
     "prompt_number": 101
    },
    {
     "cell_type": "code",
     "collapsed": false,
     "input": [
      "savetxt('output.dat', (t,p))"
     ],
     "language": "python",
     "metadata": {},
     "outputs": [],
     "prompt_number": 102
    },
    {
     "cell_type": "code",
     "collapsed": false,
     "input": [
      "DataOut = column_stack((t,p))\n",
      "savetxt('output.dat',DataOut)"
     ],
     "language": "python",
     "metadata": {},
     "outputs": [],
     "prompt_number": 103
    },
    {
     "cell_type": "code",
     "collapsed": false,
     "input": [
      "savetxt('output.dat',DataOut,fmt=('%3i', '%4.3f'))"
     ],
     "language": "python",
     "metadata": {},
     "outputs": [],
     "prompt_number": 104
    },
    {
     "cell_type": "code",
     "collapsed": false,
     "input": [
      "f = open('output.dat','w')\n",
      "f.write(\"#My comment for this file, followed by a blank line, then the data\\n\\n\")\n",
      "savetxt(f,DataOut,fmt=('%3i','%4.3f'))\n",
      "f.close()"
     ],
     "language": "python",
     "metadata": {},
     "outputs": [],
     "prompt_number": 105
    },
    {
     "cell_type": "markdown",
     "metadata": {},
     "source": [
      "###Exercise 1"
     ]
    },
    {
     "cell_type": "code",
     "collapsed": false,
     "input": [
      "#saving the arrays into a data file\n",
      "t = array(arange(1,11))\n",
      "#print t\n",
      "x = array([7.75, 7.33,6.89,6.45,5.96,5.55,5.10,4.49,3.93,3.58])\n",
      "x_err = array([0.02,0.03,0.03,0.04,0.05,0.06,0.08,0.11,0.14,0.17])\n",
      "DataOut = column_stack((t,x,x_err))\n",
      "savetxt('linearData.dat',DataOut)"
     ],
     "language": "python",
     "metadata": {},
     "outputs": [],
     "prompt_number": 106
    },
    {
     "cell_type": "code",
     "collapsed": false,
     "input": [
      "#Making the Data file a CSV file\n",
      "savetxt('linearData.csv',DataOut,delimiter=',')"
     ],
     "language": "python",
     "metadata": {},
     "outputs": [],
     "prompt_number": 107
    },
    {
     "cell_type": "markdown",
     "metadata": {},
     "source": [
      "###Exercise 2"
     ]
    },
    {
     "cell_type": "code",
     "collapsed": false,
     "input": [
      "def LinearLeastSquaresFit(x,y):\n",
      "    \"\"\"take in arrays representing (x,y) values for a set of linearly varying data and\n",
      "    perform a linear least squares regression. Return the resulting slope and intercept\n",
      "    parameters of the best fit like with their uncertainties.\"\"\"\n",
      "    x_bar = mean(x)\n",
      "    y_bar = mean(y)\n",
      "    x_sq_bar = mean(x**2)\n",
      "    xy_bar = mean(x*y)\n",
      "    \n",
      "    n = double(len(x))\n",
      "    m = (xy_bar - (x_bar*y_bar))/(x_sq_bar - (x_bar**2))\n",
      "    b = ((x_sq_bar*y_bar) - (x_bar*xy_bar))/(x_sq_bar - (x_bar**2))\n",
      "    \n",
      "    delta = y-(m*x + b)\n",
      "    d_sq_bar = mean(delta**2)\n",
      "    sigmam = sqrt((1/(n-2))*(d_sq_bar/(x_sq_bar - (x_bar**2))))\n",
      "    sigmab = sqrt((1/(n-2))*((d_sq_bar*x_sq_bar)/(x_sq_bar - (x_bar**2))))\n",
      "    \n",
      "    return m,b,sigmam,sigmab"
     ],
     "language": "python",
     "metadata": {},
     "outputs": [],
     "prompt_number": 108
    },
    {
     "cell_type": "code",
     "collapsed": false,
     "input": [
      "x,y = loadtxt('linearData.dat', unpack=True, usecols=[0,1])\n",
      "m,b,sigmam,sigmab = LinearLeastSquaresFit(x,y)\n",
      "\n",
      "print 'm = %.4f +/- %.4f' % (m,sigmam)\n",
      "print 'b = %.4f +/- %.4f' % (b,sigmab)"
     ],
     "language": "python",
     "metadata": {},
     "outputs": [
      {
       "output_type": "stream",
       "stream": "stdout",
       "text": [
        "m = -0.4715 +/- 0.0080\n",
        "b = 8.2960 +/- 0.0496\n"
       ]
      }
     ],
     "prompt_number": 109
    },
    {
     "cell_type": "code",
     "collapsed": false,
     "input": [
      "x = arange(0,10.1,0.1)\n",
      "\n",
      "plot(x,m*x+b, 'k',label='y = %.4f x + %.4f'%(m,b), lw=2)\n",
      "plot(x,(m+sigmam)*x + (b+sigmab),'b--', label = 'y = (%.4f + %.4f) x + (%.4f + %.4f)'%(m,sigmam,b,sigmab), lw=1)\n",
      "plot(x,(m-sigmam)*x + (b-sigmab),'g--', label = 'y = (%.4f - %.4f) x + (%.4f - %.4f)'%(m,sigmam,b,sigmab), lw=1)\n",
      "title(\"Linear Fit Data\", size=15)\n",
      "\n",
      "xlabel(\"x\")\n",
      "ylabel(\"y\")\n",
      "\n",
      "legend(loc = 0,prop={'size':8})\n",
      "show()"
     ],
     "language": "python",
     "metadata": {},
     "outputs": [
      {
       "output_type": "display_data",
       "png": "[encoded data removed]"
      }
     ],
     "prompt_number": 110
    },
    {
     "cell_type": "markdown",
     "metadata": {},
     "source": [
      "###Exercise 3"
     ]
    },
    {
     "cell_type": "code",
     "collapsed": false,
     "input": [
      "def WeightedLinearLeastSquaresFit(x,y,w):\n",
      "    \"\"\"Take in arrays representing (x,y) values for a set of linearly varying data and an array of weights w.\n",
      "    Perform a weighhted linear least squares regression.  Return the resulting slope and intercept\n",
      "    parameters of the best fit line with their uncertainties.\n",
      "    \n",
      "    If the weights are all equal to one, the uncertainties on the parameters are calculated using the non-weighted least squares equations.\"\"\"\n",
      "    \n",
      "    m =(sum(w)*sum(w*x*y) - sum(w*x)*sum(w*y))/((sum(w)*sum(w*x**2)) - (sum(w*x))**2)\n",
      "    b =(sum(w*x**2)*sum(w*y) - sum(w*x)*sum(w*x*y))/(sum(w)*sum(w*x**2) - (sum(w*x)**2))\n",
      "    #If all weights are 1:\n",
      "    if(all( i == 1 for i in w)):\n",
      "    #Same Code as Above\n",
      "        n =double(len(x))\n",
      "        delta=y-(m*x+b)\n",
      "        d_sq_bar=mean(delta**2)\n",
      "        sigmam = sqrt((1/(n-2))*(d_sq_bar/(mean(x**2)-(mean(x)**2))))\n",
      "        sigmab = sqrt((1/(n-2))*((d_sq_bar*mean(x**2))/(mean(x**2)-(mean(x)**2))))\n",
      "    else:\n",
      "    #New Code for all weights != 1\n",
      "        sigmam = sqrt(sum(w)/(sum(w)*sum(w*x**2)-(sum(w*x)**2)))\n",
      "        sigmab = sqrt(sum(w*x**2)/(sum(w)*sum(w*x**2)-(sum(w*x)**2)))\n",
      "    \n",
      "    return m,sigmam,b,sigmab"
     ],
     "language": "python",
     "metadata": {},
     "outputs": [],
     "prompt_number": 111
    },
    {
     "cell_type": "code",
     "collapsed": false,
     "input": [
      "#loading data and defining variables:\n",
      "\n",
      "x,y,w = loadtxt('linearData.dat',unpack=True)\n",
      "m,sigmam,b,sigmab = WeightedLinearLeastSquaresFit(x,y,w)\n",
      "\n",
      "print 'm = %.4f +/- %.4f' % (m,sigmam)\n",
      "print 'b = %.4f +/- %.4f' % (b,sigmab)"
     ],
     "language": "python",
     "metadata": {},
     "outputs": [
      {
       "output_type": "stream",
       "stream": "stdout",
       "text": [
        "m = -0.4794 +/- 0.0085\n",
        "b = 8.3439 +/- 0.0527\n"
       ]
      }
     ],
     "prompt_number": 112
    },
    {
     "cell_type": "code",
     "collapsed": false,
     "input": [
      "#plotting\n",
      "\n",
      "def func(x):\n",
      "    return m*x+b\n",
      "errorbar(x,y,w,fmt='k.',label='Data')\n",
      "plot(x,(m*x+b),'b-',linewidth=1,label='y= %.4f x + %.4f' % (m,b))\n",
      "plot(x,(m+sigmam)*x+(b-sigmab),'k--',linewidth=1.8,label='y= (%.4f + %.4f) x + (%.4f + %.4f)' % (m,sigmam,b,sigmab))\n",
      "plot(x,x*(m-sigmam)+(b-sigmab),'r--',linewidth=1.8,label='y= (%.4f - %.4f) x + (%.4f - %.4f)' % (m,sigmam,b,sigmab))\n",
      "legend(loc=0,prop={'size':8})\n",
      "\n",
      "ylim(4)\n",
      "title('Linear Fit Data')\n",
      "show()"
     ],
     "language": "python",
     "metadata": {},
     "outputs": [
      {
       "output_type": "display_data",
       "png": "[encoded data removed]"
      }
     ],
     "prompt_number": 115
    },
    {
     "cell_type": "code",
     "collapsed": false,
     "input": [],
     "language": "python",
     "metadata": {},
     "outputs": []
    }
   ],
   "metadata": {}
  }
 ]
}