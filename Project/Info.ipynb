{
 "metadata": {
  "name": "Info"
 },
 "nbformat": 3,
 "nbformat_minor": 0,
 "worksheets": [
  {
   "cells": [
    {
     "cell_type": "markdown",
     "metadata": {},
     "source": [
      "#How to Run the Program"
     ]
    },
    {
     "cell_type": "markdown",
     "metadata": {},
     "source": [
      "###In the beginning of the main file \"1DTrafficFlow.ipynb\" you will find 3 main functions:"
     ]
    },
    {
     "cell_type": "markdown",
     "metadata": {},
     "source": [
      "I) The CA184 Function"
     ]
    },
    {
     "cell_type": "markdown",
     "metadata": {},
     "source": [
      "II) The STCA Function"
     ]
    },
    {
     "cell_type": "markdown",
     "metadata": {},
     "source": [
      "III) The ASEP Function"
     ]
    },
    {
     "cell_type": "markdown",
     "metadata": {},
     "source": [
      "###Each function follows its own special logic in traffic simulation, to find more about each function read along in the comments in the definitions of the functions."
     ]
    },
    {
     "cell_type": "markdown",
     "metadata": {},
     "source": [
      "###These functions call on initial conditions of positions, velocities, how many cars, and the length of the road. Notice that the positions and velocities are created randomly in each cell but an input of arrays will yield the same results."
     ]
    },
    {
     "cell_type": "markdown",
     "metadata": {},
     "source": [
      "###The next section of the program includes plots of current and average velocity vs. time for each of the functions.  You can change the max velocity of the cars (the speed limit) along with the number of cars etc. to analyze different behavior in average velocity or current vs. time steps."
     ]
    },
    {
     "cell_type": "markdown",
     "metadata": {},
     "source": [
      "###Finally there are the current vs. density plots and the Graphical User Interface at the end of the program.  The current vs. density plots depict how each function behaves under higher or lower densities of cars on some given road.  The Graphical User Interface at the end of the program animates how these cars would move under the logical conditions given by the CA184, STCA, and ASEP models. Initial conditions can be changed in the animation to gain insight into the models' different behaviors."
     ]
    },
    {
     "cell_type": "markdown",
     "metadata": {},
     "source": [
      "#So now go check out the Program!"
     ]
    }
   ],
   "metadata": {}
  }
 ]
}