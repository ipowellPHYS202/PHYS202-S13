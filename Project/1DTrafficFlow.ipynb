{
 "metadata": {
  "name": "1DTrafficFlow"
 },
 "nbformat": 3,
 "nbformat_minor": 0,
 "worksheets": [
  {
   "cells": [
    {
     "cell_type": "markdown",
     "metadata": {},
     "source": [
      "###Testing a pseudo-CA184 Function"
     ]
    },
    {
     "cell_type": "code",
     "collapsed": false,
     "input": [
      "###Here I have a working function that takes our arguments x,v,l\n",
      "L = 10\n",
      "\n",
      "\n",
      "X = array([[1],[2],[4]])\n",
      "V = array([[2],[4],[1]])\n",
      "\n",
      "def CA184(x,v,l):\n",
      "#this g_i list iterates and appends the number of spacahead of each car\n",
      "    g_i=[]\n",
      "    for i in range(1,x.shape[0]):\n",
      "        g_i.append(x[i]-x[i-1]-1)\n",
      "    g_i.append(l-x[-1])\n",
      "#Using the CA184 rules I change my initial velocity accordingly    \n",
      "    for i in range(v.shape[0]):\n",
      "        if g_i[i]<v[i]:\n",
      "            v[i]=g_i[i]\n",
      "    for i in range(v.shape[0]):\n",
      "        if g_i[i]>v[i]:\n",
      "            v[i]=(v[i]+1)\n",
      "    for i in range(v.shape[0]):\n",
      "        if g_i[i]==0:\n",
      "            v[i]=0\n",
      "#With the new velocity I make an array of new position   \n",
      "    X_new=[]\n",
      "    for i in range(x.shape[0]):\n",
      "        X_new.append(x[i]+v[i])\n",
      "    print v\n",
      "    return X_new\n",
      "\n",
      "CA184(X,V,L)"
     ],
     "language": "python",
     "metadata": {},
     "outputs": [
      {
       "output_type": "stream",
       "stream": "stdout",
       "text": [
        "[[0]\n",
        " [1]\n",
        " [2]]\n"
       ]
      },
      {
       "output_type": "pyout",
       "prompt_number": 1,
       "text": [
        "[array([1]), array([3]), array([6])]"
       ]
      }
     ],
     "prompt_number": 1
    },
    {
     "cell_type": "markdown",
     "metadata": {},
     "source": [
      "According to my caluclations this function works (albeit not for multiple time steps due to a naiive g_i)."
     ]
    },
    {
     "cell_type": "markdown",
     "metadata": {},
     "source": [
      "###================================"
     ]
    },
    {
     "cell_type": "code",
     "collapsed": false,
     "input": [
      "#With randomly generated positions and velocities and an updated g_i:"
     ],
     "language": "python",
     "metadata": {},
     "outputs": [],
     "prompt_number": 2
    },
    {
     "cell_type": "code",
     "collapsed": false,
     "input": [
      "from numpy import random"
     ],
     "language": "python",
     "metadata": {},
     "outputs": [],
     "prompt_number": 3
    },
    {
     "cell_type": "code",
     "collapsed": false,
     "input": [
      "#random velocities and positions:\n",
      "num_cars=5\n",
      "l=arange(1,11)\n",
      "random.shuffle(l)\n",
      "X = l[:5]\n",
      "print X\n",
      "V = l[5:]\n",
      "print V"
     ],
     "language": "python",
     "metadata": {},
     "outputs": [
      {
       "output_type": "stream",
       "stream": "stdout",
       "text": [
        "[10  3  9  1  4]\n",
        "[8 5 2 6 7]\n"
       ]
      }
     ],
     "prompt_number": 4
    },
    {
     "cell_type": "markdown",
     "metadata": {},
     "source": [
      "###The Full CA184 Function:"
     ]
    },
    {
     "cell_type": "code",
     "collapsed": false,
     "input": [
      "#Edited and working!\n",
      "#Initial Conditions for testing purposes:\n",
      "v_max = 10\n",
      "num_cars=5\n",
      "l_=arange(1,101)\n",
      "random.shuffle(l_)\n",
      "#random and non-repeating positions\n",
      "X_ = sort(l_[:num_cars])\n",
      "#random and non-repeating velocities\n",
      "V_=[]\n",
      "while len(V_)<num_cars:\n",
      "    V_.append(randint(0,v_max))\n",
      "    if len(V_)==num_cars:\n",
      "        break\n",
      "V_=array(V_)\n",
      "        \n",
      "print \"initial position\",X_\n",
      "print \"initial velocity\",V_\n",
      "\n",
      "#Now as for the CA184 function:\n",
      "\n",
      "def CA184(x,v,l):\n",
      "#this g_i list iterates and appends the number of spaces in front of each car    \n",
      "    g_i=[]\n",
      "    y = []\n",
      "#complicated but worth it:\n",
      "    #append all differences:\n",
      "    for i in range(0,shape(x)[0]):\n",
      "        for j in range(0,shape(x)[0]):\n",
      "            if i!=j:\n",
      "                y.append(x[j]-x[i]-1)\n",
      "            else:\n",
      "                None\n",
      "    #slice list into list of sublists (for each car):\n",
      "    chunks = [y[i*(int(num_cars)-1):i*(int(num_cars)-1)+int(num_cars)-1] for i in xrange(0,shape(x)[0])]\n",
      "\n",
      "    #N lists for N-max cars for \"refined\" (I can have as many lists as i want and nothing will change)\n",
      "    refined=[],[],[],[],[],[],[],[],[],[],[],[],[],[],[],[],[],[],[],[],[],[],[],[],[],[],[],[],[],[],[],[],[],[],[],[],[],[],[],[],[],[],[],[],[],[],[],[],[],[],[],[],[],[],[],[],[],[],[],[],[],[],[],[],[],[],[],[],[],[],[],[],[],[],[],[],[],[],[],[],[],[],[],[],[],[],[],[],[],[],[],[],[],[],[],[],[],[],[],[],[],[],[],[],[],[],[],[],[],[],[],[],[],[],[],[],[],[],[],[],[],[],[],[],[],[],[],[],[],[],[],[],[],[],[],[],[],[],[],[],[],[],[],[],[],[],[],[],[],[],[],[],[],[],[],[],[],[],[],[],[],[],[],[],[],[],[],[],[],[],[],[],[],[],[],[],[],[],[],[],\n",
      "    #iterating over all of \"chunks\" to get appropriate values into \"refined\":\n",
      "    for i in range(0,len(chunks[i])+1):\n",
      "        for j in range(0,len(chunks[j])):\n",
      "            if chunks[i][j]>0:\n",
      "                refined[i].append(chunks[i][j])\n",
      "            elif all(chunks[i][j]<0):\n",
      "                refined[i].append(max(l)-x[i]+min(x)-1)\n",
      "            else:\n",
      "                refined[i].append(0.)\n",
      "    #finally:\n",
      "    for i in range(0,len(refined[0])+1):\n",
      "        if shape(refined[i])[0]!=0:\n",
      "            g_i.append(min(refined[i]))\n",
      "        else:\n",
      "            None\n",
      "\n",
      "#Using the CA184 rules I change my initial velocity accordingly    \n",
      "    for i in range(v.shape[0]):\n",
      "        if g_i[i]<v[i]:\n",
      "            v[i]=g_i[i]\n",
      "    for i in range(v.shape[0]):\n",
      "        if g_i[i]>v[i] and v_max>v[i]:\n",
      "            v[i]=(v[i]+1)\n",
      "    for i in range(v.shape[0]):\n",
      "        if g_i[i]==0:\n",
      "            v[i]=0\n",
      "    for i in range(v.shape[0]):\n",
      "        if v[i]>v_max:\n",
      "            v[i]=v_max\n",
      "#With the new velocity I make an array of new position   \n",
      "    X_new = zeros(x.shape[0])\n",
      "    for i in arange(x.shape[0]):\n",
      "        X_new[i]=x[i]+v[i]\n",
      "        if X_new[i]>40:\n",
      "            X_new[i]=X_new[i]-40\n",
      "  \n",
      "    return array(X_new),array(v)\n",
      "\n",
      "\n",
      "X_new,V_new = CA184(X_,V_,l_)\n",
      "print \"new position is\",X_new\n",
      "print \"new velocity is\",V_new\n"
     ],
     "language": "python",
     "metadata": {},
     "outputs": [
      {
       "output_type": "stream",
       "stream": "stdout",
       "text": [
        "initial position [20 47 57 85 97]\n",
        "initial velocity [7 2 4 6 3]\n",
        "new position is [ 28.  10.  22.  52.  61.]\n",
        "new velocity is [8 3 5 7 4]\n"
       ]
      }
     ],
     "prompt_number": 8
    },
    {
     "cell_type": "code",
     "collapsed": false,
     "input": [
      "#The g_i:"
     ],
     "language": "python",
     "metadata": {},
     "outputs": [],
     "prompt_number": 9
    },
    {
     "cell_type": "code",
     "collapsed": false,
     "input": [
      "#l_=arange(1,31)\n",
      "num_cars=12\n",
      "x = array([3.,7.,1.,22.,32.,17.,31.,33.,39.,2.,5.,11.])  \n",
      "g_i=[]\n",
      "y = []\n",
      "for i in range(0,shape(x)[0]):\n",
      "    for j in range(0,shape(x)[0]):\n",
      "        if i!=j:\n",
      "            y.append(x[j]-x[i]-1)\n",
      "        else:\n",
      "            None\n",
      "print y\n",
      "chunks = [y[i*(num_cars-1):i*(num_cars-1)+num_cars-1] for i in xrange(0,shape(x)[0])]\n",
      "print chunks\n",
      "#g_i=[11,5,8,3,8]\n",
      "#num_cars = 5 so we have 5 empty lists\n",
      "refined=[],[],[],[],[],[],[],[],[],[],[],[],[],[],[],[],[],[],[],[],[],[],[],[],[],[],[],[],[],[],[],[],[],[],[],[],[],[],[],[],[],[],[],[],[],[],[],[],[],[],[],[],[],[],[],[],[],[],[],[],[],[],[],[],[],[],[],[],[],[],[],[],[],[],[],[],[],[],[],[],[],[],[],[],[],[],[],[],[],[],[],[],[],[],[],[],[],[],[],[],[],[],[],[],[],[],[],[],[],[],[],[],[],[],[],[],[],[],[],[],[],[],[],[],[],[],[],[],[],[],[],[],[],[],[],[],[],[],[],[],[],[],[],[],[],[],[],[],[],[],[],[],[],[],[],[],[],[],[],[],[],[],[],[],[],[],[],[],[],[],[],[],[],[],[],[],[],[],[],[],[],[],[],[],[],[],[],[],[],[],[],[],[],[],[],[],[],[],[],[],[],[],[],[],[],[],[],[],[],[],[],[],[],[],[],[],[],[],[],[],[],[],[],[],[],[],[],[]\n",
      "\n",
      "for i in range(0,len(chunks[i])+1):\n",
      "    for j in range(0,len(chunks[j])):\n",
      "        if chunks[i][j]>0:\n",
      "            refined[i].append(chunks[i][j])\n",
      "        elif all(chunks[i][j]<0):\n",
      "            refined[i].append(max(l_)-x[i]+min(x)-1)\n",
      "        else:\n",
      "            refined[i].append(0.)\n",
      "\n",
      "\n",
      "for i in range(0,len(refined[0])+1):\n",
      "    if shape(refined[i])[0]!=0:\n",
      "        g_i.append(min(refined[i]))\n",
      "    else:\n",
      "        None\n",
      "\n",
      "print 'g_i is',g_i\n",
      "print \"x is\",x\n",
      "            "
     ],
     "language": "python",
     "metadata": {},
     "outputs": [
      {
       "output_type": "stream",
       "stream": "stdout",
       "text": [
        "[3.0, -3.0, 18.0, 28.0, 13.0, 27.0, 29.0, 35.0, -2.0, 1.0, 7.0, -5.0, -7.0, 14.0, 24.0, 9.0, 23.0, 25.0, 31.0, -6.0, -3.0, 3.0, 1.0, 5.0, 20.0, 30.0, 15.0, 29.0, 31.0, 37.0, 0.0, 3.0, 9.0, -20.0, -16.0, -22.0, 9.0, -6.0, 8.0, 10.0, 16.0, -21.0, -18.0, -12.0, -30.0, -26.0, -32.0, -11.0, -16.0, -2.0, 0.0, 6.0, -31.0, -28.0, -22.0, -15.0, -11.0, -17.0, 4.0, 14.0, 13.0, 15.0, 21.0, -16.0, -13.0, -7.0, -29.0, -25.0, -31.0, -10.0, 0.0, -15.0, 1.0, 7.0, -30.0, -27.0, -21.0, -31.0, -27.0, -33.0, -12.0, -2.0, -17.0, -3.0, 5.0, -32.0, -29.0, -23.0, -37.0, -33.0, -39.0, -18.0, -8.0, -23.0, -9.0, -7.0, -38.0, -35.0, -29.0, 0.0, 4.0, -2.0, 19.0, 29.0, 14.0, 28.0, 30.0, 36.0, 2.0, 8.0, -3.0, 1.0, -5.0, 16.0, 26.0, 11.0, 25.0, 27.0, 33.0, -4.0, 5.0, -9.0, -5.0, -11.0, 10.0, 20.0, 5.0, 19.0, 21.0, 27.0, -10.0, -7.0]\n",
        "[[3.0, -3.0, 18.0, 28.0, 13.0, 27.0, 29.0, 35.0, -2.0, 1.0, 7.0], [-5.0, -7.0, 14.0, 24.0, 9.0, 23.0, 25.0, 31.0, -6.0, -3.0, 3.0], [1.0, 5.0, 20.0, 30.0, 15.0, 29.0, 31.0, 37.0, 0.0, 3.0, 9.0], [-20.0, -16.0, -22.0, 9.0, -6.0, 8.0, 10.0, 16.0, -21.0, -18.0, -12.0], [-30.0, -26.0, -32.0, -11.0, -16.0, -2.0, 0.0, 6.0, -31.0, -28.0, -22.0], [-15.0, -11.0, -17.0, 4.0, 14.0, 13.0, 15.0, 21.0, -16.0, -13.0, -7.0], [-29.0, -25.0, -31.0, -10.0, 0.0, -15.0, 1.0, 7.0, -30.0, -27.0, -21.0], [-31.0, -27.0, -33.0, -12.0, -2.0, -17.0, -3.0, 5.0, -32.0, -29.0, -23.0], [-37.0, -33.0, -39.0, -18.0, -8.0, -23.0, -9.0, -7.0, -38.0, -35.0, -29.0], [0.0, 4.0, -2.0, 19.0, 29.0, 14.0, 28.0, 30.0, 36.0, 2.0, 8.0], [-3.0, 1.0, -5.0, 16.0, 26.0, 11.0, 25.0, 27.0, 33.0, -4.0, 5.0], [-9.0, -5.0, -11.0, 10.0, 20.0, 5.0, 19.0, 21.0, 27.0, -10.0, -7.0]]\n",
        "g_i is [1.0, 3.0, 0.0, 8.0, 0.0, 4.0, 0.0, 5.0, 61.0, 0.0, 1.0, 5.0]\n",
        "x is [  3.   7.   1.  22.  32.  17.  31.  33.  39.   2.   5.  11.]\n"
       ]
      }
     ],
     "prompt_number": 10
    },
    {
     "cell_type": "markdown",
     "metadata": {},
     "source": [
      "###The Full STCA Function"
     ]
    },
    {
     "cell_type": "code",
     "collapsed": false,
     "input": [
      "#defining a probabilitly:\n",
      "prob = 20. #%\n",
      "p = prob/100.\n",
      "#same initialization process\n",
      "v_max = 15\n",
      "num_cars=10\n",
      "l_=arange(1,41)\n",
      "random.shuffle(l_)\n",
      "XX = sort(l_[:num_cars])\n",
      "\n",
      "VV=[]\n",
      "for i in range(num_cars):\n",
      "    VV.append(random.randint(0,v_max))\n",
      "VV = list(set(VV))\n",
      "while len(VV)<num_cars:\n",
      "    VV.append(randint(0,v_max))\n",
      "    VV = list(set(VV))\n",
      "    if len(VV)==num_cars:\n",
      "        break\n",
      "VV=array(VV)\n",
      "\n",
      "print \"initial position\",XX\n",
      "print \"initial velocity\",VV\n",
      "v_max = 10\n",
      "\n",
      "\n",
      "from numpy import random\n",
      "def STCA(x,v,l):\n",
      "#same g_i logic:    \n",
      "    g_i=[]\n",
      "    y = []\n",
      "    for i in range(0,shape(x)[0]):\n",
      "        for j in range(0,shape(x)[0]):\n",
      "            if i!=j:\n",
      "                y.append(x[j]-x[i]-1)\n",
      "            else:\n",
      "                None\n",
      "    chunks = [y[i*(int(num_cars)-1):i*(int(num_cars)-1)+int(num_cars)-1] for i in xrange(0,shape(x)[0])]\n",
      "\n",
      "\n",
      "    #N lists for N-maximum cars for \"refined\"\n",
      "    refined=[],[],[],[],[],[],[],[],[],[],[],[],[],[],[],[],[],[],[],[],[],[],[],[],[],[],[],[],[],[],[],[],[],[],[],[],[],[],[],[],[],[],[],[],[],[],[],[],[],[],[],[],[],[],[],[],[],[],[],[],[],[],[],[],[],[],[],[],[],[],[],[],[],[],[],[],[],[],[],[],[],[],[],[],[],[],[],[],[],[],[],[],[],[],[],[],[],[],[],[],[],[],[],[],[],[],[],[],[],[],[],[],[],[],[],[],[],[],[],[],[],[],[],[],[],[],[],[],[],[],[],[],[],[],[],[],[],[],[],[],[],[],[],[],[],[],[],[],[],[],[],[]\n",
      "    for i in range(0,len(chunks[i])+1):\n",
      "        for j in range(0,len(chunks[j])):\n",
      "            if chunks[i][j]>0:\n",
      "                refined[i].append(chunks[i][j])\n",
      "            elif all(chunks[i][j]<0):\n",
      "                refined[i].append(max(l)-x[i]+min(x)-1)\n",
      "            else:\n",
      "                refined[i].append(0.)\n",
      "    \n",
      "    for i in range(0,len(refined[0])+1):\n",
      "        if shape(refined[i])[0]!=0:\n",
      "            g_i.append(min(refined[i]))\n",
      "        else:\n",
      "            None\n",
      "   \n",
      "#Using the STCA rules I change my initial velocity accordingly    \n",
      "    for i in range(v.shape[0]):\n",
      "        if g_i[i]<v[i]:\n",
      "            v[i]=g_i[i]\n",
      "    for i in range(v.shape[0]):\n",
      "        if g_i[i]>v[i] and v[i]<v_max:\n",
      "            v[i]=(v[i]+1)\n",
      "    for i in range(v.shape[0]):\n",
      "        if g_i[i]==0:\n",
      "            v[i]=0\n",
      "#the modification to make this STCA and not CA184:\n",
      "    for i in range(v.shape[0]):\n",
      "        if ranf(1)<p and v[i]>0:\n",
      "            v[i]=v[i]-1\n",
      "    for i in range(v.shape[0]):\n",
      "        if v[i]>v_max:\n",
      "            v[i]=v_max\n",
      "#With the new velocity I make an array of new position   \n",
      "    X_new=[]\n",
      "    for i in range(x.shape[0]):\n",
      "        X_new.append(x[i]+v[i])\n",
      "    for i in range(x.shape[0]):\n",
      "        if X_new[i]>40:\n",
      "            X_new[i]=X_new[i]-40\n",
      "    return array(X_new),array(v)\n",
      "\n",
      "\n",
      "STCA(XX,VV,l_)"
     ],
     "language": "python",
     "metadata": {},
     "outputs": [
      {
       "output_type": "stream",
       "stream": "stdout",
       "text": [
        "initial position [ 1  3  4  6  9 17 25 36 38 39]\n",
        "initial velocity [ 2  3  4  5  6  8  9 10 11 14]\n"
       ]
      },
      {
       "output_type": "pyout",
       "prompt_number": 11,
       "text": [
        "(array([ 2,  3,  4,  8, 16, 24, 34, 37, 38, 39]),\n",
        " array([1, 0, 0, 2, 7, 7, 9, 1, 0, 0]))"
       ]
      }
     ],
     "prompt_number": 11
    },
    {
     "cell_type": "markdown",
     "metadata": {},
     "source": [
      "###The Full ASEP Function"
     ]
    },
    {
     "cell_type": "code",
     "collapsed": false,
     "input": [
      "v_max = 20\n",
      "num_cars=15\n",
      "l_=arange(1,41)\n",
      "random.shuffle(l_)\n",
      "x = sort(l_[:num_cars])\n",
      "\n",
      "v=[]\n",
      "for i in range(num_cars):\n",
      "    v.append(random.randint(0,v_max))\n",
      "v = list(set(v))\n",
      "\n",
      "while len(v)<num_cars:\n",
      "    v.append(randint(0,v_max))\n",
      "    v = list(set(v))\n",
      "    if len(v)==num_cars:\n",
      "        break\n",
      "v=array(v)\n",
      "\n",
      "print \"initial position\",x\n",
      "print \"initial velocity\",v\n",
      "\n",
      "\n",
      "\n",
      "def ASEP(x,v,l):\n",
      "    #randomizing the order of iteration:\n",
      "    a = range(num_cars)\n",
      "    random.shuffle(a)\n",
      "\n",
      "    g_i=[]\n",
      "    y = []\n",
      "    for i in range(0,shape(x)[0]):\n",
      "        for j in range(0,shape(x)[0]):\n",
      "            if i!=j:\n",
      "                y.append(x[j]-x[i]-1)\n",
      "            else:\n",
      "                None\n",
      "    chunks = [y[i*(int(num_cars)-1):i*(int(num_cars)-1)+int(num_cars)-1] for i in xrange(0,shape(x)[0])]\n",
      "\n",
      "    #N lists for N-maximum cars for \"refined\"\n",
      "    refined=[],[],[],[],[],[],[],[],[],[],[],[],[],[],[],[],[],[],[],[],[],[],[],[],[],[],[],[],[],[],[],[],[],[],[],[],[],[],[],[],[],[],[],[],[],[],[],[],[],[],[],[],[],[],[],[],[],[],[],[],[],[],[],[],[],[],[],[],[],[],[],[],[],[],[],[],[],[],[],[],[],[],[],[],[],[],[],[],[],[],[],[],[],[],[],[],[],[],[],[],[],[],[],[],[],[],[],[],[],[],[],[],[],[],[],[],[],[],[],[],[],[],[],[],[],[],[],[],[],[],[],[],[],[],[],[],[],[],[],[],[],[],[],[],[],[],\n",
      "    for i in range(0,len(chunks[i])+1):\n",
      "        for j in range(0,len(chunks[j])):\n",
      "            if chunks[i][j]>0:\n",
      "                refined[i].append(chunks[i][j])\n",
      "            elif all(chunks[i][j]<0):\n",
      "                refined[i].append(max(l)-x[i]+min(x)-1)\n",
      "            else:\n",
      "                refined[i].append(0.)\n",
      "    \n",
      "    for i in range(0,len(refined[0])+1):\n",
      "        if shape(refined[i])[0]!=0:\n",
      "            g_i.append(min(refined[i]))\n",
      "        else:\n",
      "            None\n",
      "    \n",
      "#Using the ASEP rules I change my initial velocity accordingly    \n",
      "    for i in range(v.shape[0]):\n",
      "        if g_i[a[i]]<v[a[i]]:\n",
      "            v[a[i]]=g_i[a[i]]\n",
      "        if g_i[a[i]]>v[a[i]] and v[a[i]]<v_max:\n",
      "            v[a[i]]=(v[a[i]]+1)\n",
      "        if g_i[a[i]]==0:\n",
      "            v[a[i]]=0\n",
      "        if v[a[i]]>v_max:\n",
      "            v[a[i]]=v_max\n",
      "            \n",
      "    X_new=[]\n",
      "    for i in range(x.shape[0]):\n",
      "        X_new.append(x[i]+v[i])\n",
      "    for i in range(x.shape[0]):\n",
      "        if X_new[i]>40:\n",
      "            X_new[i]=X_new[i]-40\n",
      "   \n",
      "    return array(X_new),array(v)\n",
      "    \n",
      "    \n",
      "ASEP(x,v,l_)"
     ],
     "language": "python",
     "metadata": {},
     "outputs": [
      {
       "output_type": "stream",
       "stream": "stdout",
       "text": [
        "initial position [ 1  4  6  8 10 12 18 20 21 28 29 33 37 38 39]\n",
        "initial velocity [ 1  2  5  6  7  9 10 11 12 13 14 15 17 18 19]\n"
       ]
      },
      {
       "output_type": "pyout",
       "prompt_number": 12,
       "text": [
        "(array([ 3,  5,  7,  9, 11, 17, 19, 20, 27, 28, 32, 36, 37, 38, 40]),\n",
        " array([2, 1, 1, 1, 1, 5, 1, 0, 6, 0, 3, 3, 0, 0, 1]))"
       ]
      }
     ],
     "prompt_number": 12
    },
    {
     "cell_type": "markdown",
     "metadata": {},
     "source": [
      "###Storing Variables to Plot Current"
     ]
    },
    {
     "cell_type": "code",
     "collapsed": false,
     "input": [
      "iterations=150\n",
      "#initial conditions:\n",
      "v_max = 15\n",
      "num_cars=7\n",
      "\n",
      "#10 cars, 150 iterations-- so we have the following empty data sets:\n",
      "Positions = zeros(num_cars*iterations).reshape(iterations,num_cars)\n",
      "Velocities = zeros(num_cars*iterations).reshape(iterations,num_cars)\n",
      "DataCA184 = Positions,Velocities\n",
      "#Velocities[1,2] returns row 1, column 2\n",
      "#Data[1]=Velocities\n",
      "#Data[0]=Positions   "
     ],
     "language": "python",
     "metadata": {},
     "outputs": [],
     "prompt_number": 13
    },
    {
     "cell_type": "code",
     "collapsed": false,
     "input": [
      "#Initial Conditions:\n",
      "v_max = 15\n",
      "num_cars=7\n",
      "l_=arange(1,41)\n",
      "random.shuffle(l_)\n",
      "X_ = sort(l_[:num_cars])\n",
      "#==========================\n",
      "Positions[0]=X_\n",
      "#==========================\n",
      "V_=[]\n",
      "for i in range(num_cars):\n",
      "    V_.append(random.randint(0,v_max))\n",
      "V_ = list(set(V_))\n",
      "while len(V_)<num_cars:\n",
      "    V_.append(randint(0,v_max))\n",
      "    V_ = list(set(V_))\n",
      "    if len(V_)==num_cars:\n",
      "        break\n",
      "V_=array(V_)\n",
      "#==========================\n",
      "Velocities[0]=V_\n",
      "#==========================\n",
      "print \"initial position\",Positions[0]\n",
      "print \"initial velocity\",Velocities[0]"
     ],
     "language": "python",
     "metadata": {},
     "outputs": [
      {
       "output_type": "stream",
       "stream": "stdout",
       "text": [
        "initial position [  1.   9.  33.  35.  36.  37.  40.]\n",
        "initial velocity [  0.   2.   4.   5.   7.   8.  13.]\n"
       ]
      }
     ],
     "prompt_number": 14
    },
    {
     "cell_type": "code",
     "collapsed": false,
     "input": [
      "iterations=150\n",
      "#initial conditions:\n",
      "v_max = 15\n",
      "num_cars=7\n",
      "l_=arange(1,41)\n",
      "random.shuffle(l_)\n",
      "X_ = sort(l_[:num_cars])\n",
      "#==========================\n",
      "Positions[0]=X_\n",
      "#==========================\n",
      "V_=[]\n",
      "for i in range(num_cars):\n",
      "    V_.append(random.randint(0,v_max))\n",
      "V_ = list(set(V_))\n",
      "while len(V_)<num_cars:\n",
      "    V_.append(randint(0,v_max))\n",
      "    V_ = list(set(V_))\n",
      "    if len(V_)==num_cars:\n",
      "        break\n",
      "V_=array(V_)\n",
      "#==========================\n",
      "Velocities[0]=V_\n",
      "#==========================\n",
      "print \"initial position\",Positions[0]\n",
      "print \"initial velocity\",Velocities[0]\n",
      "#==========================\n",
      "\n",
      "#Storing the data of each iteration in arrays\n",
      "for i in range(0,iterations-1):\n",
      "    Positions[i+1],Velocities[i+1]=CA184(Positions[i],Velocities[i],l_);\n",
      "\n",
      "\n",
      "print shape(Velocities)[0]\n",
      "print sum(Velocities[2])"
     ],
     "language": "python",
     "metadata": {},
     "outputs": [
      {
       "output_type": "stream",
       "stream": "stdout",
       "text": [
        "initial position [  9.  12.  13.  14.  32.  35.  40.]\n",
        "initial velocity [  0.   1.   3.   6.   9.  10.  11.]\n",
        "150"
       ]
      },
      {
       "output_type": "stream",
       "stream": "stdout",
       "text": [
        "\n",
        "19.0\n"
       ]
      }
     ],
     "prompt_number": 15
    },
    {
     "cell_type": "code",
     "collapsed": false,
     "input": [
      "#I create an array of the sum of all velocities at each time step\n",
      "SumVel = []\n",
      "for i in range(shape(Velocities)[0]):\n",
      "    SumVel.append(sum(Velocities[i]))\n",
      "SumVel=array(SumVel)\n",
      "print shape(SumVel)[0]"
     ],
     "language": "python",
     "metadata": {},
     "outputs": [
      {
       "output_type": "stream",
       "stream": "stdout",
       "text": [
        "150\n"
       ]
      }
     ],
     "prompt_number": 16
    },
    {
     "cell_type": "code",
     "collapsed": false,
     "input": [
      "#I compute the average velocity per time step by simply dividing by the number of cars\n",
      "AvgVel = SumVel/num_cars\n",
      "print AvgVel"
     ],
     "language": "python",
     "metadata": {},
     "outputs": [
      {
       "output_type": "stream",
       "stream": "stdout",
       "text": [
        "[ 3.14285714  2.71428571  2.71428571  2.28571429  2.42857143  2.42857143\n",
        "  3.          4.          4.71428571  4.71428571  4.71428571  4.71428571\n",
        "  4.71428571  4.71428571  4.71428571  4.71428571  4.71428571  4.71428571\n",
        "  4.71428571  4.71428571  4.71428571  4.71428571  4.71428571  4.71428571\n",
        "  4.71428571  4.71428571  4.71428571  4.71428571  4.71428571  4.71428571\n",
        "  4.71428571  4.71428571  4.71428571  4.71428571  4.71428571  4.71428571\n",
        "  4.71428571  4.71428571  4.71428571  4.71428571  4.71428571  4.71428571\n",
        "  4.71428571  4.71428571  4.71428571  4.71428571  4.71428571  4.71428571\n",
        "  4.71428571  4.71428571  4.71428571  4.71428571  4.71428571  4.71428571\n",
        "  4.71428571  4.71428571  4.71428571  4.71428571  4.71428571  4.71428571\n",
        "  4.71428571  4.71428571  4.71428571  4.71428571  4.71428571  4.71428571\n",
        "  4.71428571  4.71428571  4.71428571  4.71428571  4.71428571  4.71428571\n",
        "  4.71428571  4.71428571  4.71428571  4.71428571  4.71428571  4.71428571\n",
        "  4.71428571  4.71428571  4.71428571  4.71428571  4.71428571  4.71428571\n",
        "  4.71428571  4.71428571  4.71428571  4.71428571  4.71428571  4.71428571\n",
        "  4.71428571  4.71428571  4.71428571  4.71428571  4.71428571  4.71428571\n",
        "  4.71428571  4.71428571  4.71428571  4.71428571  4.71428571  4.71428571\n",
        "  4.71428571  4.71428571  4.71428571  4.71428571  4.71428571  4.71428571\n",
        "  4.71428571  4.71428571  4.71428571  4.71428571  4.71428571  4.71428571\n",
        "  4.71428571  4.71428571  4.71428571  4.71428571  4.71428571  4.71428571\n",
        "  4.71428571  4.71428571  4.71428571  4.71428571  4.71428571  4.71428571\n",
        "  4.71428571  4.71428571  4.71428571  4.71428571  4.71428571  4.71428571\n",
        "  4.71428571  4.71428571  4.71428571  4.71428571  4.71428571  4.71428571\n",
        "  4.71428571  4.71428571  4.71428571  4.71428571  4.71428571  4.71428571\n",
        "  4.71428571  4.71428571  4.71428571  4.71428571  4.71428571  4.71428571]\n"
       ]
      }
     ],
     "prompt_number": 17
    },
    {
     "cell_type": "code",
     "collapsed": false,
     "input": [
      "#Plotting Car Positions Vs Time\n",
      "t_ = arange(shape(Positions[:,[1]])[0])\n",
      "print shape(Positions[:,[1]])[0]\n",
      "#positions for car #2 (column 2):\n",
      "plot(t_,Positions[:,[2]])\n",
      "xlabel('time')\n",
      "ylabel('position')\n",
      "title('CA184 position vs time')\n",
      "ylim(1,40)\n",
      "xlim(0,90)\n",
      "show()\n",
      "print Positions"
     ],
     "language": "python",
     "metadata": {},
     "outputs": [
      {
       "output_type": "stream",
       "stream": "stdout",
       "text": [
        "150\n"
       ]
      },
      {
       "output_type": "display_data",
       "png": "[encoded data removed]"
      },
      {
       "output_type": "stream",
       "stream": "stdout",
       "text": [
        "[[  9.  12.  13. ...,  32.  35.  40.]\n",
        " [ 10.  12.  13. ...,  34.  39.   8.]\n",
        " [ 11.  12.  14. ...,  37.   4.   9.]\n",
        " ..., \n",
        " [  1.   7.  14. ...,  29.  32.  36.]\n",
        " [  6.  13.  21. ...,  31.  35.  40.]\n",
        " [ 12.  20.  27. ...,  34.  39.   5.]]\n"
       ]
      }
     ],
     "prompt_number": 18
    },
    {
     "cell_type": "markdown",
     "metadata": {},
     "source": [
      "Notice that most of the time our cars won't explicitly \"pass through 40 and start at 1\" because this analysis is discrete (we get more jumping around). "
     ]
    },
    {
     "cell_type": "code",
     "collapsed": false,
     "input": [
      "#Plotting Current Vs. Time\n",
      "t = arange(iterations)\n",
      "#Current is simply density times avg vel\n",
      "plot(t,SumVel/len(l_))\n",
      "title(\"CA184Current Vs. Time\")\n",
      "xlabel('time')\n",
      "ylabel('current')\n",
      "xlim(0,90)\n",
      "ylim(0,1)\n",
      "show()"
     ],
     "language": "python",
     "metadata": {},
     "outputs": [
      {
       "output_type": "display_data",
       "png": "[encoded data removed]"
      }
     ],
     "prompt_number": 19
    },
    {
     "cell_type": "code",
     "collapsed": false,
     "input": [
      "iterations=150\n",
      "#initial conditions:\n",
      "v_max = 15\n",
      "num_cars=7\n",
      "\n",
      "#10 cars, 150 iterations-- so we have the following empty data sets:\n",
      "PositionsSTCA = zeros(num_cars*iterations).reshape(iterations,num_cars)\n",
      "VelocitiesSTCA = zeros(num_cars*iterations).reshape(iterations,num_cars)\n",
      "DataSTCA = PositionsSTCA,VelocitiesSTCA"
     ],
     "language": "python",
     "metadata": {},
     "outputs": [],
     "prompt_number": 20
    },
    {
     "cell_type": "code",
     "collapsed": false,
     "input": [
      "iterations=150\n",
      "#initial conditions:\n",
      "v_max = 15\n",
      "num_cars=7\n",
      "l_=arange(1,41)\n",
      "random.shuffle(l_)\n",
      "X_ = sort(l_[:num_cars])\n",
      "#==========================\n",
      "PositionsSTCA[0]=X_\n",
      "#==========================\n",
      "V_=[]\n",
      "for i in range(num_cars):\n",
      "    V_.append(random.randint(0,v_max))\n",
      "V_ = list(set(V_))\n",
      "while len(V_)<num_cars:\n",
      "    V_.append(randint(0,v_max))\n",
      "    V_ = list(set(V_))\n",
      "    if len(V_)==num_cars:\n",
      "        break\n",
      "V_=array(V_)\n",
      "#==========================\n",
      "VelocitiesSTCA[0]=V_\n",
      "#==========================\n",
      "print \"initial position\",PositionsSTCA[0]\n",
      "print \"initial velocity\",VelocitiesSTCA[0]\n",
      "#==========================\n",
      "\n",
      "#Storing the data of each iteration in arrays\n",
      "for i in range(0,iterations-1):\n",
      "    PositionsSTCA[i+1],VelocitiesSTCA[i+1]=STCA(PositionsSTCA[i],VelocitiesSTCA[i],l_);"
     ],
     "language": "python",
     "metadata": {},
     "outputs": [
      {
       "output_type": "stream",
       "stream": "stdout",
       "text": [
        "initial position [  8.  10.  15.  25.  33.  39.  40.]\n",
        "initial velocity [  2.   5.   7.   8.   9.  10.  13.]\n"
       ]
      }
     ],
     "prompt_number": 21
    },
    {
     "cell_type": "code",
     "collapsed": false,
     "input": [
      "SumVelSTCA = []\n",
      "for i in range(shape(VelocitiesSTCA)[0]):\n",
      "    SumVelSTCA.append(sum(VelocitiesSTCA[i]))\n",
      "SumVelSTCA=array(SumVelSTCA)"
     ],
     "language": "python",
     "metadata": {},
     "outputs": [],
     "prompt_number": 22
    },
    {
     "cell_type": "code",
     "collapsed": false,
     "input": [
      "#Plotting Current Vs. Time\n",
      "t = arange(iterations)\n",
      "#Current is simply density times avg vel\n",
      "plot(t,SumVelSTCA/len(l_))\n",
      "title(\"STCACurrent Vs. Time\")\n",
      "xlabel('time')\n",
      "ylabel('current')\n",
      "xlim(0,iterations)\n",
      "ylim(0,1)\n",
      "show()"
     ],
     "language": "python",
     "metadata": {},
     "outputs": [
      {
       "output_type": "display_data",
       "png": "[encoded data removed]"
      }
     ],
     "prompt_number": 23
    },
    {
     "cell_type": "code",
     "collapsed": false,
     "input": [
      "#Plotting Car Positions Vs Time\n",
      "t__ = arange(shape(PositionsSTCA[:,[1]])[0])\n",
      "#print PositionsSTCA for car #5 (column 5)\n",
      "plot(t__,PositionsSTCA[:,[5]])\n",
      "xlabel('time')\n",
      "ylabel('position')\n",
      "title('STCA position vs time')\n",
      "xlim(0,90)\n",
      "#print shape(Positions[:,[1]])\n",
      "show()"
     ],
     "language": "python",
     "metadata": {},
     "outputs": [
      {
       "output_type": "display_data",
       "png": "[encoded data removed]"
      }
     ],
     "prompt_number": 24
    },
    {
     "cell_type": "code",
     "collapsed": false,
     "input": [
      "iterations=150\n",
      "#initial conditions:\n",
      "v_max = 20\n",
      "num_cars=7\n",
      "\n",
      "PositionsASEP = zeros(num_cars*iterations).reshape(iterations,num_cars)\n",
      "VelocitiesASEP = zeros(num_cars*iterations).reshape(iterations,num_cars)\n",
      "DataASEP = PositionsASEP,VelocitiesASEP\n",
      "\n",
      "\n",
      "l__=arange(1,41)\n",
      "random.shuffle(l__)\n",
      "X__ = sort(l__[:num_cars])\n",
      "#==========================\n",
      "PositionsASEP[0]=X__\n",
      "#==========================\n",
      "V__=[]\n",
      "for i in range(num_cars):\n",
      "    V__.append(random.randint(0,v_max))\n",
      "V__ = list(set(V__))\n",
      "while len(V__)<num_cars:\n",
      "    V__.append(randint(0,v_max))\n",
      "    V__ = list(set(V__))\n",
      "    if len(V__)==num_cars:\n",
      "        break\n",
      "V__=array(V__)\n",
      "\n",
      "#==========================\n",
      "VelocitiesASEP[0]=V__\n",
      "#==========================\n",
      "print \"initial position\",PositionsASEP[0]\n",
      "print \"initial velocity\",VelocitiesASEP[0]\n",
      "#==========================\n",
      "\n",
      "\n",
      "for i in range(0,iterations-1):\n",
      "    PositionsASEP[i+1],VelocitiesASEP[i+1]=ASEP(PositionsASEP[i],VelocitiesASEP[i],l__);"
     ],
     "language": "python",
     "metadata": {},
     "outputs": [
      {
       "output_type": "stream",
       "stream": "stdout",
       "text": [
        "initial position [  1.   4.  15.  17.  26.  31.  35.]\n",
        "initial velocity [  7.   8.   9.  10.  15.  17.  18.]\n"
       ]
      }
     ],
     "prompt_number": 25
    },
    {
     "cell_type": "code",
     "collapsed": false,
     "input": [
      "#Plotting Car Positions Vs Time\n",
      "t_ = arange(shape(PositionsASEP[:,[1]])[0])\n",
      "#print shape(PositionsASEP[:,[1]])[0]\n",
      "#positions for car #1 (column 1)\n",
      "#note: there is a car #0 in column 0!\n",
      "plot(t_,PositionsASEP[:,[1]])\n",
      "ylim(1,40)\n",
      "xlim(0,90)\n",
      "ylabel('position')\n",
      "xlabel('time')\n",
      "title('ASEP position vs time')\n",
      "show()\n",
      "#print PositionsASEP"
     ],
     "language": "python",
     "metadata": {},
     "outputs": [
      {
       "output_type": "display_data",
       "png": "[encoded data removed]"
      }
     ],
     "prompt_number": 26
    },
    {
     "cell_type": "code",
     "collapsed": false,
     "input": [
      "SumVelASEP = []\n",
      "for i in range(shape(VelocitiesASEP)[0]):\n",
      "    SumVelASEP.append(sum(VelocitiesASEP[i]))\n",
      "SumVelASEP=array(SumVelASEP)"
     ],
     "language": "python",
     "metadata": {},
     "outputs": [],
     "prompt_number": 27
    },
    {
     "cell_type": "code",
     "collapsed": false,
     "input": [
      "#Plotting Current Vs. Time\n",
      "t = arange(iterations)\n",
      "#Current is simply density times avg vel\n",
      "plot(t,SumVelASEP/len(l__))\n",
      "title(\"ASEPCurrent Vs. Time\")\n",
      "xlabel('time')\n",
      "ylabel('current')\n",
      "xlim(0,iterations)\n",
      "ylim(0,1)\n",
      "show()"
     ],
     "language": "python",
     "metadata": {},
     "outputs": [
      {
       "output_type": "display_data",
       "png": "[encoded data removed]"
      }
     ],
     "prompt_number": 28
    },
    {
     "cell_type": "markdown",
     "metadata": {},
     "source": [
      "#I'M A BOSS"
     ]
    },
    {
     "cell_type": "markdown",
     "metadata": {},
     "source": [
      "###Density Graphs"
     ]
    },
    {
     "cell_type": "code",
     "collapsed": false,
     "input": [
      "#making some car/length pairs for densities from 0 to .8 (inclusive)\n",
      "\n",
      "C = zeros(80*3).reshape(80,3)\n",
      "for i in range(shape(C)[0]):\n",
      "    C[i:i+1,[0]]=i\n",
      "for i in range(shape(C)[0]):\n",
      "    C[i:i+1,[1]]=100\n",
      "D = zeros(80)\n",
      "for i in range(shape(C)[0]):\n",
      "    D[i]=C[i:i+1,[0]]/C[i:i+1,[1]]\n",
      "for i in range(shape(C)[0]):\n",
      "    C[i:i+1,[2]]=D[i]\n",
      "print C[1,2]\n",
      "for i in range(shape(C)[0]):\n",
      "    C[i:i+1,[0]]=int(C[i:i+1,[0]])\n",
      "    \n",
      "print C\n",
      "#first column is num_cars, second is length (constant at 100), 3rd is density"
     ],
     "language": "python",
     "metadata": {},
     "outputs": [
      {
       "output_type": "stream",
       "stream": "stdout",
       "text": [
        "0.01\n",
        "[[  0.00000000e+00   1.00000000e+02   0.00000000e+00]\n",
        " [  1.00000000e+00   1.00000000e+02   1.00000000e-02]\n",
        " [  2.00000000e+00   1.00000000e+02   2.00000000e-02]\n",
        " [  3.00000000e+00   1.00000000e+02   3.00000000e-02]\n",
        " [  4.00000000e+00   1.00000000e+02   4.00000000e-02]\n",
        " [  5.00000000e+00   1.00000000e+02   5.00000000e-02]\n",
        " [  6.00000000e+00   1.00000000e+02   6.00000000e-02]\n",
        " [  7.00000000e+00   1.00000000e+02   7.00000000e-02]\n",
        " [  8.00000000e+00   1.00000000e+02   8.00000000e-02]\n",
        " [  9.00000000e+00   1.00000000e+02   9.00000000e-02]\n",
        " [  1.00000000e+01   1.00000000e+02   1.00000000e-01]\n",
        " [  1.10000000e+01   1.00000000e+02   1.10000000e-01]\n",
        " [  1.20000000e+01   1.00000000e+02   1.20000000e-01]\n",
        " [  1.30000000e+01   1.00000000e+02   1.30000000e-01]\n",
        " [  1.40000000e+01   1.00000000e+02   1.40000000e-01]\n",
        " [  1.50000000e+01   1.00000000e+02   1.50000000e-01]\n",
        " [  1.60000000e+01   1.00000000e+02   1.60000000e-01]\n",
        " [  1.70000000e+01   1.00000000e+02   1.70000000e-01]\n",
        " [  1.80000000e+01   1.00000000e+02   1.80000000e-01]\n",
        " [  1.90000000e+01   1.00000000e+02   1.90000000e-01]\n",
        " [  2.00000000e+01   1.00000000e+02   2.00000000e-01]\n",
        " [  2.10000000e+01   1.00000000e+02   2.10000000e-01]\n",
        " [  2.20000000e+01   1.00000000e+02   2.20000000e-01]\n",
        " [  2.30000000e+01   1.00000000e+02   2.30000000e-01]\n",
        " [  2.40000000e+01   1.00000000e+02   2.40000000e-01]\n",
        " [  2.50000000e+01   1.00000000e+02   2.50000000e-01]\n",
        " [  2.60000000e+01   1.00000000e+02   2.60000000e-01]\n",
        " [  2.70000000e+01   1.00000000e+02   2.70000000e-01]\n",
        " [  2.80000000e+01   1.00000000e+02   2.80000000e-01]\n",
        " [  2.90000000e+01   1.00000000e+02   2.90000000e-01]\n",
        " [  3.00000000e+01   1.00000000e+02   3.00000000e-01]\n",
        " [  3.10000000e+01   1.00000000e+02   3.10000000e-01]\n",
        " [  3.20000000e+01   1.00000000e+02   3.20000000e-01]\n",
        " [  3.30000000e+01   1.00000000e+02   3.30000000e-01]\n",
        " [  3.40000000e+01   1.00000000e+02   3.40000000e-01]\n",
        " [  3.50000000e+01   1.00000000e+02   3.50000000e-01]\n",
        " [  3.60000000e+01   1.00000000e+02   3.60000000e-01]\n",
        " [  3.70000000e+01   1.00000000e+02   3.70000000e-01]\n",
        " [  3.80000000e+01   1.00000000e+02   3.80000000e-01]\n",
        " [  3.90000000e+01   1.00000000e+02   3.90000000e-01]\n",
        " [  4.00000000e+01   1.00000000e+02   4.00000000e-01]\n",
        " [  4.10000000e+01   1.00000000e+02   4.10000000e-01]\n",
        " [  4.20000000e+01   1.00000000e+02   4.20000000e-01]\n",
        " [  4.30000000e+01   1.00000000e+02   4.30000000e-01]\n",
        " [  4.40000000e+01   1.00000000e+02   4.40000000e-01]\n",
        " [  4.50000000e+01   1.00000000e+02   4.50000000e-01]\n",
        " [  4.60000000e+01   1.00000000e+02   4.60000000e-01]\n",
        " [  4.70000000e+01   1.00000000e+02   4.70000000e-01]\n",
        " [  4.80000000e+01   1.00000000e+02   4.80000000e-01]\n",
        " [  4.90000000e+01   1.00000000e+02   4.90000000e-01]\n",
        " [  5.00000000e+01   1.00000000e+02   5.00000000e-01]\n",
        " [  5.10000000e+01   1.00000000e+02   5.10000000e-01]\n",
        " [  5.20000000e+01   1.00000000e+02   5.20000000e-01]\n",
        " [  5.30000000e+01   1.00000000e+02   5.30000000e-01]\n",
        " [  5.40000000e+01   1.00000000e+02   5.40000000e-01]\n",
        " [  5.50000000e+01   1.00000000e+02   5.50000000e-01]\n",
        " [  5.60000000e+01   1.00000000e+02   5.60000000e-01]\n",
        " [  5.70000000e+01   1.00000000e+02   5.70000000e-01]\n",
        " [  5.80000000e+01   1.00000000e+02   5.80000000e-01]\n",
        " [  5.90000000e+01   1.00000000e+02   5.90000000e-01]\n",
        " [  6.00000000e+01   1.00000000e+02   6.00000000e-01]\n",
        " [  6.10000000e+01   1.00000000e+02   6.10000000e-01]\n",
        " [  6.20000000e+01   1.00000000e+02   6.20000000e-01]\n",
        " [  6.30000000e+01   1.00000000e+02   6.30000000e-01]\n",
        " [  6.40000000e+01   1.00000000e+02   6.40000000e-01]\n",
        " [  6.50000000e+01   1.00000000e+02   6.50000000e-01]\n",
        " [  6.60000000e+01   1.00000000e+02   6.60000000e-01]\n",
        " [  6.70000000e+01   1.00000000e+02   6.70000000e-01]\n",
        " [  6.80000000e+01   1.00000000e+02   6.80000000e-01]\n",
        " [  6.90000000e+01   1.00000000e+02   6.90000000e-01]\n",
        " [  7.00000000e+01   1.00000000e+02   7.00000000e-01]\n",
        " [  7.10000000e+01   1.00000000e+02   7.10000000e-01]\n",
        " [  7.20000000e+01   1.00000000e+02   7.20000000e-01]\n",
        " [  7.30000000e+01   1.00000000e+02   7.30000000e-01]\n",
        " [  7.40000000e+01   1.00000000e+02   7.40000000e-01]\n",
        " [  7.50000000e+01   1.00000000e+02   7.50000000e-01]\n",
        " [  7.60000000e+01   1.00000000e+02   7.60000000e-01]\n",
        " [  7.70000000e+01   1.00000000e+02   7.70000000e-01]\n",
        " [  7.80000000e+01   1.00000000e+02   7.80000000e-01]\n",
        " [  7.90000000e+01   1.00000000e+02   7.90000000e-01]]\n"
       ]
      }
     ],
     "prompt_number": 29
    },
    {
     "cell_type": "code",
     "collapsed": false,
     "input": [
      "C[79:80,[0]]\n",
      "\n",
      "DataCA184 = zeros(2*80).reshape(80,2)\n",
      "\n",
      "for k in range(1,81):\n",
      "    DataCA184[k-1:k,[0]]=k*.01\n",
      "print DataCA184[79:80,[0]]"
     ],
     "language": "python",
     "metadata": {},
     "outputs": [
      {
       "output_type": "stream",
       "stream": "stdout",
       "text": [
        "[[ 0.8]]\n"
       ]
      }
     ],
     "prompt_number": 30
    },
    {
     "cell_type": "markdown",
     "metadata": {},
     "source": [
      "###For randomly generated velocities at the beginning of each simulation:"
     ]
    },
    {
     "cell_type": "code",
     "collapsed": false,
     "input": [
      "iterations = 150\n",
      "length = arange(1,101)\n",
      "DataCA184 = zeros(2*80).reshape(80,2)\n",
      "\n",
      "for k in range(2,81):\n",
      "    DataCA184[k-1:k,[0]]=k*.01\n",
      "print DataCA184[2]*100\n",
      "\n",
      "\n",
      "iterations = 150\n",
      "length = arange(1,101)\n",
      "DataCA184 = zeros(2*79).reshape(79,2)\n",
      "\n",
      "for k in range(1,80):\n",
      "    DataCA184[k-1:k,[0]]=(k+1)*.01\n",
      "\n",
      "for j in range(1,80):\n",
      "    \n",
      "    random.shuffle(length)\n",
      "    int(DataCA184[j-1:j,[0]]*100)\n",
      "print DataCA184[:,[0]]\n",
      "\n",
      "print 150/2."
     ],
     "language": "python",
     "metadata": {},
     "outputs": [
      {
       "output_type": "stream",
       "stream": "stdout",
       "text": [
        "[ 3.  0.]\n",
        "[[ 0.02]\n",
        " [ 0.03]\n",
        " [ 0.04]\n",
        " [ 0.05]\n",
        " [ 0.06]\n",
        " [ 0.07]\n",
        " [ 0.08]\n",
        " [ 0.09]\n",
        " [ 0.1 ]\n",
        " [ 0.11]\n",
        " [ 0.12]\n",
        " [ 0.13]\n",
        " [ 0.14]\n",
        " [ 0.15]\n",
        " [ 0.16]\n",
        " [ 0.17]\n",
        " [ 0.18]\n",
        " [ 0.19]\n",
        " [ 0.2 ]\n",
        " [ 0.21]\n",
        " [ 0.22]\n",
        " [ 0.23]\n",
        " [ 0.24]\n",
        " [ 0.25]\n",
        " [ 0.26]\n",
        " [ 0.27]\n",
        " [ 0.28]\n",
        " [ 0.29]\n",
        " [ 0.3 ]\n",
        " [ 0.31]\n",
        " [ 0.32]\n",
        " [ 0.33]\n",
        " [ 0.34]\n",
        " [ 0.35]\n",
        " [ 0.36]\n",
        " [ 0.37]\n",
        " [ 0.38]\n",
        " [ 0.39]\n",
        " [ 0.4 ]\n",
        " [ 0.41]\n",
        " [ 0.42]\n",
        " [ 0.43]\n",
        " [ 0.44]\n",
        " [ 0.45]\n",
        " [ 0.46]\n",
        " [ 0.47]\n",
        " [ 0.48]\n",
        " [ 0.49]\n",
        " [ 0.5 ]\n",
        " [ 0.51]\n",
        " [ 0.52]\n",
        " [ 0.53]\n",
        " [ 0.54]\n",
        " [ 0.55]\n",
        " [ 0.56]\n",
        " [ 0.57]\n",
        " [ 0.58]\n",
        " [ 0.59]\n",
        " [ 0.6 ]\n",
        " [ 0.61]\n",
        " [ 0.62]\n",
        " [ 0.63]\n",
        " [ 0.64]\n",
        " [ 0.65]\n",
        " [ 0.66]\n",
        " [ 0.67]\n",
        " [ 0.68]\n",
        " [ 0.69]\n",
        " [ 0.7 ]\n",
        " [ 0.71]\n",
        " [ 0.72]\n",
        " [ 0.73]\n",
        " [ 0.74]\n",
        " [ 0.75]\n",
        " [ 0.76]\n",
        " [ 0.77]\n",
        " [ 0.78]\n",
        " [ 0.79]\n",
        " [ 0.8 ]]\n",
        "75.0\n"
       ]
      }
     ],
     "prompt_number": 41
    },
    {
     "cell_type": "code",
     "collapsed": false,
     "input": [
      "v_max=10\n",
      "iterations = 150\n",
      "length = arange(1,101)\n",
      "DataCA184 = zeros(3*79).reshape(79,3)\n",
      "\n",
      "for k in range(1,80):\n",
      "    DataCA184[k-1:k,[0]]=(k+1)*.01\n",
      "\n",
      "\n",
      "for j in range(1,80):\n",
      "    \n",
      "    random.shuffle(length)\n",
      "    num_cars=int((DataCA184[j-1:j,[0]])*100)\n",
      "    \n",
      "    PositionsCA184=zeros(num_cars*iterations).reshape(iterations,num_cars)\n",
      "    VelocitiesCA184=zeros(num_cars*iterations).reshape(iterations,num_cars)\n",
      "    \n",
      "   \n",
      "    PositionsCA184[0]=sort(length[:int(num_cars)])\n",
      "    V=[]\n",
      "    while len(V)<num_cars:\n",
      "        V.append(randint(0,v_max))\n",
      "        if len(V)==num_cars:\n",
      "            break\n",
      "    V=array(V)\n",
      "\n",
      "    VelocitiesCA184[0]=V\n",
      "    \n",
      "    for a in range(0,int(iterations-1)):\n",
      "        PositionsCA184[a+1],VelocitiesCA184[a+1]=CA184(PositionsCA184[a],VelocitiesCA184[a],length)\n",
      "    \n",
      "    avg_vel = []\n",
      "    avg_vel.append(sum(VelocitiesCA184)/float(iterations))\n",
      "    avg_vel=array(avg_vel)/num_cars\n",
      "   \n",
      "    \n",
      "    DataCA184[j-1:j,[1]]=avg_vel\n",
      "    DataCA184[j-1:j,[2]]=avg_vel/max(length)\n",
      "print DataCA184"
     ],
     "language": "python",
     "metadata": {},
     "outputs": [
      {
       "output_type": "stream",
       "stream": "stdout",
       "text": [
        "[[ 0.02        9.76333333]\n",
        " [ 0.03        9.78      ]\n",
        " [ 0.04        8.47666667]\n",
        " [ 0.05        8.67733333]\n",
        " [ 0.06        6.17111111]\n",
        " [ 0.07        6.14857143]\n",
        " [ 0.08        6.02416667]\n",
        " [ 0.09        6.22814815]\n",
        " [ 0.1         7.66133333]\n",
        " [ 0.11        7.40121212]\n",
        " [ 0.12        7.115     ]\n",
        " [ 0.13        7.13230769]\n",
        " [ 0.14        7.17142857]\n",
        " [ 0.15        6.86088889]\n",
        " [ 0.16        7.23416667]\n",
        " [ 0.17        7.01137255]\n",
        " [ 0.18        6.87740741]\n",
        " [ 0.19        6.93087719]\n",
        " [ 0.2         6.95933333]\n",
        " [ 0.21        5.59587302]\n",
        " [ 0.22        6.89757576]\n",
        " [ 0.23        6.76202899]\n",
        " [ 0.24        6.73277778]\n",
        " [ 0.25        6.67333333]\n",
        " [ 0.26        6.67512821]\n",
        " [ 0.27        6.68395062]\n",
        " [ 0.28        6.68404762]\n",
        " [ 0.29        7.12785714]\n",
        " [ 0.3         6.61911111]\n",
        " [ 0.31        6.67290323]\n",
        " [ 0.32        6.46520833]\n",
        " [ 0.33        6.54626263]\n",
        " [ 0.34        6.67176471]\n",
        " [ 0.35        6.66666667]\n",
        " [ 0.36        6.33666667]\n",
        " [ 0.37        7.00522523]\n",
        " [ 0.38        6.59140351]\n",
        " [ 0.39        6.44717949]\n",
        " [ 0.4         6.54366667]\n",
        " [ 0.41        6.43691057]\n",
        " [ 0.42        6.42968254]\n",
        " [ 0.43        6.51286822]\n",
        " [ 0.44        6.28484848]\n",
        " [ 0.45        6.50266667]\n",
        " [ 0.46        6.44724638]\n",
        " [ 0.47        6.38113475]\n",
        " [ 0.48        6.33513889]\n",
        " [ 0.49        6.25537415]\n",
        " [ 0.5         6.30186667]\n",
        " [ 0.51        6.29986928]\n",
        " [ 0.52        6.63576923]\n",
        " [ 0.53        6.26289308]\n",
        " [ 0.54        6.35975309]\n",
        " [ 0.55        6.27648485]\n",
        " [ 0.56        6.30261905]\n",
        " [ 0.57        6.31824561]\n",
        " [ 0.58        6.36538012]\n",
        " [ 0.59        6.16870056]\n",
        " [ 0.6         6.35555556]\n",
        " [ 0.61        6.19672131]\n",
        " [ 0.62        6.2616129 ]\n",
        " [ 0.63        6.27375661]\n",
        " [ 0.64        6.18947917]\n",
        " [ 0.65        6.24297436]\n",
        " [ 0.66        6.27313131]\n",
        " [ 0.67        6.15283582]\n",
        " [ 0.68        6.195     ]\n",
        " [ 0.69        6.13797101]\n",
        " [ 0.7         6.22638095]\n",
        " [ 0.71        6.20018779]\n",
        " [ 0.72        6.2037963 ]\n",
        " [ 0.73        6.14493151]\n",
        " [ 0.74        6.12684685]\n",
        " [ 0.75        6.15048889]\n",
        " [ 0.76        6.125     ]\n",
        " [ 0.77        6.26649351]\n",
        " [ 0.78        6.11905983]\n",
        " [ 0.79        6.15983122]\n",
        " [ 0.8         6.14166667]]\n"
       ]
      }
     ],
     "prompt_number": 37
    },
    {
     "cell_type": "code",
     "collapsed": false,
     "input": [
      "v_max=10\n",
      "iterations = 150\n",
      "length = arange(1,101)\n",
      "DataSTCA = zeros(3*79).reshape(79,3)\n",
      "\n",
      "for k in range(1,80):\n",
      "    DataSTCA[k-1:k,[0]]=(k+1)*.01\n",
      "\n",
      "for j in range(1,80):\n",
      "    \n",
      "    random.shuffle(length)\n",
      "    num_cars=int((DataSTCA[j-1:j,[0]])*100)\n",
      "    \n",
      "    PositionsSTCA=zeros(num_cars*iterations).reshape(iterations,num_cars)\n",
      "    VelocitiesSTCA=zeros(num_cars*iterations).reshape(iterations,num_cars)\n",
      "    \n",
      "   \n",
      "    PositionsSTCA[0]=sort(length[:int(num_cars)])\n",
      "\n",
      "    V=[]\n",
      "    while len(V)<num_cars:\n",
      "        V.append(randint(0,v_max))\n",
      "        if len(V)==num_cars:\n",
      "            break\n",
      "    V=array(V)\n",
      "    \n",
      "    VelocitiesSTCA[0]=V\n",
      "\n",
      "    \n",
      "    for i in range(0,int(iterations-1)):\n",
      "        PositionsSTCA[i+1],VelocitiesSTCA[i+1]=STCA(PositionsSTCA[i],VelocitiesSTCA[i],length)\n",
      "    \n",
      "    avg_vel = []\n",
      "    avg_vel.append(sum(VelocitiesSTCA)/float(iterations))\n",
      "    avg_vel=array(avg_vel)/float(num_cars)\n",
      "   \n",
      "    \n",
      "    DataSTCA[j-1:j,[1]]=avg_vel\n",
      "    DataSTCA[j-1:j,[2]]=avg_vel/max(length)\n",
      "print DataSTCA"
     ],
     "language": "python",
     "metadata": {},
     "outputs": [
      {
       "ename": "KeyboardInterrupt",
       "evalue": "",
       "output_type": "pyerr",
       "traceback": [
        "\u001b[1;31m---------------------------------------------------------------------------\u001b[0m\n\u001b[1;31mKeyboardInterrupt\u001b[0m                         Traceback (most recent call last)",
        "\u001b[1;32m<ipython-input-40-a2d662bccb32>\u001b[0m in \u001b[0;36m<module>\u001b[1;34m()\u001b[0m\n\u001b[0;32m     29\u001b[0m \u001b[1;33m\u001b[0m\u001b[0m\n\u001b[0;32m     30\u001b[0m     \u001b[1;32mfor\u001b[0m \u001b[0mi\u001b[0m \u001b[1;32min\u001b[0m \u001b[0mrange\u001b[0m\u001b[1;33m(\u001b[0m\u001b[1;36m0\u001b[0m\u001b[1;33m,\u001b[0m\u001b[0mint\u001b[0m\u001b[1;33m(\u001b[0m\u001b[0miterations\u001b[0m\u001b[1;33m-\u001b[0m\u001b[1;36m1\u001b[0m\u001b[1;33m)\u001b[0m\u001b[1;33m)\u001b[0m\u001b[1;33m:\u001b[0m\u001b[1;33m\u001b[0m\u001b[0m\n\u001b[1;32m---> 31\u001b[1;33m         \u001b[0mPositionsSTCA\u001b[0m\u001b[1;33m[\u001b[0m\u001b[0mi\u001b[0m\u001b[1;33m+\u001b[0m\u001b[1;36m1\u001b[0m\u001b[1;33m]\u001b[0m\u001b[1;33m,\u001b[0m\u001b[0mVelocitiesSTCA\u001b[0m\u001b[1;33m[\u001b[0m\u001b[0mi\u001b[0m\u001b[1;33m+\u001b[0m\u001b[1;36m1\u001b[0m\u001b[1;33m]\u001b[0m\u001b[1;33m=\u001b[0m\u001b[0mSTCA\u001b[0m\u001b[1;33m(\u001b[0m\u001b[0mPositionsSTCA\u001b[0m\u001b[1;33m[\u001b[0m\u001b[0mi\u001b[0m\u001b[1;33m]\u001b[0m\u001b[1;33m,\u001b[0m\u001b[0mVelocitiesSTCA\u001b[0m\u001b[1;33m[\u001b[0m\u001b[0mi\u001b[0m\u001b[1;33m]\u001b[0m\u001b[1;33m,\u001b[0m\u001b[0mlength\u001b[0m\u001b[1;33m)\u001b[0m\u001b[1;33m\u001b[0m\u001b[0m\n\u001b[0m\u001b[0;32m     32\u001b[0m \u001b[1;33m\u001b[0m\u001b[0m\n\u001b[0;32m     33\u001b[0m     \u001b[0mavg_vel\u001b[0m \u001b[1;33m=\u001b[0m \u001b[1;33m[\u001b[0m\u001b[1;33m]\u001b[0m\u001b[1;33m\u001b[0m\u001b[0m\n",
        "\u001b[1;32m<ipython-input-11-479913c5c681>\u001b[0m in \u001b[0;36mSTCA\u001b[1;34m(x, v, l)\u001b[0m\n\u001b[0;32m     46\u001b[0m                 \u001b[0mrefined\u001b[0m\u001b[1;33m[\u001b[0m\u001b[0mi\u001b[0m\u001b[1;33m]\u001b[0m\u001b[1;33m.\u001b[0m\u001b[0mappend\u001b[0m\u001b[1;33m(\u001b[0m\u001b[0mchunks\u001b[0m\u001b[1;33m[\u001b[0m\u001b[0mi\u001b[0m\u001b[1;33m]\u001b[0m\u001b[1;33m[\u001b[0m\u001b[0mj\u001b[0m\u001b[1;33m]\u001b[0m\u001b[1;33m)\u001b[0m\u001b[1;33m\u001b[0m\u001b[0m\n\u001b[0;32m     47\u001b[0m             \u001b[1;32melif\u001b[0m \u001b[0mall\u001b[0m\u001b[1;33m(\u001b[0m\u001b[0mchunks\u001b[0m\u001b[1;33m[\u001b[0m\u001b[0mi\u001b[0m\u001b[1;33m]\u001b[0m\u001b[1;33m[\u001b[0m\u001b[0mj\u001b[0m\u001b[1;33m]\u001b[0m\u001b[1;33m<\u001b[0m\u001b[1;36m0\u001b[0m\u001b[1;33m)\u001b[0m\u001b[1;33m:\u001b[0m\u001b[1;33m\u001b[0m\u001b[0m\n\u001b[1;32m---> 48\u001b[1;33m                 \u001b[0mrefined\u001b[0m\u001b[1;33m[\u001b[0m\u001b[0mi\u001b[0m\u001b[1;33m]\u001b[0m\u001b[1;33m.\u001b[0m\u001b[0mappend\u001b[0m\u001b[1;33m(\u001b[0m\u001b[0mmax\u001b[0m\u001b[1;33m(\u001b[0m\u001b[0ml\u001b[0m\u001b[1;33m)\u001b[0m\u001b[1;33m-\u001b[0m\u001b[0mx\u001b[0m\u001b[1;33m[\u001b[0m\u001b[0mi\u001b[0m\u001b[1;33m]\u001b[0m\u001b[1;33m+\u001b[0m\u001b[0mmin\u001b[0m\u001b[1;33m(\u001b[0m\u001b[0mx\u001b[0m\u001b[1;33m)\u001b[0m\u001b[1;33m-\u001b[0m\u001b[1;36m1\u001b[0m\u001b[1;33m)\u001b[0m\u001b[1;33m\u001b[0m\u001b[0m\n\u001b[0m\u001b[0;32m     49\u001b[0m             \u001b[1;32melse\u001b[0m\u001b[1;33m:\u001b[0m\u001b[1;33m\u001b[0m\u001b[0m\n\u001b[0;32m     50\u001b[0m                 \u001b[0mrefined\u001b[0m\u001b[1;33m[\u001b[0m\u001b[0mi\u001b[0m\u001b[1;33m]\u001b[0m\u001b[1;33m.\u001b[0m\u001b[0mappend\u001b[0m\u001b[1;33m(\u001b[0m\u001b[1;36m0.\u001b[0m\u001b[1;33m)\u001b[0m\u001b[1;33m\u001b[0m\u001b[0m\n",
        "\u001b[1;31mKeyboardInterrupt\u001b[0m: "
       ]
      }
     ],
     "prompt_number": 40
    },
    {
     "cell_type": "code",
     "collapsed": false,
     "input": [
      "v_max=10\n",
      "iterations = 150\n",
      "length = arange(1,101)\n",
      "DataASEP = zeros(3*79).reshape(79,3)\n",
      "\n",
      "for k in range(1,80):\n",
      "    DataASEP[k-1:k,[0]]=(k+1)*.01\n",
      "\n",
      "for j in range(1,80):\n",
      "    \n",
      "    random.shuffle(length)\n",
      "    num_cars=int((DataASEP[j-1:j,[0]])*100)\n",
      "    \n",
      "    PositionsASEP=zeros(num_cars*iterations).reshape(iterations,num_cars)\n",
      "    VelocitiesASEP=zeros(num_cars*iterations).reshape(iterations,num_cars)\n",
      "    \n",
      "   \n",
      "    PositionsASEP[0]=sort(length[:int(num_cars)])\n",
      "\n",
      "    V=[]\n",
      "    while len(V)<num_cars:\n",
      "        V.append(randint(0,v_max))\n",
      "        if len(V)==num_cars:\n",
      "            break\n",
      "    V=array(V)\n",
      "    \n",
      "    VelocitiesASEP[0]=V\n",
      "\n",
      "    \n",
      "    for i in range(0,int(iterations-1)):\n",
      "        PositionsASEP[i+1],VelocitiesASEP[i+1]=ASEP(PositionsASEP[i],VelocitiesASEP[i],length)\n",
      "    \n",
      "    avg_vel = []\n",
      "    avg_vel.append(sum(VelocitiesASEP)/iterations)\n",
      "    avg_vel=array(avg_vel)/num_cars\n",
      "   \n",
      "    \n",
      "    DataASEP[j-1:j,[1]]=avg_vel\n",
      "    DataASEP[j-1:j,[2]]=avg_vel/max(length)\n",
      "print DataASEP"
     ],
     "language": "python",
     "metadata": {},
     "outputs": [
      {
       "output_type": "stream",
       "stream": "stdout",
       "text": [
        "[[ 0.02        9.83      ]\n",
        " [ 0.03        9.62222222]\n",
        " [ 0.04        8.735     ]\n",
        " [ 0.05        6.104     ]\n",
        " [ 0.06        6.20777778]\n",
        " [ 0.07        5.97714286]\n",
        " [ 0.08        6.16333333]\n",
        " [ 0.09        5.72444444]\n",
        " [ 0.1         5.81466667]\n",
        " [ 0.11        5.79090909]\n",
        " [ 0.12        5.83555556]\n",
        " [ 0.13        5.58205128]\n",
        " [ 0.14        5.38619048]\n",
        " [ 0.15        5.668     ]\n",
        " [ 0.16        7.23541667]\n",
        " [ 0.17        5.43882353]\n",
        " [ 0.18        6.80074074]\n",
        " [ 0.19        6.90561404]\n",
        " [ 0.2         6.81266667]\n",
        " [ 0.21        6.73111111]\n",
        " [ 0.22        6.94424242]\n",
        " [ 0.23        6.68376812]\n",
        " [ 0.24        6.63472222]\n",
        " [ 0.25        6.50106667]\n",
        " [ 0.26        6.48333333]\n",
        " [ 0.27        6.4637037 ]\n",
        " [ 0.28        6.98547619]\n",
        " [ 0.29        6.6902381 ]\n",
        " [ 0.3         6.49888889]\n",
        " [ 0.31        6.4655914 ]\n",
        " [ 0.32        6.39375   ]\n",
        " [ 0.33        6.61131313]\n",
        " [ 0.34        6.51784314]\n",
        " [ 0.35        6.61504762]\n",
        " [ 0.36        6.62055556]\n",
        " [ 0.37        6.43513514]\n",
        " [ 0.38        6.48035088]\n",
        " [ 0.39        6.49367521]\n",
        " [ 0.4         6.442     ]\n",
        " [ 0.41        6.33544715]\n",
        " [ 0.42        6.42333333]\n",
        " [ 0.43        6.34976744]\n",
        " [ 0.44        6.36893939]\n",
        " [ 0.45        6.32533333]\n",
        " [ 0.46        6.3657971 ]\n",
        " [ 0.47        6.25957447]\n",
        " [ 0.48        6.51444444]\n",
        " [ 0.49        6.29646259]\n",
        " [ 0.5         6.3516    ]\n",
        " [ 0.51        6.39006536]\n",
        " [ 0.52        6.39230769]\n",
        " [ 0.53        6.30213836]\n",
        " [ 0.54        6.39839506]\n",
        " [ 0.55        6.288     ]\n",
        " [ 0.56        6.29464286]\n",
        " [ 0.57        6.24830409]\n",
        " [ 0.58        6.37578947]\n",
        " [ 0.59        6.19649718]\n",
        " [ 0.6         6.15677778]\n",
        " [ 0.61        6.29879781]\n",
        " [ 0.62        6.34483871]\n",
        " [ 0.63        6.14190476]\n",
        " [ 0.64        6.29947917]\n",
        " [ 0.65        6.25989744]\n",
        " [ 0.66        6.16181818]\n",
        " [ 0.67        6.12925373]\n",
        " [ 0.68        6.15392157]\n",
        " [ 0.69        6.1826087 ]\n",
        " [ 0.7         6.15247619]\n",
        " [ 0.71        6.15502347]\n",
        " [ 0.72        6.28037037]\n",
        " [ 0.73        6.14219178]\n",
        " [ 0.74        6.13378378]\n",
        " [ 0.75        6.12515556]\n",
        " [ 0.76        6.13008772]\n",
        " [ 0.77        6.12718615]\n",
        " [ 0.78        6.13786325]\n",
        " [ 0.79        6.18109705]\n",
        " [ 0.8         6.1335    ]]\n"
       ]
      }
     ],
     "prompt_number": 32
    },
    {
     "cell_type": "code",
     "collapsed": false,
     "input": [
      "plot(DataCA184[:,[0]],DataCA184[:,[1]])\n",
      "ylim(0,v_max)\n",
      "xlim(.01,.77)\n",
      "xlabel('Density (number of cars/length of road)')\n",
      "ylabel('Average Velocity')\n",
      "title('CA184 Average Velocity vs. Density')\n",
      "show()"
     ],
     "language": "python",
     "metadata": {},
     "outputs": [
      {
       "output_type": "display_data",
       "png": "[encoded data removed]"
      }
     ],
     "prompt_number": 36
    },
    {
     "cell_type": "code",
     "collapsed": false,
     "input": [
      "plot(DataSTCA[:,[0]],DataSTCA[:,[1]])\n",
      "xlim(.01,.77)\n",
      "ylim(0.,v_max)\n",
      "xlabel('Density (number of cars/length of road)')\n",
      "ylabel('Average Velocity')\n",
      "title('STCA Average Velocity vs. Density')\n",
      "show()"
     ],
     "language": "python",
     "metadata": {},
     "outputs": [
      {
       "ename": "TypeError",
       "evalue": "tuple indices must be integers, not tuple",
       "output_type": "pyerr",
       "traceback": [
        "\u001b[1;31m---------------------------------------------------------------------------\u001b[0m\n\u001b[1;31mTypeError\u001b[0m                                 Traceback (most recent call last)",
        "\u001b[1;32m<ipython-input-37-c71776f4c0bf>\u001b[0m in \u001b[0;36m<module>\u001b[1;34m()\u001b[0m\n\u001b[1;32m----> 1\u001b[1;33m \u001b[0mplot\u001b[0m\u001b[1;33m(\u001b[0m\u001b[0mDataSTCA\u001b[0m\u001b[1;33m[\u001b[0m\u001b[1;33m:\u001b[0m\u001b[1;33m,\u001b[0m\u001b[1;33m[\u001b[0m\u001b[1;36m0\u001b[0m\u001b[1;33m]\u001b[0m\u001b[1;33m]\u001b[0m\u001b[1;33m,\u001b[0m\u001b[0mDataSTCA\u001b[0m\u001b[1;33m[\u001b[0m\u001b[1;33m:\u001b[0m\u001b[1;33m,\u001b[0m\u001b[1;33m[\u001b[0m\u001b[1;36m1\u001b[0m\u001b[1;33m]\u001b[0m\u001b[1;33m]\u001b[0m\u001b[1;33m)\u001b[0m\u001b[1;33m\u001b[0m\u001b[0m\n\u001b[0m\u001b[0;32m      2\u001b[0m \u001b[0mxlim\u001b[0m\u001b[1;33m(\u001b[0m\u001b[1;36m.01\u001b[0m\u001b[1;33m,\u001b[0m\u001b[1;36m.77\u001b[0m\u001b[1;33m)\u001b[0m\u001b[1;33m\u001b[0m\u001b[0m\n\u001b[0;32m      3\u001b[0m \u001b[0mylim\u001b[0m\u001b[1;33m(\u001b[0m\u001b[1;36m0.\u001b[0m\u001b[1;33m,\u001b[0m\u001b[0mv_max\u001b[0m\u001b[1;33m)\u001b[0m\u001b[1;33m\u001b[0m\u001b[0m\n\u001b[0;32m      4\u001b[0m \u001b[0mxlabel\u001b[0m\u001b[1;33m(\u001b[0m\u001b[1;34m'Density (number of cars/length of road)'\u001b[0m\u001b[1;33m)\u001b[0m\u001b[1;33m\u001b[0m\u001b[0m\n\u001b[0;32m      5\u001b[0m \u001b[0mylabel\u001b[0m\u001b[1;33m(\u001b[0m\u001b[1;34m'Average Velocity'\u001b[0m\u001b[1;33m)\u001b[0m\u001b[1;33m\u001b[0m\u001b[0m\n",
        "\u001b[1;31mTypeError\u001b[0m: tuple indices must be integers, not tuple"
       ]
      }
     ],
     "prompt_number": 37
    },
    {
     "cell_type": "code",
     "collapsed": false,
     "input": [
      "plot(DataASEP[:,[0]],DataASEP[:,[1]])\n",
      "xlim(.01,.77)\n",
      "ylim(0.,v_max)\n",
      "xlabel('Density (number of cars/length of road)')\n",
      "ylabel('Average Velocity')\n",
      "title('ASEP Average Velocity vs. Density')\n",
      "show()"
     ],
     "language": "python",
     "metadata": {},
     "outputs": [
      {
       "output_type": "display_data",
       "png": "[encoded data removed]"
      }
     ],
     "prompt_number": 38
    },
    {
     "cell_type": "code",
     "collapsed": false,
     "input": [
      "length = arange(1,41)\n",
      "iterations=100\n",
      "num_cars=5\n",
      "\n",
      "PositionsCA184=zeros(num_cars*iterations).reshape(iterations,num_cars)\n",
      "VelocitiesCA184=zeros(num_cars*iterations).reshape(iterations,num_cars)\n",
      "PositionsCA184[0]=sort((length)[:num_cars])\n",
      "    \n",
      "V=[]\n",
      "while len(V)<num_cars:\n",
      "    V.append(randint(0,v_max))\n",
      "    if len(V)==num_cars:\n",
      "        break\n",
      "V=array(V)\n",
      "\n",
      "VelocitiesCA184[0]=V\n",
      "    \n",
      "for i in range(0,int(iterations-1)):\n",
      "    PositionsCA184[i+1],VelocitiesCA184[i+1]=CA184(PositionsCA184[i],VelocitiesCA184[i],length)\n",
      "avg_vel=float(sum(VelocitiesCA184))/float(iterations)\n",
      "avg_vel=array(float(avg_vel))/float(num_cars)\n",
      "print Data"
     ],
     "language": "python",
     "metadata": {},
     "outputs": [
      {
       "output_type": "stream",
       "stream": "stdout",
       "text": [
        "[[ 0.01        9.90666667]\n",
        " [ 0.02        8.575     ]\n",
        " [ 0.03        6.12666667]\n",
        " [ 0.04        7.13166667]\n",
        " [ 0.05        5.464     ]\n",
        " [ 0.06        0.        ]\n",
        " [ 0.07        0.        ]\n",
        " [ 0.08        0.        ]\n",
        " [ 0.09        0.        ]\n",
        " [ 0.1         0.        ]\n",
        " [ 0.11        0.        ]\n",
        " [ 0.12        0.        ]\n",
        " [ 0.13        0.        ]\n",
        " [ 0.14        0.        ]\n",
        " [ 0.15        0.        ]\n",
        " [ 0.16        0.        ]\n",
        " [ 0.17        0.        ]\n",
        " [ 0.18        0.        ]\n",
        " [ 0.19        0.        ]\n",
        " [ 0.2         0.        ]\n",
        " [ 0.21        0.        ]\n",
        " [ 0.22        0.        ]\n",
        " [ 0.23        0.        ]\n",
        " [ 0.24        0.        ]\n",
        " [ 0.25        0.        ]\n",
        " [ 0.26        0.        ]\n",
        " [ 0.27        0.        ]\n",
        " [ 0.28        0.        ]\n",
        " [ 0.29        0.        ]\n",
        " [ 0.3         0.        ]\n",
        " [ 0.31        0.        ]\n",
        " [ 0.32        0.        ]\n",
        " [ 0.33        0.        ]\n",
        " [ 0.34        0.        ]\n",
        " [ 0.35        0.        ]\n",
        " [ 0.36        0.        ]\n",
        " [ 0.37        0.        ]\n",
        " [ 0.38        0.        ]\n",
        " [ 0.39        0.        ]\n",
        " [ 0.4         0.        ]\n",
        " [ 0.41        0.        ]\n",
        " [ 0.42        0.        ]\n",
        " [ 0.43        0.        ]\n",
        " [ 0.44        0.        ]\n",
        " [ 0.45        0.        ]\n",
        " [ 0.46        0.        ]\n",
        " [ 0.47        0.        ]\n",
        " [ 0.48        0.        ]\n",
        " [ 0.49        0.        ]\n",
        " [ 0.5         0.        ]\n",
        " [ 0.51        0.        ]\n",
        " [ 0.52        0.        ]\n",
        " [ 0.53        0.        ]\n",
        " [ 0.54        0.        ]\n",
        " [ 0.55        0.        ]\n",
        " [ 0.56        0.        ]\n",
        " [ 0.57        0.        ]\n",
        " [ 0.58        0.        ]\n",
        " [ 0.59        0.        ]\n",
        " [ 0.6         0.        ]\n",
        " [ 0.61        0.        ]\n",
        " [ 0.62        0.        ]\n",
        " [ 0.63        0.        ]\n",
        " [ 0.64        0.        ]\n",
        " [ 0.65        0.        ]\n",
        " [ 0.66        0.        ]\n",
        " [ 0.67        0.        ]\n",
        " [ 0.68        0.        ]\n",
        " [ 0.69        0.        ]\n",
        " [ 0.7         0.        ]\n",
        " [ 0.71        0.        ]\n",
        " [ 0.72        0.        ]\n",
        " [ 0.73        0.        ]\n",
        " [ 0.74        0.        ]\n",
        " [ 0.75        0.        ]\n",
        " [ 0.76        0.        ]\n",
        " [ 0.77        0.        ]\n",
        " [ 0.78        0.        ]\n",
        " [ 0.79        0.        ]\n",
        " [ 0.8         0.        ]]\n"
       ]
      }
     ],
     "prompt_number": 44
    },
    {
     "cell_type": "code",
     "collapsed": false,
     "input": [
      "Data[4-1:4,[1]]"
     ],
     "language": "python",
     "metadata": {},
     "outputs": [
      {
       "output_type": "pyout",
       "prompt_number": 94,
       "text": [
        "array([[ 0.]])"
       ]
      }
     ],
     "prompt_number": 94
    },
    {
     "cell_type": "code",
     "collapsed": false,
     "input": [
      "V=[]\n",
      "num_cars=100\n",
      "while len(V)<num_cars:\n",
      "    V.append(randint(0,v_max))\n",
      "    if len(V)==num_cars:\n",
      "        break\n",
      "V=array(V)\n",
      "print V"
     ],
     "language": "python",
     "metadata": {},
     "outputs": [
      {
       "output_type": "stream",
       "stream": "stdout",
       "text": [
        "[6 5 0 0 5 3 0 7 3 0 2 5 3 7 4 2 3 9 7 9 7 6 9 2 8 0 6 4 9 8 1 7 9 6 6 9 0\n",
        " 1 6 3 1 6 0 1 6 4 8 9 3 0 7 1 9 7 6 3 5 0 0 6 6 0 0 3 0 0 3 5 7 2 7 7 5 9\n",
        " 7 2 9 2 5 5 8 5 2 9 6 6 6 9 0 8 0 9 4 6 2 0 3 6 6 3]\n"
       ]
      }
     ],
     "prompt_number": 42
    },
    {
     "cell_type": "code",
     "collapsed": false,
     "input": [],
     "language": "python",
     "metadata": {},
     "outputs": []
    }
   ],
   "metadata": {}
  }
 ]
}