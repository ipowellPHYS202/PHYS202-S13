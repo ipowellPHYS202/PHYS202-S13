{
 "metadata": {
  "name": "1DTrafficFlow"
 },
 "nbformat": 3,
 "nbformat_minor": 0,
 "worksheets": [
  {
   "cells": [
    {
     "cell_type": "code",
     "collapsed": false,
     "input": [
      "#TESTS\n",
      "X = array([[1],[2],[4]])\n",
      "V = array([[2],[4],[1]])\n",
      "\n",
      "L = 10\n",
      "\n",
      "rest = L-X[2]\n",
      "\n",
      "\n",
      "def delta_x(a,b):\n",
      "    return X[a]-X[b]\n",
      "\n",
      "def delta_v(a,b):\n",
      "    return V[a]-V[b]"
     ],
     "language": "python",
     "metadata": {},
     "outputs": [],
     "prompt_number": 103
    },
    {
     "cell_type": "code",
     "collapsed": false,
     "input": [
      "#TESTS\n",
      "g_i = array([[delta_x(1,0)-1],[delta_x(2,1)-1],[rest]])\n",
      "print g_i\n",
      "print V"
     ],
     "language": "python",
     "metadata": {},
     "outputs": [
      {
       "output_type": "stream",
       "stream": "stdout",
       "text": [
        "[[[0]]\n",
        "\n",
        " [[1]]\n",
        "\n",
        " [[6]]]\n",
        "[[2]\n",
        " [4]\n",
        " [1]]\n"
       ]
      }
     ],
     "prompt_number": 104
    },
    {
     "cell_type": "markdown",
     "metadata": {},
     "source": [
      "###The CA184 Function"
     ]
    },
    {
     "cell_type": "code",
     "collapsed": false,
     "input": [
      "###Here I have a working function that takes our arguments x,v,l\n",
      "\n",
      "X = array([[1],[2],[4]])\n",
      "V = array([[2],[4],[1]])\n",
      "\n",
      "def CA184(x,v,l):\n",
      "#this g_i list iterates and appends the number of spaces in front of each car    \n",
      "    g_i=[]\n",
      "    for i in range(1,x.shape[0]):\n",
      "        g_i.append(x[i]-x[i-1]-1)\n",
      "    g_i.append(l-x[-1])\n",
      "#Using the CA184 rules I change my initial velocity accordingly    \n",
      "    for i in range(v.shape[0]):\n",
      "        if g_i[i]<v[i]:\n",
      "            v[i]=g_i[i]\n",
      "    for i in range(v.shape[0]):\n",
      "        if g_i[i]>v[i]:\n",
      "            v[i]=(v[i]+1)\n",
      "    for i in range(v.shape[0]):\n",
      "        if g_i[i]==0:\n",
      "            v[i]=0\n",
      "#With the new velocity I make an array of new position   \n",
      "    X_new=[]\n",
      "    for i in range(x.shape[0]):\n",
      "        X_new.append(x[i]+v[i])\n",
      "    print v\n",
      "    return X_new\n",
      "\n",
      "CA184(X,V,L)"
     ],
     "language": "python",
     "metadata": {},
     "outputs": [
      {
       "output_type": "stream",
       "stream": "stdout",
       "text": [
        "[[0]\n",
        " [1]\n",
        " [2]]\n"
       ]
      },
      {
       "output_type": "pyout",
       "prompt_number": 105,
       "text": [
        "[array([1]), array([3]), array([6])]"
       ]
      }
     ],
     "prompt_number": 105
    },
    {
     "cell_type": "markdown",
     "metadata": {},
     "source": [
      "According to my caluclations this function works!"
     ]
    },
    {
     "cell_type": "markdown",
     "metadata": {},
     "source": [
      "###================================"
     ]
    },
    {
     "cell_type": "code",
     "collapsed": false,
     "input": [
      "#With randomly generated positions and velocities:"
     ],
     "language": "python",
     "metadata": {},
     "outputs": [],
     "prompt_number": 106
    },
    {
     "cell_type": "code",
     "collapsed": false,
     "input": [
      "from numpy import random"
     ],
     "language": "python",
     "metadata": {},
     "outputs": [],
     "prompt_number": 107
    },
    {
     "cell_type": "code",
     "collapsed": false,
     "input": [
      "#random velocities and positions:\n",
      "num_cars=5\n",
      "l=arange(1,11)\n",
      "random.shuffle(l)\n",
      "X = l[:5]\n",
      "print X\n",
      "V = l[5:]\n",
      "print V"
     ],
     "language": "python",
     "metadata": {},
     "outputs": [
      {
       "output_type": "stream",
       "stream": "stdout",
       "text": [
        "[ 6  1 10  2  3]\n",
        "[8 5 7 4 9]\n"
       ]
      }
     ],
     "prompt_number": 108
    },
    {
     "cell_type": "markdown",
     "metadata": {},
     "source": [
      "###The Full CA184 Function:"
     ]
    },
    {
     "cell_type": "code",
     "collapsed": false,
     "input": [
      "#Edited and working!\n",
      "#Initial Conditions for testing purposes:\n",
      "v_max = 10\n",
      "num_cars=7\n",
      "l_=arange(1,41)\n",
      "random.shuffle(l_)\n",
      "#random and non-repeating positions\n",
      "X_ = sort(l_[:num_cars])\n",
      "#random and non-repeating velocities\n",
      "V_=[]\n",
      "for i in range(num_cars):\n",
      "    V_.append(random.randint(0,v_max))\n",
      "V_ = list(set(V_))\n",
      "while len(V_)<num_cars:\n",
      "    V_.append(randint(0,v_max))\n",
      "    V_ = list(set(V_))\n",
      "    if len(V_)==num_cars:\n",
      "        break\n",
      "V_=array(V_)\n",
      "        \n",
      "print \"initial position\",X_\n",
      "print \"initial velocity\",V_\n",
      "\n",
      "#Now as for the CA184 function:\n",
      "\n",
      "def CA184(x,v,l):\n",
      "#this g_i list iterates and appends the number of spaces in front of each car    \n",
      "    g_i=[]\n",
      "    y = []\n",
      "#complicated but worth it:\n",
      "    #append all differences:\n",
      "    for i in range(0,shape(x)[0]):\n",
      "        for j in range(0,shape(x)[0]):\n",
      "            if i!=j:\n",
      "                y.append(x[j]-x[i]-1)\n",
      "            else:\n",
      "                None\n",
      "    #slice list into list of sublists (for each car):\n",
      "    chunks = [y[i*(num_cars-1):i*(num_cars-1)+num_cars-1] for i in xrange(0,shape(x)[0])]\n",
      "\n",
      "    #N lists for N-max cars for \"refined\" (I can have as many lists as i want and nothing will change)\n",
      "    refined=[],[],[],[],[],[],[],[],[],[],[],[],[],[],[],[],[],[],[],[],[],[],[],[],[],[],[],[],[],[],[],[],[],[],[],[],[],[],[],[],[],[],[],[],[],[],[],[],[],[],[],[],[],[],[],[],[],[],[],[],[],[],[],[],[],[],[],[],[],[],[],[],[],[],[],[],[],[],[],[],[],[],[],[],[],[],[],[],[],[],[],[],[],[],[],[],[],[],[],[],[],[],[],[],[],[],[],[],[],[],[],[],[],[],[],[],[],[],[],[],[],[],[],[],[],[],[],[],[],[],[],[],[],[],[],[],[],[],[],[],[],[],[],[],[],[],[],[],[],[],[],[],[],[],[],[],[],[],[],[],[],[],[],[],[],[],[],[],[],[],[],[],[],[],[],[],[],[],[],[],\n",
      "    #iterating over all of \"chunks\" to get appropriate values into \"refined\":\n",
      "    for i in range(0,len(chunks[i])+1):\n",
      "        for j in range(0,len(chunks[j])):\n",
      "            if chunks[i][j]>0:\n",
      "                refined[i].append(chunks[i][j])\n",
      "            elif all(chunks[i][j]<0):\n",
      "                refined[i].append(max(l_)-x[i]+min(x)-1)\n",
      "            else:\n",
      "                refined[i].append(0.)\n",
      "    #finally:\n",
      "    for i in range(0,len(refined[0])+1):\n",
      "        if shape(refined[i])[0]!=0:\n",
      "            g_i.append(min(refined[i]))\n",
      "        else:\n",
      "            None\n",
      "    print \"g_i is\",g_i\n",
      "#Using the CA184 rules I change my initial velocity accordingly    \n",
      "    for i in range(v.shape[0]):\n",
      "        if g_i[i]<v[i]:\n",
      "            v[i]=g_i[i]\n",
      "    for i in range(v.shape[0]):\n",
      "        if g_i[i]>v[i] and v_max>v[i]:\n",
      "            v[i]=(v[i]+1)\n",
      "    for i in range(v.shape[0]):\n",
      "        if g_i[i]==0:\n",
      "            v[i]=0\n",
      "    for i in range(v.shape[0]):\n",
      "        if v[i]>v_max:\n",
      "            v[i]=v_max\n",
      "#With the new velocity I make an array of new position   \n",
      "    X_new = zeros(x.shape[0])\n",
      "    for i in arange(x.shape[0]):\n",
      "        X_new[i]=x[i]+v[i]\n",
      "        if X_new[i]>40:\n",
      "            X_new[i]=X_new[i]-40\n",
      "  \n",
      "    return array(X_new),array(v)\n",
      "\n",
      "\n",
      "X_new,V_new = CA184(X_,V_,l_)\n",
      "print \"new position is\",X_new\n",
      "print \"new velocity is\",V_new\n"
     ],
     "language": "python",
     "metadata": {},
     "outputs": [
      {
       "output_type": "stream",
       "stream": "stdout",
       "text": [
        "initial position [ 3 10 16 20 23 24 35]\n",
        "initial velocity [0 1 2 4 5 7 8]\n",
        "g_i is [6, 5, 3, 2, 0.0, 10, 7]\n",
        "new position is [  4.  12.  19.  22.  23.  32.   2.]\n",
        "new velocity is [1 2 3 2 0 8 7]\n"
       ]
      }
     ],
     "prompt_number": 132
    },
    {
     "cell_type": "code",
     "collapsed": false,
     "input": [
      "#The g_i:"
     ],
     "language": "python",
     "metadata": {},
     "outputs": [],
     "prompt_number": 134
    },
    {
     "cell_type": "code",
     "collapsed": false,
     "input": [
      "#l_=arange(1,31)\n",
      "num_cars=12\n",
      "x = array([3.,7.,1.,22.,32.,17.,31.,33.,39.,2.,5.,11.])  \n",
      "g_i=[]\n",
      "y = []\n",
      "for i in range(0,shape(x)[0]):\n",
      "    for j in range(0,shape(x)[0]):\n",
      "        if i!=j:\n",
      "            y.append(x[j]-x[i]-1)\n",
      "        else:\n",
      "            None\n",
      "print y\n",
      "chunks = [y[i*(num_cars-1):i*(num_cars-1)+num_cars-1] for i in xrange(0,shape(x)[0])]\n",
      "print chunks\n",
      "#g_i=[11,5,8,3,8]\n",
      "#num_cars = 5 so we have 5 empty lists\n",
      "refined=[],[],[],[],[],[],[],[],[],[],[],[],[],[],[],[],[],[],[],[],[],[],[],[],[],[],[],[],[],[],[],[],[],[],[],[],[],[],[],[],[],[],[],[],[],[],[],[],[],[],[],[],[],[],[],[],[],[],[],[],[],[],[],[],[],[],[],[],[],[],[],[],[],[],[],[],[],[],[],[],[],[],[],[],[],[],[],[],[],[],[],[],[],[],[],[],[],[],[],[],[],[],[],[],[],[],[],[],[],[],[],[],[],[],[],[],[],[],[],[],[],[],[],[],[],[],[],[],[],[],[],[],[],[],[],[],[],[],[],[],[],[],[],[],[],[],[],[],[],[],[],[],[],[],[],[],[],[],[],[],[],[],[],[],[],[],[],[],[],[],[],[],[],[],[],[],[],[],[],[],[],[],[],[],[],[],[],[],[],[],[],[],[],[],[],[],[],[],[],[],[],[],[],[],[],[],[],[],[],[],[],[],[],[],[],[],[],[],[],[],[],[],[],[],[],[],[],[]\n",
      "\n",
      "for i in range(0,len(chunks[i])+1):\n",
      "    for j in range(0,len(chunks[j])):\n",
      "        if chunks[i][j]>0:\n",
      "            refined[i].append(chunks[i][j])\n",
      "        elif all(chunks[i][j]<0):\n",
      "            refined[i].append(max(l_)-x[i]+min(x)-1)\n",
      "        else:\n",
      "            refined[i].append(0.)\n",
      "\n",
      "\n",
      "for i in range(0,len(refined[0])+1):\n",
      "    if shape(refined[i])[0]!=0:\n",
      "        g_i.append(min(refined[i]))\n",
      "    else:\n",
      "        None\n",
      "\n",
      "print 'g_i is',g_i\n",
      "print \"x is\",x\n",
      "            "
     ],
     "language": "python",
     "metadata": {},
     "outputs": [
      {
       "output_type": "stream",
       "stream": "stdout",
       "text": [
        "[3.0, -3.0, 18.0, 28.0, 13.0, 27.0, 29.0, 35.0, -2.0, 1.0, 7.0, -5.0, -7.0, 14.0, 24.0, 9.0, 23.0, 25.0, 31.0, -6.0, -3.0, 3.0, 1.0, 5.0, 20.0, 30.0, 15.0, 29.0, 31.0, 37.0, 0.0, 3.0, 9.0, -20.0, -16.0, -22.0, 9.0, -6.0, 8.0, 10.0, 16.0, -21.0, -18.0, -12.0, -30.0, -26.0, -32.0, -11.0, -16.0, -2.0, 0.0, 6.0, -31.0, -28.0, -22.0, -15.0, -11.0, -17.0, 4.0, 14.0, 13.0, 15.0, 21.0, -16.0, -13.0, -7.0, -29.0, -25.0, -31.0, -10.0, 0.0, -15.0, 1.0, 7.0, -30.0, -27.0, -21.0, -31.0, -27.0, -33.0, -12.0, -2.0, -17.0, -3.0, 5.0, -32.0, -29.0, -23.0, -37.0, -33.0, -39.0, -18.0, -8.0, -23.0, -9.0, -7.0, -38.0, -35.0, -29.0, 0.0, 4.0, -2.0, 19.0, 29.0, 14.0, 28.0, 30.0, 36.0, 2.0, 8.0, -3.0, 1.0, -5.0, 16.0, 26.0, 11.0, 25.0, 27.0, 33.0, -4.0, 5.0, -9.0, -5.0, -11.0, 10.0, 20.0, 5.0, 19.0, 21.0, 27.0, -10.0, -7.0]\n",
        "[[3.0, -3.0, 18.0, 28.0, 13.0, 27.0, 29.0, 35.0, -2.0, 1.0, 7.0], [-5.0, -7.0, 14.0, 24.0, 9.0, 23.0, 25.0, 31.0, -6.0, -3.0, 3.0], [1.0, 5.0, 20.0, 30.0, 15.0, 29.0, 31.0, 37.0, 0.0, 3.0, 9.0], [-20.0, -16.0, -22.0, 9.0, -6.0, 8.0, 10.0, 16.0, -21.0, -18.0, -12.0], [-30.0, -26.0, -32.0, -11.0, -16.0, -2.0, 0.0, 6.0, -31.0, -28.0, -22.0], [-15.0, -11.0, -17.0, 4.0, 14.0, 13.0, 15.0, 21.0, -16.0, -13.0, -7.0], [-29.0, -25.0, -31.0, -10.0, 0.0, -15.0, 1.0, 7.0, -30.0, -27.0, -21.0], [-31.0, -27.0, -33.0, -12.0, -2.0, -17.0, -3.0, 5.0, -32.0, -29.0, -23.0], [-37.0, -33.0, -39.0, -18.0, -8.0, -23.0, -9.0, -7.0, -38.0, -35.0, -29.0], [0.0, 4.0, -2.0, 19.0, 29.0, 14.0, 28.0, 30.0, 36.0, 2.0, 8.0], [-3.0, 1.0, -5.0, 16.0, 26.0, 11.0, 25.0, 27.0, 33.0, -4.0, 5.0], [-9.0, -5.0, -11.0, 10.0, 20.0, 5.0, 19.0, 21.0, 27.0, -10.0, -7.0]]\n",
        "g_i is [1.0, 3.0, 0.0, 8.0, 0.0, 4.0, 0.0, 5.0, 1.0, 0.0, 1.0, 5.0]\n",
        "x is [  3.   7.   1.  22.  32.  17.  31.  33.  39.   2.   5.  11.]\n"
       ]
      }
     ],
     "prompt_number": 137
    },
    {
     "cell_type": "markdown",
     "metadata": {},
     "source": [
      "###The Full STCA Function"
     ]
    },
    {
     "cell_type": "code",
     "collapsed": false,
     "input": [
      "#defining a probabilitly:\n",
      "prob = 20. #%\n",
      "p = prob/100.\n",
      "#same initialization process\n",
      "v_max = 15\n",
      "num_cars=10\n",
      "l_=arange(1,41)\n",
      "random.shuffle(l_)\n",
      "XX = sort(l_[:num_cars])\n",
      "\n",
      "VV=[]\n",
      "for i in range(num_cars):\n",
      "    VV.append(random.randint(0,v_max))\n",
      "VV = list(set(VV))\n",
      "while len(VV)<num_cars:\n",
      "    VV.append(randint(0,v_max))\n",
      "    VV = list(set(VV))\n",
      "    if len(VV)==num_cars:\n",
      "        break\n",
      "VV=array(VV)\n",
      "\n",
      "print \"initial position\",XX\n",
      "print \"initial velocity\",VV\n",
      "v_max = 10\n",
      "\n",
      "\n",
      "from numpy import random\n",
      "def STCA(x,v,l):\n",
      "#same g_i logic:    \n",
      "    g_i=[]\n",
      "    y = []\n",
      "    for i in range(0,shape(x)[0]):\n",
      "        for j in range(0,shape(x)[0]):\n",
      "            if i!=j:\n",
      "                y.append(x[j]-x[i]-1)\n",
      "            else:\n",
      "                None\n",
      "    chunks = [y[i*(num_cars-1):i*(num_cars-1)+num_cars-1] for i in xrange(0,shape(x)[0])]\n",
      "\n",
      "\n",
      "    #N lists for N-maximum cars for \"refined\"\n",
      "    refined=[],[],[],[],[],[],[],[],[],[],[],[],[],[],[],[],[],[],[],[],[],[],[],[],[],[],[],[],[],[],[],[],[],[],[],[],[],[],[],[],[],[],[],[],[],[],[],[],[],[],[],[],[],[],[],[],[],[],[],[],[],[],[],[],[],[],[],[],[],[],[],[],[],[],[],[],[],[],[],[],[],[],[],[],[],[],[],[],[],[],[],[],[],[],[],[],[],[],[],[],[],[],[],[],[],[],[],[],[],[],[],[],[],[],[],[],[],[],[],[],[],[],[],[],[],[],[],[],[],[],[],[],[],[],[],[],[],[],[],[],[],[],[],[],[],[],[],[],[],[],[],[]\n",
      "    for i in range(0,len(chunks[i])+1):\n",
      "        for j in range(0,len(chunks[j])):\n",
      "            if chunks[i][j]>0:\n",
      "                refined[i].append(chunks[i][j])\n",
      "            elif all(chunks[i][j]<0):\n",
      "                refined[i].append(max(l_)-x[i]+min(x)-1)\n",
      "            else:\n",
      "                refined[i].append(0.)\n",
      "    \n",
      "    for i in range(0,len(refined[0])+1):\n",
      "        if shape(refined[i])[0]!=0:\n",
      "            g_i.append(min(refined[i]))\n",
      "        else:\n",
      "            None\n",
      "   \n",
      "#Using the STCA rules I change my initial velocity accordingly    \n",
      "    for i in range(v.shape[0]):\n",
      "        if g_i[i]<v[i]:\n",
      "            v[i]=g_i[i]\n",
      "    for i in range(v.shape[0]):\n",
      "        if g_i[i]>v[i] and v[i]<v_max:\n",
      "            v[i]=(v[i]+1)\n",
      "    for i in range(v.shape[0]):\n",
      "        if g_i[i]==0:\n",
      "            v[i]=0\n",
      "#the modification to make this STCA and not CA184:\n",
      "    for i in range(v.shape[0]):\n",
      "        if ranf(1)<p and v[i]>0:\n",
      "            v[i]=v[i]-1\n",
      "    for i in range(v.shape[0]):\n",
      "        if v[i]>v_max:\n",
      "            v[i]=v_max\n",
      "#With the new velocity I make an array of new position   \n",
      "    X_new=[]\n",
      "    for i in range(x.shape[0]):\n",
      "        X_new.append(x[i]+v[i])\n",
      "    for i in range(x.shape[0]):\n",
      "        if X_new[i]>40:\n",
      "            X_new[i]=X_new[i]-40\n",
      "    return array(X_new),array(v)\n",
      "\n",
      "\n",
      "STCA(XX,VV,l_)"
     ],
     "language": "python",
     "metadata": {},
     "outputs": [
      {
       "output_type": "stream",
       "stream": "stdout",
       "text": [
        "initial position [ 3  8 11 18 25 26 27 29 36 38]\n",
        "initial velocity [ 0  1  3  4  6  8  9 10 11 13]\n"
       ]
      },
      {
       "output_type": "pyout",
       "prompt_number": 140,
       "text": [
        "(array([ 4,  9, 15, 22, 25, 26, 28, 35, 37,  1]),\n",
        " array([1, 1, 4, 4, 0, 0, 1, 6, 1, 3]))"
       ]
      }
     ],
     "prompt_number": 140
    },
    {
     "cell_type": "markdown",
     "metadata": {},
     "source": [
      "###The Full ASEP Function"
     ]
    },
    {
     "cell_type": "code",
     "collapsed": false,
     "input": [
      "v_max = 20\n",
      "num_cars=15\n",
      "l_=arange(1,41)\n",
      "random.shuffle(l_)\n",
      "x = sort(l_[:num_cars])\n",
      "\n",
      "v=[]\n",
      "for i in range(num_cars):\n",
      "    v.append(random.randint(0,v_max))\n",
      "v = list(set(v))\n",
      "\n",
      "while len(v)<num_cars:\n",
      "    v.append(randint(0,v_max))\n",
      "    v = list(set(v))\n",
      "    if len(v)==num_cars:\n",
      "        break\n",
      "v=array(v)\n",
      "\n",
      "print \"initial position\",x\n",
      "print \"initial velocity\",v\n",
      "\n",
      "\n",
      "\n",
      "def ASEP(x,v,l):\n",
      "    #randomizing the order of iteration:\n",
      "    a = range(num_cars)\n",
      "    random.shuffle(a)\n",
      "\n",
      "    g_i=[]\n",
      "    y = []\n",
      "    for i in range(0,shape(x)[0]):\n",
      "        for j in range(0,shape(x)[0]):\n",
      "            if i!=j:\n",
      "                y.append(x[j]-x[i]-1)\n",
      "            else:\n",
      "                None\n",
      "    chunks = [y[i*(num_cars-1):i*(num_cars-1)+num_cars-1] for i in xrange(0,shape(x)[0])]\n",
      "\n",
      "    #N lists for N-maximum cars for \"refined\"\n",
      "    refined=[],[],[],[],[],[],[],[],[],[],[],[],[],[],[],[],[],[],[],[],[],[],[],[],[],[],[],[],[],[],[],[],[],[],[],[],[],[],[],[],[],[],[],[],[],[],[],[],[],[],[],[],[],[],[],[],[],[],[],[],[],[],[],[],[],[],[],[],[],[],[],[],[],[],[],[],[],[],[],[],[],[],[],[],[],[],[],[],[],[],[],[],[],[],[],[],[],[],[],[],[],[],[],[],[],[],[],[],[],[],[],[],[],[],[],[],[],[],[],[],[],[],[],[],[],[],[],[],[],[],[],[],[],[],[],[],[],[],[],[],[],[],[],[],[],[],\n",
      "    for i in range(0,len(chunks[i])+1):\n",
      "        for j in range(0,len(chunks[j])):\n",
      "            if chunks[i][j]>0:\n",
      "                refined[i].append(chunks[i][j])\n",
      "            elif all(chunks[i][j]<0):\n",
      "                refined[i].append(max(l_)-x[i]+min(x)-1)\n",
      "            else:\n",
      "                refined[i].append(0.)\n",
      "    \n",
      "    for i in range(0,len(refined[0])+1):\n",
      "        if shape(refined[i])[0]!=0:\n",
      "            g_i.append(min(refined[i]))\n",
      "        else:\n",
      "            None\n",
      "    print g_i\n",
      "#Using the ASEP rules I change my initial velocity accordingly    \n",
      "    for i in range(v.shape[0]):\n",
      "        if g_i[a[i]]<v[a[i]]:\n",
      "            v[a[i]]=g_i[a[i]]\n",
      "        if g_i[a[i]]>v[a[i]] and v[a[i]]<v_max:\n",
      "            v[a[i]]=(v[a[i]]+1)\n",
      "        if g_i[a[i]]==0:\n",
      "            v[a[i]]=0\n",
      "        if v[a[i]]>v_max:\n",
      "            v[a[i]]=v_max\n",
      "            \n",
      "    X_new=[]\n",
      "    for i in range(x.shape[0]):\n",
      "        X_new.append(x[i]+v[i])\n",
      "    for i in range(x.shape[0]):\n",
      "        if X_new[i]>40:\n",
      "            X_new[i]=X_new[i]-40\n",
      "   \n",
      "    return array(X_new),array(v)\n",
      "    \n",
      "    \n",
      "ASEP(x,v,l_)"
     ],
     "language": "python",
     "metadata": {},
     "outputs": [
      {
       "output_type": "stream",
       "stream": "stdout",
       "text": [
        "initial position [ 2  3  6  8 10 15 18 20 23 24 28 29 30 36 37]\n",
        "initial velocity [ 0  1  2  4  5  6  7  8  9 10 11 12 13 15 16]\n",
        "[0.0, 2, 1, 1, 4, 2, 1, 2, 0.0, 3, 0.0, 0.0, 5, 0.0, 4]\n"
       ]
      },
      {
       "output_type": "pyout",
       "prompt_number": 141,
       "text": [
        "(array([ 2,  5,  7,  9, 14, 17, 19, 22, 23, 27, 28, 29, 35, 36,  1]),\n",
        " array([0, 2, 1, 1, 4, 2, 1, 2, 0, 3, 0, 0, 5, 0, 4]))"
       ]
      }
     ],
     "prompt_number": 141
    },
    {
     "cell_type": "markdown",
     "metadata": {},
     "source": [
      "###Storing Variables to Plot Current"
     ]
    },
    {
     "cell_type": "code",
     "collapsed": false,
     "input": [
      "iterations=150\n",
      "#initial conditions:\n",
      "v_max = 15\n",
      "num_cars=7\n",
      "\n",
      "#10 cars, 150 iterations-- so we have the following empty data sets:\n",
      "Positions = zeros(num_cars*iterations).reshape(iterations,num_cars)\n",
      "Velocities = zeros(num_cars*iterations).reshape(iterations,num_cars)\n",
      "DataCA184 = Positions,Velocities\n",
      "#Velocities[1,2] returns row 1, column 2\n",
      "#Data[1]=Velocities\n",
      "#Data[0]=Positions   "
     ],
     "language": "python",
     "metadata": {},
     "outputs": [],
     "prompt_number": 142
    },
    {
     "cell_type": "code",
     "collapsed": false,
     "input": [
      "#Initial Conditions:\n",
      "v_max = 15\n",
      "num_cars=7\n",
      "l_=arange(1,41)\n",
      "random.shuffle(l_)\n",
      "X_ = sort(l_[:num_cars])\n",
      "#==========================\n",
      "Positions[0]=X_\n",
      "#==========================\n",
      "V_=[]\n",
      "for i in range(num_cars):\n",
      "    V_.append(random.randint(0,v_max))\n",
      "V_ = list(set(V_))\n",
      "while len(V_)<num_cars:\n",
      "    V_.append(randint(0,v_max))\n",
      "    V_ = list(set(V_))\n",
      "    if len(V_)==num_cars:\n",
      "        break\n",
      "V_=array(V_)\n",
      "#==========================\n",
      "Velocities[0]=V_\n",
      "#==========================\n",
      "print \"initial position\",Positions[0]\n",
      "print \"initial velocity\",Velocities[0]"
     ],
     "language": "python",
     "metadata": {},
     "outputs": [
      {
       "output_type": "stream",
       "stream": "stdout",
       "text": [
        "initial position [  1.   3.  11.  14.  20.  23.  39.]\n",
        "initial velocity [  1.   3.   6.   8.   9.  13.  14.]\n"
       ]
      }
     ],
     "prompt_number": 143
    },
    {
     "cell_type": "code",
     "collapsed": false,
     "input": [
      "iterations=150\n",
      "#initial conditions:\n",
      "v_max = 15\n",
      "num_cars=7\n",
      "l_=arange(1,41)\n",
      "random.shuffle(l_)\n",
      "X_ = sort(l_[:num_cars])\n",
      "#==========================\n",
      "Positions[0]=X_\n",
      "#==========================\n",
      "V_=[]\n",
      "for i in range(num_cars):\n",
      "    V_.append(random.randint(0,v_max))\n",
      "V_ = list(set(V_))\n",
      "while len(V_)<num_cars:\n",
      "    V_.append(randint(0,v_max))\n",
      "    V_ = list(set(V_))\n",
      "    if len(V_)==num_cars:\n",
      "        break\n",
      "V_=array(V_)\n",
      "#==========================\n",
      "Velocities[0]=V_\n",
      "#==========================\n",
      "print \"initial position\",Positions[0]\n",
      "print \"initial velocity\",Velocities[0]\n",
      "#==========================\n",
      "\n",
      "#Storing the data of each iteration in arrays\n",
      "for i in range(0,iterations-1):\n",
      "    Positions[i+1],Velocities[i+1]=CA184(Positions[i],Velocities[i],l_);\n",
      "\n",
      "\n",
      "print shape(Velocities)[0]\n",
      "print sum(Velocities[2])"
     ],
     "language": "python",
     "metadata": {},
     "outputs": [
      {
       "output_type": "stream",
       "stream": "stdout",
       "text": [
        "initial position [  2.   6.  10.  15.  22.  24.  31.]\n",
        "initial velocity [  2.   5.   7.   8.   9.  12.  14.]\n",
        "g_i is [3.0, 3.0, 4.0, 6.0, 1.0, 6.0, 10.0]\n",
        "g_i is [3.0, 4.0, 6.0, 1.0, 6.0, 10.0, 3.0]\n",
        "g_i is [4.0, 5.0, 2.0, 2.0, 11.0, 6.0, 3.0]\n",
        "g_i is [5.0, 2.0, 2.0, 3.0, 14.0, 3.0, 4.0]\n",
        "g_i is [2.0, 2.0, 3.0, 4.0, 13.0, 4.0, 5.0]\n",
        "g_i is [2.0, 3.0, 4.0, 5.0, 12.0, 5.0, 2.0]\n",
        "g_i is [3.0, 4.0, 5.0, 6.0, 11.0, 2.0, 2.0]\n",
        "g_i is [4.0, 5.0, 6.0, 7.0, 6.0, 2.0, 3.0]\n",
        "g_i is [5.0, 6.0, 7.0, 6.0, 2.0, 3.0, 4.0]\n",
        "g_i is [6.0, 7.0, 6.0, 2.0, 3.0, 4.0, 5.0]\n",
        "g_i is [7.0, 6.0, 2.0, 3.0, 4.0, 5.0, 6.0]\n",
        "g_i is [6.0, 2.0, 3.0, 4.0, 5.0, 6.0, 7.0]\n",
        "g_i is [2.0, 3.0, 4.0, 5.0, 6.0, 7.0, 6.0]\n",
        "g_i is [3.0, 4.0, 5.0, 6.0, 7.0, 6.0, 2.0]\n",
        "g_i is [4.0, 5.0, 6.0, 7.0, 6.0, 2.0, 3.0]\n",
        "g_i is [5.0, 6.0, 7.0, 6.0, 2.0, 3.0, 4.0]\n",
        "g_i is [6.0, 7.0, 6.0, 2.0, 3.0, 4.0, 5.0]\n",
        "g_i is [7.0, 6.0, 2.0, 3.0, 4.0, 5.0, 6.0]\n",
        "g_i is [6.0, 2.0, 3.0, 4.0, 5.0, 6.0, 7.0]\n",
        "g_i is [2.0, 3.0, 4.0, 5.0, 6.0, 7.0, 6.0]\n",
        "g_i is [3.0, 4.0, 5.0, 6.0, 7.0, 6.0, 2.0]\n",
        "g_i is [4.0, 5.0, 6.0, 7.0, 6.0, 2.0, 3.0]\n",
        "g_i is [5.0, 6.0, 7.0, 6.0, 2.0, 3.0, 4.0]\n",
        "g_i is [6.0, 7.0, 6.0, 2.0, 3.0, 4.0, 5.0]\n",
        "g_i is [7.0, 6.0, 2.0, 3.0, 4.0, 5.0, 6.0]\n",
        "g_i is [6.0, 2.0, 3.0, 4.0, 5.0, 6.0, 7.0]\n",
        "g_i is [2.0, 3.0, 4.0, 5.0, 6.0, 7.0, 6.0]\n",
        "g_i is [3.0, 4.0, 5.0, 6.0, 7.0, 6.0, 2.0]\n",
        "g_i is [4.0, 5.0, 6.0, 7.0, 6.0, 2.0, 3.0]\n",
        "g_i is [5.0, 6.0, 7.0, 6.0, 2.0, 3.0, 4.0]\n",
        "g_i is [6.0, 7.0, 6.0, 2.0, 3.0, 4.0, 5.0]\n",
        "g_i is [7.0, 6.0, 2.0, 3.0, 4.0, 5.0, 6.0]\n",
        "g_i is [6.0, 2.0, 3.0, 4.0, 5.0, 6.0, 7.0]\n",
        "g_i is [2.0, 3.0, 4.0, 5.0, 6.0, 7.0, 6.0]\n",
        "g_i is [3.0, 4.0, 5.0, 6.0, 7.0, 6.0, 2.0]\n",
        "g_i is [4.0, 5.0, 6.0, 7.0, 6.0, 2.0, 3.0]\n",
        "g_i is [5.0, 6.0, 7.0, 6.0, 2.0, 3.0, 4.0]\n",
        "g_i is [6.0, 7.0, 6.0, 2.0, 3.0, 4.0, 5.0]\n",
        "g_i is [7.0, 6.0, 2.0, 3.0, 4.0, 5.0, 6.0]\n",
        "g_i is [6.0, 2.0, 3.0, 4.0, 5.0, 6.0, 7.0]\n",
        "g_i is [2.0, 3.0, 4.0, 5.0, 6.0, 7.0, 6.0]\n",
        "g_i is [3.0, 4.0, 5.0, 6.0, 7.0, 6.0, 2.0]\n",
        "g_i is [4.0, 5.0, 6.0, 7.0, 6.0, 2.0, 3.0]\n",
        "g_i is [5.0, 6.0, 7.0, 6.0, 2.0, 3.0, 4.0]\n",
        "g_i is [6.0, 7.0, 6.0, 2.0, 3.0, 4.0, 5.0]\n",
        "g_i is [7.0, 6.0, 2.0, 3.0, 4.0, 5.0, 6.0]\n",
        "g_i is [6.0, 2.0, 3.0, 4.0, 5.0, 6.0, 7.0]\n",
        "g_i is"
       ]
      },
      {
       "output_type": "stream",
       "stream": "stdout",
       "text": [
        " [2.0, 3.0, 4.0, 5.0, 6.0, 7.0, 6.0]\n",
        "g_i is [3.0, 4.0, 5.0, 6.0, 7.0, 6.0, 2.0]\n",
        "g_i is [4.0, 5.0, 6.0, 7.0, 6.0, 2.0, 3.0]\n",
        "g_i is [5.0, 6.0, 7.0, 6.0, 2.0, 3.0, 4.0]\n",
        "g_i is [6.0, 7.0, 6.0, 2.0, 3.0, 4.0, 5.0]\n",
        "g_i is [7.0, 6.0, 2.0, 3.0, 4.0, 5.0, 6.0]\n",
        "g_i is [6.0, 2.0, 3.0, 4.0, 5.0, 6.0, 7.0]\n",
        "g_i is [2.0, 3.0, 4.0, 5.0, 6.0, 7.0, 6.0]\n",
        "g_i is [3.0, 4.0, 5.0, 6.0, 7.0, 6.0, 2.0]\n",
        "g_i is [4.0, 5.0, 6.0, 7.0, 6.0, 2.0, 3.0]\n",
        "g_i is [5.0, 6.0, 7.0, 6.0, 2.0, 3.0, 4.0]\n",
        "g_i is [6.0, 7.0, 6.0, 2.0, 3.0, 4.0, 5.0]\n",
        "g_i is [7.0, 6.0, 2.0, 3.0, 4.0, 5.0, 6.0]\n",
        "g_i is [6.0, 2.0, 3.0, 4.0, 5.0, 6.0, 7.0]\n",
        "g_i is [2.0, 3.0, 4.0, 5.0, 6.0, 7.0, 6.0]\n",
        "g_i is [3.0, 4.0, 5.0, 6.0, 7.0, 6.0, 2.0]\n",
        "g_i is [4.0, 5.0, 6.0, 7.0, 6.0, 2.0, 3.0]\n",
        "g_i is [5.0, 6.0, 7.0, 6.0, 2.0, 3.0, 4.0]\n",
        "g_i is [6.0, 7.0, 6.0, 2.0, 3.0, 4.0, 5.0]\n",
        "g_i is [7.0, 6.0, 2.0, 3.0, 4.0, 5.0, 6.0]\n",
        "g_i is [6.0, 2.0, 3.0, 4.0, 5.0, 6.0, 7.0]\n",
        "g_i is [2.0, 3.0, 4.0, 5.0, 6.0, 7.0, 6.0]\n",
        "g_i is [3.0, 4.0, 5.0, 6.0, 7.0, 6.0, 2.0]\n",
        "g_i is [4.0, 5.0, 6.0, 7.0, 6.0, 2.0, 3.0]\n",
        "g_i is [5.0, 6.0, 7.0, 6.0, 2.0, 3.0, 4.0]\n",
        "g_i is [6.0, 7.0, 6.0, 2.0, 3.0, 4.0, 5.0]\n",
        "g_i is [7.0, 6.0, 2.0, 3.0, 4.0, 5.0, 6.0]\n",
        "g_i is [6.0, 2.0, 3.0, 4.0, 5.0, 6.0, 7.0]\n",
        "g_i is [2.0, 3.0, 4.0, 5.0, 6.0, 7.0, 6.0]\n",
        "g_i is [3.0, 4.0, 5.0, 6.0, 7.0, 6.0, 2.0]\n",
        "g_i is [4.0, 5.0, 6.0, 7.0, 6.0, 2.0, 3.0]\n",
        "g_i is [5.0, 6.0, 7.0, 6.0, 2.0, 3.0, 4.0]\n",
        "g_i is [6.0, 7.0, 6.0, 2.0, 3.0, 4.0, 5.0]\n",
        "g_i is [7.0, 6.0, 2.0, 3.0, 4.0, 5.0, 6.0]\n",
        "g_i is [6.0, 2.0, 3.0, 4.0, 5.0, 6.0, 7.0]\n",
        "g_i is [2.0, 3.0, 4.0, 5.0, 6.0, 7.0, 6.0]\n",
        "g_i is [3.0, 4.0, 5.0, 6.0, 7.0, 6.0, 2.0]\n",
        "g_i is [4.0, 5.0, 6.0, 7.0, 6.0, 2.0, 3.0]\n",
        "g_i is [5.0, 6.0, 7.0, 6.0, 2.0, 3.0, 4.0]\n",
        "g_i is [6.0, 7.0, 6.0, 2.0, 3.0, 4.0, 5.0]\n",
        "g_i is [7.0, 6.0, 2.0, 3.0, 4.0, 5.0, 6.0]\n",
        "g_i is [6.0, 2.0, 3.0, 4.0, 5.0, 6.0, 7.0]\n",
        "g_i is [2.0, 3.0, 4.0, 5.0, 6.0, 7.0, 6.0]\n",
        "g_i is [3.0, 4.0, 5.0, 6.0, 7.0, 6.0, 2.0]\n",
        "g_i is [4.0, 5.0, 6.0, 7.0, 6.0, 2.0, 3.0]\n",
        "g_i is [5.0, 6.0, 7.0, 6.0, 2.0, 3.0, 4.0]\n",
        "g_i is [6.0, 7.0, 6.0, 2.0, 3.0, 4.0, 5.0]\n",
        "g_i is [7.0, 6.0, 2.0, 3.0, 4.0, 5.0, 6.0]\n",
        "g_i is [6.0, 2.0, 3.0, 4.0, 5.0, 6.0, 7.0]\n",
        "g_i is [2.0, 3.0, 4.0, 5.0, 6.0, 7.0, 6.0]\n",
        "g_i is"
       ]
      },
      {
       "output_type": "stream",
       "stream": "stdout",
       "text": [
        " [3.0, 4.0, 5.0, 6.0, 7.0, 6.0, 2.0]\n",
        "g_i is [4.0, 5.0, 6.0, 7.0, 6.0, 2.0, 3.0]\n",
        "g_i is [5.0, 6.0, 7.0, 6.0, 2.0, 3.0, 4.0]\n",
        "g_i is [6.0, 7.0, 6.0, 2.0, 3.0, 4.0, 5.0]\n",
        "g_i is [7.0, 6.0, 2.0, 3.0, 4.0, 5.0, 6.0]\n",
        "g_i is [6.0, 2.0, 3.0, 4.0, 5.0, 6.0, 7.0]\n",
        "g_i is [2.0, 3.0, 4.0, 5.0, 6.0, 7.0, 6.0]\n",
        "g_i is [3.0, 4.0, 5.0, 6.0, 7.0, 6.0, 2.0]\n",
        "g_i is [4.0, 5.0, 6.0, 7.0, 6.0, 2.0, 3.0]\n",
        "g_i is [5.0, 6.0, 7.0, 6.0, 2.0, 3.0, 4.0]\n",
        "g_i is [6.0, 7.0, 6.0, 2.0, 3.0, 4.0, 5.0]\n",
        "g_i is [7.0, 6.0, 2.0, 3.0, 4.0, 5.0, 6.0]\n",
        "g_i is [6.0, 2.0, 3.0, 4.0, 5.0, 6.0, 7.0]\n",
        "g_i is [2.0, 3.0, 4.0, 5.0, 6.0, 7.0, 6.0]\n",
        "g_i is [3.0, 4.0, 5.0, 6.0, 7.0, 6.0, 2.0]\n",
        "g_i is [4.0, 5.0, 6.0, 7.0, 6.0, 2.0, 3.0]\n",
        "g_i is [5.0, 6.0, 7.0, 6.0, 2.0, 3.0, 4.0]\n",
        "g_i is [6.0, 7.0, 6.0, 2.0, 3.0, 4.0, 5.0]\n",
        "g_i is [7.0, 6.0, 2.0, 3.0, 4.0, 5.0, 6.0]\n",
        "g_i is [6.0, 2.0, 3.0, 4.0, 5.0, 6.0, 7.0]\n",
        "g_i is [2.0, 3.0, 4.0, 5.0, 6.0, 7.0, 6.0]\n",
        "g_i is [3.0, 4.0, 5.0, 6.0, 7.0, 6.0, 2.0]\n",
        "g_i is [4.0, 5.0, 6.0, 7.0, 6.0, 2.0, 3.0]\n",
        "g_i is [5.0, 6.0, 7.0, 6.0, 2.0, 3.0, 4.0]\n",
        "g_i is [6.0, 7.0, 6.0, 2.0, 3.0, 4.0, 5.0]\n",
        "g_i is [7.0, 6.0, 2.0, 3.0, 4.0, 5.0, 6.0]\n",
        "g_i is [6.0, 2.0, 3.0, 4.0, 5.0, 6.0, 7.0]\n",
        "g_i is [2.0, 3.0, 4.0, 5.0, 6.0, 7.0, 6.0]\n",
        "g_i is [3.0, 4.0, 5.0, 6.0, 7.0, 6.0, 2.0]\n",
        "g_i is [4.0, 5.0, 6.0, 7.0, 6.0, 2.0, 3.0]\n",
        "g_i is [5.0, 6.0, 7.0, 6.0, 2.0, 3.0, 4.0]\n",
        "g_i is [6.0, 7.0, 6.0, 2.0, 3.0, 4.0, 5.0]\n",
        "g_i is [7.0, 6.0, 2.0, 3.0, 4.0, 5.0, 6.0]\n",
        "g_i is [6.0, 2.0, 3.0, 4.0, 5.0, 6.0, 7.0]\n",
        "g_i is [2.0, 3.0, 4.0, 5.0, 6.0, 7.0, 6.0]\n",
        "g_i is [3.0, 4.0, 5.0, 6.0, 7.0, 6.0, 2.0]\n",
        "g_i is [4.0, 5.0, 6.0, 7.0, 6.0, 2.0, 3.0]\n",
        "g_i is [5.0, 6.0, 7.0, 6.0, 2.0, 3.0, 4.0]\n",
        "g_i is [6.0, 7.0, 6.0, 2.0, 3.0, 4.0, 5.0]\n",
        "g_i is [7.0, 6.0, 2.0, 3.0, 4.0, 5.0, 6.0]\n",
        "g_i is [6.0, 2.0, 3.0, 4.0, 5.0, 6.0, 7.0]\n",
        "g_i is [2.0, 3.0, 4.0, 5.0, 6.0, 7.0, 6.0]\n",
        "g_i is [3.0, 4.0, 5.0, 6.0, 7.0, 6.0, 2.0]\n",
        "g_i is [4.0, 5.0, 6.0, 7.0, 6.0, 2.0, 3.0]\n",
        "g_i is [5.0, 6.0, 7.0, 6.0, 2.0, 3.0, 4.0]\n",
        "g_i is [6.0, 7.0, 6.0, 2.0, 3.0, 4.0, 5.0]\n",
        "g_i is [7.0, 6.0, 2.0, 3.0, 4.0, 5.0, 6.0]\n",
        "g_i is [6.0, 2.0, 3.0, 4.0, 5.0, 6.0, 7.0]\n",
        "g_i is [2.0, 3.0, 4.0, 5.0, 6.0, 7.0, 6.0]\n",
        "g_i is [3.0, 4.0, 5.0, 6.0, 7.0, 6.0, 2.0]\n",
        "g_i is"
       ]
      },
      {
       "output_type": "stream",
       "stream": "stdout",
       "text": [
        " [4.0, 5.0, 6.0, 7.0, 6.0, 2.0, 3.0]\n",
        "g_i is [5.0, 6.0, 7.0, 6.0, 2.0, 3.0, 4.0]\n",
        "150\n",
        "25.0\n"
       ]
      }
     ],
     "prompt_number": 144
    },
    {
     "cell_type": "code",
     "collapsed": false,
     "input": [
      "#I create an array of the sum of all velocities at each time step\n",
      "SumVel = []\n",
      "for i in range(shape(Velocities)[0]):\n",
      "    SumVel.append(sum(Velocities[i]))\n",
      "SumVel=array(SumVel)\n",
      "print shape(SumVel)[0]"
     ],
     "language": "python",
     "metadata": {},
     "outputs": [
      {
       "output_type": "stream",
       "stream": "stdout",
       "text": [
        "150\n"
       ]
      }
     ],
     "prompt_number": 145
    },
    {
     "cell_type": "code",
     "collapsed": false,
     "input": [
      "#I compute the average velocity per time step by simply dividing by the number of cars\n",
      "AvgVel = SumVel/num_cars\n",
      "print AvgVel"
     ],
     "language": "python",
     "metadata": {},
     "outputs": [
      {
       "output_type": "stream",
       "stream": "stdout",
       "text": [
        "[ 4.71428571  3.57142857  3.57142857  3.28571429  3.57142857  3.85714286\n",
        "  4.14285714  4.71428571  4.71428571  4.71428571  4.71428571  4.71428571\n",
        "  4.71428571  4.71428571  4.71428571  4.71428571  4.71428571  4.71428571\n",
        "  4.71428571  4.71428571  4.71428571  4.71428571  4.71428571  4.71428571\n",
        "  4.71428571  4.71428571  4.71428571  4.71428571  4.71428571  4.71428571\n",
        "  4.71428571  4.71428571  4.71428571  4.71428571  4.71428571  4.71428571\n",
        "  4.71428571  4.71428571  4.71428571  4.71428571  4.71428571  4.71428571\n",
        "  4.71428571  4.71428571  4.71428571  4.71428571  4.71428571  4.71428571\n",
        "  4.71428571  4.71428571  4.71428571  4.71428571  4.71428571  4.71428571\n",
        "  4.71428571  4.71428571  4.71428571  4.71428571  4.71428571  4.71428571\n",
        "  4.71428571  4.71428571  4.71428571  4.71428571  4.71428571  4.71428571\n",
        "  4.71428571  4.71428571  4.71428571  4.71428571  4.71428571  4.71428571\n",
        "  4.71428571  4.71428571  4.71428571  4.71428571  4.71428571  4.71428571\n",
        "  4.71428571  4.71428571  4.71428571  4.71428571  4.71428571  4.71428571\n",
        "  4.71428571  4.71428571  4.71428571  4.71428571  4.71428571  4.71428571\n",
        "  4.71428571  4.71428571  4.71428571  4.71428571  4.71428571  4.71428571\n",
        "  4.71428571  4.71428571  4.71428571  4.71428571  4.71428571  4.71428571\n",
        "  4.71428571  4.71428571  4.71428571  4.71428571  4.71428571  4.71428571\n",
        "  4.71428571  4.71428571  4.71428571  4.71428571  4.71428571  4.71428571\n",
        "  4.71428571  4.71428571  4.71428571  4.71428571  4.71428571  4.71428571\n",
        "  4.71428571  4.71428571  4.71428571  4.71428571  4.71428571  4.71428571\n",
        "  4.71428571  4.71428571  4.71428571  4.71428571  4.71428571  4.71428571\n",
        "  4.71428571  4.71428571  4.71428571  4.71428571  4.71428571  4.71428571\n",
        "  4.71428571  4.71428571  4.71428571  4.71428571  4.71428571  4.71428571\n",
        "  4.71428571  4.71428571  4.71428571  4.71428571  4.71428571  4.71428571]\n"
       ]
      }
     ],
     "prompt_number": 146
    },
    {
     "cell_type": "code",
     "collapsed": false,
     "input": [
      "#Plotting Car Positions Vs Time\n",
      "t_ = arange(shape(Positions[:,[1]])[0])\n",
      "print shape(Positions[:,[1]])[0]\n",
      "plot(t_,Positions[:,[2]])\n",
      "xlabel('time')\n",
      "ylabel('position')\n",
      "title('CA184 position vs time')\n",
      "ylim(1,40)\n",
      "xlim(0,90)\n",
      "show()\n",
      "print Positions"
     ],
     "language": "python",
     "metadata": {},
     "outputs": [
      {
       "output_type": "stream",
       "stream": "stdout",
       "text": [
        "150\n"
       ]
      },
      {
       "output_type": "display_data",
       "png": "[encoded data removed]"
      },
      {
       "output_type": "stream",
       "stream": "stdout",
       "text": [
        "[[  2.   6.  10. ...,  22.  24.  31.]\n",
        " [  5.   9.  14. ...,  23.  30.   1.]\n",
        " [  8.  13.  19. ...,  25.  37.   4.]\n",
        " ..., \n",
        " [  4.   9.  15. ...,  30.  37.  40.]\n",
        " [  8.  14.  21. ...,  36.  39.   3.]\n",
        " [ 13.  20.  28. ...,  38.   2.   7.]]\n"
       ]
      }
     ],
     "prompt_number": 147
    },
    {
     "cell_type": "markdown",
     "metadata": {},
     "source": [
      "Notice that most of the time our cars won't explicitly \"pass through 40 and start at 1\" because this analysis is discrete (we get more jumping around). "
     ]
    },
    {
     "cell_type": "code",
     "collapsed": false,
     "input": [
      "#Plotting Current Vs. Time\n",
      "t = arange(iterations)\n",
      "#Current is simply density times avg vel\n",
      "plot(t,SumVel/len(l_))\n",
      "title(\"CA184Current Vs. Time\")\n",
      "xlabel('time')\n",
      "ylabel('current')\n",
      "xlim(0,150)\n",
      "ylim(0,2)\n",
      "show()"
     ],
     "language": "python",
     "metadata": {},
     "outputs": [
      {
       "output_type": "display_data",
       "png": "[encoded data removed]"
      }
     ],
     "prompt_number": 148
    },
    {
     "cell_type": "code",
     "collapsed": false,
     "input": [
      "iterations=150\n",
      "#initial conditions:\n",
      "v_max = 10\n",
      "num_cars=10\n",
      "\n",
      "PositionsSTCA = zeros(num_cars*iterations).reshape(iterations,num_cars)\n",
      "VelocitiesSTCA = zeros(num_cars*iterations).reshape(iterations,num_cars)\n",
      "DataSTCA = PositionsSTCA,VelocitiesSTCA"
     ],
     "language": "python",
     "metadata": {},
     "outputs": [],
     "prompt_number": 149
    },
    {
     "cell_type": "code",
     "collapsed": false,
     "input": [
      "iterations=150\n",
      "#initial conditions:\n",
      "v_max = 10\n",
      "num_cars=10\n",
      "l__=arange(1,41)\n",
      "random.shuffle(l__)\n",
      "X__ = sort(l__[:num_cars])\n",
      "#==========================\n",
      "PositionsSTCA[0]=X__\n",
      "#==========================\n",
      "V__=[]\n",
      "for i in range(num_cars):\n",
      "    V__.append(random.randint(0,v_max))\n",
      "V__ = list(set(V__))\n",
      "while len(V__)<num_cars:\n",
      "    V__.append(randint(0,v_max))\n",
      "    V__ = list(set(V__))\n",
      "    if len(V__)==num_cars:\n",
      "        break\n",
      "V__=array(V__)\n",
      "#==========================\n",
      "VelocitiesSTCA[0]=V__\n",
      "#==========================\n",
      "print \"initial position\",PositionsSTCA[0]\n",
      "print \"initial velocity\",VelocitiesSTCA[0]\n",
      "#==========================\n",
      "\n",
      "for i in range(0,iterations-1):\n",
      "    PositionsSTCA[i+1],VelocitiesSTCA[i+1]=STCA(PositionsSTCA[i],VelocitiesSTCA[i],l__);\n",
      "    \n",
      "print PositionsSTCA"
     ],
     "language": "python",
     "metadata": {},
     "outputs": [
      {
       "output_type": "stream",
       "stream": "stdout",
       "text": [
        "initial position [  5.  10.  12.  13.  19.  21.  27.  29.  38.  39.]\n",
        "initial velocity [ 0.  1.  2.  3.  4.  5.  6.  7.  8.  9.]\n",
        "[[  5.  10.  12. ...,  29.  38.  39.]\n",
        " [  6.  11.  12. ...,  36.  38.   4.]\n",
        " [  8.  11.  13. ...,  37.  38.   4.]\n",
        " ..., \n",
        " [ 28.  32.   1. ...,  19.  21.  25.]\n",
        " [ 31.  36.   7. ...,  20.  22.  27.]\n",
        " [ 35.  40.  12. ...,  21.  24.  30.]]"
       ]
      },
      {
       "output_type": "stream",
       "stream": "stdout",
       "text": [
        "\n"
       ]
      }
     ],
     "prompt_number": 150
    },
    {
     "cell_type": "code",
     "collapsed": false,
     "input": [
      "SumVelSTCA = []\n",
      "for i in range(shape(VelocitiesSTCA)[0]):\n",
      "    SumVelSTCA.append(sum(VelocitiesSTCA[i]))\n",
      "SumVelSTCA=array(SumVelSTCA)"
     ],
     "language": "python",
     "metadata": {},
     "outputs": [],
     "prompt_number": 151
    },
    {
     "cell_type": "code",
     "collapsed": false,
     "input": [
      "#Plotting Current Vs. Time\n",
      "t = arange(iterations)\n",
      "#Current is simply density times avg vel\n",
      "plot(t,SumVelSTCA/len(l_))\n",
      "title(\"STCACurrent Vs. Time\")\n",
      "xlabel('time')\n",
      "ylabel('current')\n",
      "xlim(0,iterations)\n",
      "ylim(0,1)\n",
      "show()"
     ],
     "language": "python",
     "metadata": {},
     "outputs": [
      {
       "output_type": "display_data",
       "png": "[encoded data removed]"
      }
     ],
     "prompt_number": 152
    },
    {
     "cell_type": "code",
     "collapsed": false,
     "input": [
      "#Plotting Car Positions Vs Time\n",
      "t__ = arange(shape(PositionsSTCA[:,[1]])[0])\n",
      "#print PositionsSTCA\n",
      "plot(t__,PositionsSTCA[:,[0]])\n",
      "xlabel('time')\n",
      "ylabel('position')\n",
      "title('STCA position vs time')\n",
      "xlim(0,90)\n",
      "#print shape(Positions[:,[1]])\n",
      "show()"
     ],
     "language": "python",
     "metadata": {},
     "outputs": [
      {
       "output_type": "display_data",
       "png": "[encoded data removed]"
      }
     ],
     "prompt_number": 153
    },
    {
     "cell_type": "code",
     "collapsed": false,
     "input": [
      "iterations=150\n",
      "#initial conditions:\n",
      "v_max = 20\n",
      "num_cars=7\n",
      "\n",
      "PositionsASEP = zeros(num_cars*iterations).reshape(iterations,num_cars)\n",
      "VelocitiesASEP = zeros(num_cars*iterations).reshape(iterations,num_cars)\n",
      "DataASEP = PositionsASEP,VelocitiesASEP\n",
      "\n",
      "\n",
      "l__=arange(1,41)\n",
      "random.shuffle(l__)\n",
      "X__ = sort(l__[:num_cars])\n",
      "#==========================\n",
      "PositionsASEP[0]=X__\n",
      "#==========================\n",
      "V__=[]\n",
      "for i in range(num_cars):\n",
      "    V__.append(random.randint(0,v_max))\n",
      "V__ = list(set(V__))\n",
      "while len(V__)<num_cars:\n",
      "    V__.append(randint(0,v_max))\n",
      "    V__ = list(set(V__))\n",
      "    if len(V__)==num_cars:\n",
      "        break\n",
      "V__=array(V__)\n",
      "\n",
      "#==========================\n",
      "VelocitiesASEP[0]=V__\n",
      "#==========================\n",
      "print \"initial position\",PositionsASEP[0]\n",
      "print \"initial velocity\",VelocitiesASEP[0]\n",
      "#==========================\n",
      "\n",
      "\n",
      "for i in range(0,iterations-1):\n",
      "    PositionsASEP[i+1],VelocitiesASEP[i+1]=ASEP(PositionsASEP[i],VelocitiesASEP[i],l__);"
     ],
     "language": "python",
     "metadata": {},
     "outputs": [
      {
       "output_type": "stream",
       "stream": "stdout",
       "text": [
        "initial position [  2.   4.  12.  26.  34.  37.  40.]\n",
        "initial velocity [  4.   6.   9.  10.  11.  13.  18.]\n",
        "[1.0, 7.0, 13.0, 7.0, 2.0, 2.0, 1.0]\n",
        "[7.0, 10.0, 10.0, 2.0, 2.0, 1.0, 1.0]\n",
        "[13.0, 12.0, 2.0, 2.0, 1.0, 1.0, 2.0]\n",
        "[19.0, 5.0, 2.0, 1.0, 1.0, 2.0, 3.0]\n",
        "[20.0, 2.0, 1.0, 1.0, 2.0, 3.0, 4.0]\n",
        "[17.0, 1.0, 1.0, 2.0, 3.0, 4.0, 5.0]\n",
        "[12.0, 1.0, 2.0, 3.0, 4.0, 5.0, 6.0]\n",
        "[6.0, 2.0, 3.0, 4.0, 5.0, 6.0, 7.0]\n",
        "[2.0, 3.0, 4.0, 5.0, 6.0, 7.0, 6.0]\n",
        "[3.0, 4.0, 5.0, 6.0, 7.0, 6.0, 2.0]\n",
        "[4.0, 5.0, 6.0, 7.0, 6.0, 2.0, 3.0]\n",
        "[5.0, 6.0, 7.0, 6.0, 2.0, 3.0, 4.0]\n",
        "[6.0, 7.0, 6.0, 2.0, 3.0, 4.0, 5.0]\n",
        "[7.0, 6.0, 2.0, 3.0, 4.0, 5.0, 6.0]\n",
        "[6.0, 2.0, 3.0, 4.0, 5.0, 6.0, 7.0]\n",
        "[2.0, 3.0, 4.0, 5.0, 6.0, 7.0, 6.0]\n",
        "[3.0, 4.0, 5.0, 6.0, 7.0, 6.0, 2.0]\n",
        "[4.0, 5.0, 6.0, 7.0, 6.0, 2.0, 3.0]\n",
        "[5.0, 6.0, 7.0, 6.0, 2.0, 3.0, 4.0]\n",
        "[6.0, 7.0, 6.0, 2.0, 3.0, 4.0, 5.0]\n",
        "[7.0, 6.0, 2.0, 3.0, 4.0, 5.0, 6.0]\n",
        "[6.0, 2.0, 3.0, 4.0, 5.0, 6.0, 7.0]\n",
        "[2.0, 3.0, 4.0, 5.0, 6.0, 7.0, 6.0]\n",
        "[3.0, 4.0, 5.0, 6.0, 7.0, 6.0, 2.0]\n",
        "[4.0, 5.0, 6.0, 7.0, 6.0, 2.0, 3.0]\n",
        "[5.0, 6.0, 7.0, 6.0, 2.0, 3.0, 4.0]\n",
        "[6.0, 7.0, 6.0, 2.0, 3.0, 4.0, 5.0]\n",
        "[7.0, 6.0, 2.0, 3.0, 4.0, 5.0, 6.0]\n",
        "[6.0, 2.0, 3.0, 4.0, 5.0, 6.0, 7.0]\n",
        "[2.0, 3.0, 4.0, 5.0, 6.0, 7.0, 6.0]\n",
        "[3.0, 4.0, 5.0, 6.0, 7.0, 6.0, 2.0]\n",
        "[4.0, 5.0, 6.0, 7.0, 6.0, 2.0, 3.0]\n",
        "[5.0, 6.0, 7.0, 6.0, 2.0, 3.0, 4.0]\n",
        "[6.0, 7.0, 6.0, 2.0, 3.0, 4.0, 5.0]\n",
        "[7.0, 6.0, 2.0, 3.0, 4.0, 5.0, 6.0]\n",
        "[6.0, 2.0, 3.0, 4.0, 5.0, 6.0, 7.0]\n",
        "[2.0, 3.0, 4.0, 5.0, 6.0, 7.0, 6.0]\n",
        "[3.0, 4.0, 5.0, 6.0, 7.0, 6.0, 2.0]\n",
        "[4.0, 5.0, 6.0, 7.0, 6.0, 2.0, 3.0]\n",
        "[5.0, 6.0, 7.0, 6.0, 2.0, 3.0, 4.0]\n",
        "[6.0, 7.0, 6.0, 2.0, 3.0, 4.0, 5.0]\n",
        "[7.0, 6.0, 2.0, 3.0, 4.0, 5.0, 6.0]\n",
        "[6.0, 2.0, 3.0, 4.0, 5.0, 6.0, 7.0]\n",
        "[2.0, 3.0, 4.0, 5.0, 6.0, 7.0, 6.0]\n",
        "[3.0, 4.0, 5.0, 6.0, 7.0, 6.0, 2.0]\n",
        "[4.0, 5.0, 6.0, 7.0, 6.0, 2.0, 3.0]\n",
        "[5.0, 6.0, 7.0, 6.0, 2.0, 3.0, 4.0]\n",
        "[6.0, 7.0, 6.0, 2.0, 3.0, 4.0, 5.0]\n",
        "[7.0, 6.0, 2.0, 3.0, 4.0, 5.0, 6.0]\n",
        "[6.0, 2.0, 3.0, 4.0, 5.0, 6.0, 7.0]"
       ]
      },
      {
       "output_type": "stream",
       "stream": "stdout",
       "text": [
        "\n",
        "[2.0, 3.0, 4.0, 5.0, 6.0, 7.0, 6.0]\n",
        "[3.0, 4.0, 5.0, 6.0, 7.0, 6.0, 2.0]\n",
        "[4.0, 5.0, 6.0, 7.0, 6.0, 2.0, 3.0]\n",
        "[5.0, 6.0, 7.0, 6.0, 2.0, 3.0, 4.0]\n",
        "[6.0, 7.0, 6.0, 2.0, 3.0, 4.0, 5.0]\n",
        "[7.0, 6.0, 2.0, 3.0, 4.0, 5.0, 6.0]\n",
        "[6.0, 2.0, 3.0, 4.0, 5.0, 6.0, 7.0]\n",
        "[2.0, 3.0, 4.0, 5.0, 6.0, 7.0, 6.0]\n",
        "[3.0, 4.0, 5.0, 6.0, 7.0, 6.0, 2.0]\n",
        "[4.0, 5.0, 6.0, 7.0, 6.0, 2.0, 3.0]\n",
        "[5.0, 6.0, 7.0, 6.0, 2.0, 3.0, 4.0]\n",
        "[6.0, 7.0, 6.0, 2.0, 3.0, 4.0, 5.0]\n",
        "[7.0, 6.0, 2.0, 3.0, 4.0, 5.0, 6.0]\n",
        "[6.0, 2.0, 3.0, 4.0, 5.0, 6.0, 7.0]\n",
        "[2.0, 3.0, 4.0, 5.0, 6.0, 7.0, 6.0]\n",
        "[3.0, 4.0, 5.0, 6.0, 7.0, 6.0, 2.0]\n",
        "[4.0, 5.0, 6.0, 7.0, 6.0, 2.0, 3.0]\n",
        "[5.0, 6.0, 7.0, 6.0, 2.0, 3.0, 4.0]\n",
        "[6.0, 7.0, 6.0, 2.0, 3.0, 4.0, 5.0]\n",
        "[7.0, 6.0, 2.0, 3.0, 4.0, 5.0, 6.0]\n",
        "[6.0, 2.0, 3.0, 4.0, 5.0, 6.0, 7.0]\n",
        "[2.0, 3.0, 4.0, 5.0, 6.0, 7.0, 6.0]\n",
        "[3.0, 4.0, 5.0, 6.0, 7.0, 6.0, 2.0]\n",
        "[4.0, 5.0, 6.0, 7.0, 6.0, 2.0, 3.0]\n",
        "[5.0, 6.0, 7.0, 6.0, 2.0, 3.0, 4.0]\n",
        "[6.0, 7.0, 6.0, 2.0, 3.0, 4.0, 5.0]\n",
        "[7.0, 6.0, 2.0, 3.0, 4.0, 5.0, 6.0]\n",
        "[6.0, 2.0, 3.0, 4.0, 5.0, 6.0, 7.0]\n",
        "[2.0, 3.0, 4.0, 5.0, 6.0, 7.0, 6.0]\n",
        "[3.0, 4.0, 5.0, 6.0, 7.0, 6.0, 2.0]\n",
        "[4.0, 5.0, 6.0, 7.0, 6.0, 2.0, 3.0]\n",
        "[5.0, 6.0, 7.0, 6.0, 2.0, 3.0, 4.0]\n",
        "[6.0, 7.0, 6.0, 2.0, 3.0, 4.0, 5.0]\n",
        "[7.0, 6.0, 2.0, 3.0, 4.0, 5.0, 6.0]\n",
        "[6.0, 2.0, 3.0, 4.0, 5.0, 6.0, 7.0]\n",
        "[2.0, 3.0, 4.0, 5.0, 6.0, 7.0, 6.0]\n",
        "[3.0, 4.0, 5.0, 6.0, 7.0, 6.0, 2.0]\n",
        "[4.0, 5.0, 6.0, 7.0, 6.0, 2.0, 3.0]\n",
        "[5.0, 6.0, 7.0, 6.0, 2.0, 3.0, 4.0]\n",
        "[6.0, 7.0, 6.0, 2.0, 3.0, 4.0, 5.0]\n",
        "[7.0, 6.0, 2.0, 3.0, 4.0, 5.0, 6.0]\n",
        "[6.0, 2.0, 3.0, 4.0, 5.0, 6.0, 7.0]\n",
        "[2.0, 3.0, 4.0, 5.0, 6.0, 7.0, 6.0]\n",
        "[3.0, 4.0, 5.0, 6.0, 7.0, 6.0, 2.0]\n",
        "[4.0, 5.0, 6.0, 7.0, 6.0, 2.0, 3.0]\n",
        "[5.0, 6.0, 7.0, 6.0, 2.0, 3.0, 4.0]\n",
        "[6.0, 7.0, 6.0, 2.0, 3.0, 4.0, 5.0]\n",
        "[7.0, 6.0, 2.0, 3.0, 4.0, 5.0, 6.0]\n",
        "[6.0, 2.0, 3.0, 4.0, 5.0, 6.0, 7.0]\n",
        "[2.0, 3.0, 4.0, 5.0, 6.0, 7.0, 6.0]\n",
        "[3.0, 4.0, 5.0, 6.0, 7.0, 6.0, 2.0]\n",
        "[4.0, 5.0, 6.0, 7.0, 6.0, 2.0, 3.0]"
       ]
      },
      {
       "output_type": "stream",
       "stream": "stdout",
       "text": [
        "\n",
        "[5.0, 6.0, 7.0, 6.0, 2.0, 3.0, 4.0]\n",
        "[6.0, 7.0, 6.0, 2.0, 3.0, 4.0, 5.0]\n",
        "[7.0, 6.0, 2.0, 3.0, 4.0, 5.0, 6.0]\n",
        "[6.0, 2.0, 3.0, 4.0, 5.0, 6.0, 7.0]\n",
        "[2.0, 3.0, 4.0, 5.0, 6.0, 7.0, 6.0]\n",
        "[3.0, 4.0, 5.0, 6.0, 7.0, 6.0, 2.0]\n",
        "[4.0, 5.0, 6.0, 7.0, 6.0, 2.0, 3.0]\n",
        "[5.0, 6.0, 7.0, 6.0, 2.0, 3.0, 4.0]\n",
        "[6.0, 7.0, 6.0, 2.0, 3.0, 4.0, 5.0]\n",
        "[7.0, 6.0, 2.0, 3.0, 4.0, 5.0, 6.0]\n",
        "[6.0, 2.0, 3.0, 4.0, 5.0, 6.0, 7.0]\n",
        "[2.0, 3.0, 4.0, 5.0, 6.0, 7.0, 6.0]\n",
        "[3.0, 4.0, 5.0, 6.0, 7.0, 6.0, 2.0]\n",
        "[4.0, 5.0, 6.0, 7.0, 6.0, 2.0, 3.0]\n",
        "[5.0, 6.0, 7.0, 6.0, 2.0, 3.0, 4.0]\n",
        "[6.0, 7.0, 6.0, 2.0, 3.0, 4.0, 5.0]\n",
        "[7.0, 6.0, 2.0, 3.0, 4.0, 5.0, 6.0]\n",
        "[6.0, 2.0, 3.0, 4.0, 5.0, 6.0, 7.0]\n",
        "[2.0, 3.0, 4.0, 5.0, 6.0, 7.0, 6.0]\n",
        "[3.0, 4.0, 5.0, 6.0, 7.0, 6.0, 2.0]\n",
        "[4.0, 5.0, 6.0, 7.0, 6.0, 2.0, 3.0]\n",
        "[5.0, 6.0, 7.0, 6.0, 2.0, 3.0, 4.0]\n",
        "[6.0, 7.0, 6.0, 2.0, 3.0, 4.0, 5.0]\n",
        "[7.0, 6.0, 2.0, 3.0, 4.0, 5.0, 6.0]\n",
        "[6.0, 2.0, 3.0, 4.0, 5.0, 6.0, 7.0]\n",
        "[2.0, 3.0, 4.0, 5.0, 6.0, 7.0, 6.0]\n",
        "[3.0, 4.0, 5.0, 6.0, 7.0, 6.0, 2.0]\n",
        "[4.0, 5.0, 6.0, 7.0, 6.0, 2.0, 3.0]\n",
        "[5.0, 6.0, 7.0, 6.0, 2.0, 3.0, 4.0]\n",
        "[6.0, 7.0, 6.0, 2.0, 3.0, 4.0, 5.0]\n",
        "[7.0, 6.0, 2.0, 3.0, 4.0, 5.0, 6.0]\n",
        "[6.0, 2.0, 3.0, 4.0, 5.0, 6.0, 7.0]\n",
        "[2.0, 3.0, 4.0, 5.0, 6.0, 7.0, 6.0]\n",
        "[3.0, 4.0, 5.0, 6.0, 7.0, 6.0, 2.0]\n",
        "[4.0, 5.0, 6.0, 7.0, 6.0, 2.0, 3.0]\n",
        "[5.0, 6.0, 7.0, 6.0, 2.0, 3.0, 4.0]\n",
        "[6.0, 7.0, 6.0, 2.0, 3.0, 4.0, 5.0]\n",
        "[7.0, 6.0, 2.0, 3.0, 4.0, 5.0, 6.0]\n",
        "[6.0, 2.0, 3.0, 4.0, 5.0, 6.0, 7.0]\n",
        "[2.0, 3.0, 4.0, 5.0, 6.0, 7.0, 6.0]\n",
        "[3.0, 4.0, 5.0, 6.0, 7.0, 6.0, 2.0]\n",
        "[4.0, 5.0, 6.0, 7.0, 6.0, 2.0, 3.0]\n",
        "[5.0, 6.0, 7.0, 6.0, 2.0, 3.0, 4.0]\n",
        "[6.0, 7.0, 6.0, 2.0, 3.0, 4.0, 5.0]\n",
        "[7.0, 6.0, 2.0, 3.0, 4.0, 5.0, 6.0]\n",
        "[6.0, 2.0, 3.0, 4.0, 5.0, 6.0, 7.0]\n",
        "[2.0, 3.0, 4.0, 5.0, 6.0, 7.0, 6.0]\n"
       ]
      }
     ],
     "prompt_number": 155
    },
    {
     "cell_type": "code",
     "collapsed": false,
     "input": [
      "#Plotting Car Positions Vs Time\n",
      "t_ = arange(shape(PositionsASEP[:,[1]])[0])\n",
      "#print shape(PositionsASEP[:,[1]])[0]\n",
      "plot(t_,PositionsASEP[:,[1]])\n",
      "ylim(1,40)\n",
      "xlim(0,90)\n",
      "ylabel('position')\n",
      "xlabel('time')\n",
      "title('ASEP position vs time')\n",
      "show()\n",
      "#print PositionsASEP"
     ],
     "language": "python",
     "metadata": {},
     "outputs": [
      {
       "output_type": "display_data",
       "png": "[encoded data removed]"
      }
     ],
     "prompt_number": 156
    },
    {
     "cell_type": "code",
     "collapsed": false,
     "input": [
      "SumVelASEP = []\n",
      "for i in range(shape(VelocitiesASEP)[0]):\n",
      "    SumVelASEP.append(sum(VelocitiesASEP[i]))\n",
      "SumVelASEP=array(SumVelASEP)"
     ],
     "language": "python",
     "metadata": {},
     "outputs": [],
     "prompt_number": 157
    },
    {
     "cell_type": "code",
     "collapsed": false,
     "input": [
      "#Plotting Current Vs. Time\n",
      "t = arange(iterations)\n",
      "#Current is simply density times avg vel\n",
      "plot(t,SumVelASEP/len(l__))\n",
      "title(\"ASEPCurrent Vs. Time\")\n",
      "xlabel('time')\n",
      "ylabel('current')\n",
      "xlim(0,iterations)\n",
      "ylim(0,1)\n",
      "show()"
     ],
     "language": "python",
     "metadata": {},
     "outputs": [
      {
       "output_type": "display_data",
       "png": "[encoded data removed]"
      }
     ],
     "prompt_number": 158
    },
    {
     "cell_type": "markdown",
     "metadata": {},
     "source": [
      "#I'M A BOSS"
     ]
    },
    {
     "cell_type": "markdown",
     "metadata": {},
     "source": [
      "###Density Graphs"
     ]
    },
    {
     "cell_type": "code",
     "collapsed": false,
     "input": [
      "iterations_=150.\n",
      "#initial conditions:\n",
      "v_max = 15.\n",
      "n_cars=arange(65.)\n",
      "length = arange(1.,81.)\n",
      "Density = arange(0,.9,.01)\n",
      "rho=num_cars/length\n",
      "\n",
      "#10 cars, 150 iterations-- so we have the following empty data sets:\n",
      "Densities = zeros(max(n_cars)*iterations).reshape(iterations,max(n_cars))"
     ],
     "language": "python",
     "metadata": {},
     "outputs": [],
     "prompt_number": 101
    },
    {
     "cell_type": "code",
     "collapsed": false,
     "input": [],
     "language": "python",
     "metadata": {},
     "outputs": []
    }
   ],
   "metadata": {}
  }
 ]
}