{
 "metadata": {
  "name": "1DTrafficFlow"
 },
 "nbformat": 3,
 "nbformat_minor": 0,
 "worksheets": [
  {
   "cells": [
    {
     "cell_type": "code",
     "collapsed": false,
     "input": [
      "#TESTS\n",
      "X = array([[1],[2],[4]])\n",
      "V = array([[2],[4],[1]])\n",
      "\n",
      "L = 10\n",
      "\n",
      "rest = L-X[2]\n",
      "\n",
      "\n",
      "def delta_x(a,b):\n",
      "    return X[a]-X[b]\n",
      "\n",
      "def delta_v(a,b):\n",
      "    return V[a]-V[b]"
     ],
     "language": "python",
     "metadata": {},
     "outputs": [],
     "prompt_number": 1
    },
    {
     "cell_type": "code",
     "collapsed": false,
     "input": [
      "#TESTS\n",
      "g_i = array([[delta_x(1,0)-1],[delta_x(2,1)-1],[rest]])\n",
      "print g_i\n",
      "print V"
     ],
     "language": "python",
     "metadata": {},
     "outputs": [
      {
       "output_type": "stream",
       "stream": "stdout",
       "text": [
        "[[[0]]\n",
        "\n",
        " [[1]]\n",
        "\n",
        " [[6]]]\n",
        "[[2]\n",
        " [4]\n",
        " [1]]\n"
       ]
      }
     ],
     "prompt_number": 2
    },
    {
     "cell_type": "markdown",
     "metadata": {},
     "source": [
      "###The CA184 Function"
     ]
    },
    {
     "cell_type": "code",
     "collapsed": false,
     "input": [
      "###Here I have a working function that takes our arguments x,v,l\n",
      "\n",
      "X = array([[1],[2],[4]])\n",
      "V = array([[2],[4],[1]])\n",
      "\n",
      "def CA184(x,v,l):\n",
      "#this g_i list iterates and appends the number of spaces in front of each car    \n",
      "    g_i=[]\n",
      "    for i in range(1,x.shape[0]):\n",
      "        g_i.append(x[i]-x[i-1]-1)\n",
      "    g_i.append(l-x[-1])\n",
      "#Using the CA184 rules I change my initial velocity accordingly    \n",
      "    for i in range(v.shape[0]):\n",
      "        if g_i[i]<v[i]:\n",
      "            v[i]=g_i[i]\n",
      "    for i in range(v.shape[0]):\n",
      "        if g_i[i]>v[i]:\n",
      "            v[i]=(v[i]+1)\n",
      "    for i in range(v.shape[0]):\n",
      "        if g_i[i]==0:\n",
      "            v[i]=0\n",
      "#With the new velocity I make an array of new position   \n",
      "    X_new=[]\n",
      "    for i in range(x.shape[0]):\n",
      "        X_new.append(x[i]+v[i])\n",
      "    print v\n",
      "    return X_new\n",
      "\n",
      "CA184(X,V,L)"
     ],
     "language": "python",
     "metadata": {},
     "outputs": [
      {
       "output_type": "stream",
       "stream": "stdout",
       "text": [
        "[[0]\n",
        " [1]\n",
        " [2]]\n"
       ]
      },
      {
       "output_type": "pyout",
       "prompt_number": 3,
       "text": [
        "[array([1]), array([3]), array([6])]"
       ]
      }
     ],
     "prompt_number": 3
    },
    {
     "cell_type": "markdown",
     "metadata": {},
     "source": [
      "According to my caluclations this function works!"
     ]
    },
    {
     "cell_type": "markdown",
     "metadata": {},
     "source": [
      "###================================"
     ]
    },
    {
     "cell_type": "code",
     "collapsed": false,
     "input": [
      "#With randomly generated positions and velocities:"
     ],
     "language": "python",
     "metadata": {},
     "outputs": [],
     "prompt_number": 4
    },
    {
     "cell_type": "code",
     "collapsed": false,
     "input": [
      "from numpy import random"
     ],
     "language": "python",
     "metadata": {},
     "outputs": [],
     "prompt_number": 5
    },
    {
     "cell_type": "code",
     "collapsed": false,
     "input": [
      "#random velocities and positions:\n",
      "num_cars=5\n",
      "l=arange(1,11)\n",
      "random.shuffle(l)\n",
      "X = l[:5]\n",
      "print X\n",
      "V = l[5:]\n",
      "print V"
     ],
     "language": "python",
     "metadata": {},
     "outputs": [
      {
       "output_type": "stream",
       "stream": "stdout",
       "text": [
        "[ 2  7  9 10  5]\n",
        "[6 1 8 3 4]\n"
       ]
      }
     ],
     "prompt_number": 6
    },
    {
     "cell_type": "markdown",
     "metadata": {},
     "source": [
      "###The Full CA184 Function:"
     ]
    },
    {
     "cell_type": "code",
     "collapsed": false,
     "input": [
      "#Edited and working!\n",
      "v_max = 10\n",
      "num_cars=5\n",
      "l_=arange(1,41)\n",
      "random.shuffle(l_)\n",
      "X_ = sort(l_[:num_cars])\n",
      "\n",
      "V_=[]\n",
      "for i in range(num_cars):\n",
      "    V_.append(random.randint(0,v_max))\n",
      "V_ = list(set(V_))\n",
      "while len(V_)<num_cars:\n",
      "    V_.append(randint(0,v_max))\n",
      "    V_ = list(set(V_))\n",
      "    if len(V_)==num_cars:\n",
      "        break\n",
      "V_=array(V_)\n",
      "        \n",
      "print \"initial position\",X_\n",
      "print \"initial velocity\",V_\n",
      "v_max = 10\n",
      "\n",
      "\n",
      "def CA184(x,v,l):\n",
      "#this g_i list iterates and appends the number of spaces in front of each car    \n",
      "    g_i=[]\n",
      "    y = []\n",
      "    for i in range(0,shape(x)[0]):\n",
      "        for j in range(0,shape(x)[0]):\n",
      "            if i!=j:\n",
      "                y.append(x[j]-x[i]-1)\n",
      "            else:\n",
      "                None\n",
      "    chunks = [y[i*4:i*4+4] for i in xrange(0,shape(x)[0])]\n",
      "\n",
      "    #g_i=[11,5,8,3,8]\n",
      "    refined=[],[],[],[],[]\n",
      "    for i in range(0,len(chunks[i])+1):\n",
      "        for j in range(0,len(chunks[j])):\n",
      "            if chunks[i][j]>0:\n",
      "                refined[i].append(chunks[i][j])\n",
      "            if all(chunks[i][j]<0):\n",
      "                refined[i].append(max(l_)-x[i]+min(x)-1)\n",
      "    \n",
      "    for i in range(0,len(refined[0])+1):\n",
      "        if shape(refined[i])[0]!=0:\n",
      "            g_i.append(min(refined[i]))\n",
      "        else:\n",
      "            None\n",
      "    print \"g_i is\",g_i\n",
      "#Using the CA184 rules I change my initial velocity accordingly    \n",
      "    for i in range(v.shape[0]):\n",
      "        if g_i[i]<v[i]:\n",
      "            v[i]=g_i[i]\n",
      "    for i in range(v.shape[0]):\n",
      "        if g_i[i]>v[i] and v_max>v[i]:\n",
      "            v[i]=(v[i]+1)\n",
      "    for i in range(v.shape[0]):\n",
      "        if g_i[i]==0:\n",
      "            v[i]=0\n",
      "    for i in range(v.shape[0]):\n",
      "        if v[i]>v_max:\n",
      "            v[i]=v_max\n",
      "#With the new velocity I make an array of new position   \n",
      "    X_new = zeros(x.shape[0])\n",
      "    for i in arange(x.shape[0]):\n",
      "        X_new[i]=x[i]+v[i]\n",
      "        if X_new[i]>40:\n",
      "            X_new[i]=X_new[i]-40\n",
      "  \n",
      "    return array(X_new),array(v)\n",
      "\n",
      "\n",
      "X_new,V_new = CA184(X_,V_,l_)\n",
      "print \"new position is\",X_new\n",
      "print \"new velocity is\",V_new\n"
     ],
     "language": "python",
     "metadata": {},
     "outputs": [
      {
       "output_type": "stream",
       "stream": "stdout",
       "text": [
        "initial position [10 16 20 35 39]\n",
        "initial velocity [0 9 2 4 5]\n",
        "g_i is [5, 3, 14, 3, 10]\n",
        "new position is [ 11.  19.  23.  38.   5.]\n",
        "new velocity is [1 3 3 3 6]\n"
       ]
      }
     ],
     "prompt_number": 110
    },
    {
     "cell_type": "code",
     "collapsed": false,
     "input": [
      "x = array([13.,7.,29.,25.,38.])  \n",
      "g_i=[]\n",
      "y = []\n",
      "for i in range(0,shape(x)[0]):\n",
      "    for j in range(0,shape(x)[0]):\n",
      "        if i!=j:\n",
      "            y.append(x[j]-x[i]-1)\n",
      "        else:\n",
      "            None\n",
      "chunks = [y[i*4:i*4+4] for i in xrange(0,shape(x)[0])]\n",
      "\n",
      "#g_i=[11,5,8,3,8]\n",
      "n=4\n",
      "refined=[],[],[],[],[]\n",
      "for i in range(0,len(chunks[i])+1):\n",
      "    for j in range(0,len(chunks[j])):\n",
      "        if chunks[i][j]>0:\n",
      "            refined[i].append(chunks[i][j])\n",
      "        if all(chunks[i][j]<0):\n",
      "            refined[i].append(max(l_)-x[i]+min(x)-1)\n",
      "print refined\n",
      "for i in range(0,len(refined[0])+1):\n",
      "    if shape(refined[i])[0]!=0:\n",
      "        g_i.append(min(refined[i]))\n",
      "    else:\n",
      "        None\n",
      "\n",
      "\n",
      "            "
     ],
     "language": "python",
     "metadata": {},
     "outputs": [
      {
       "output_type": "stream",
       "stream": "stdout",
       "text": [
        "([33.0, 15.0, 11.0, 24.0], [5.0, 21.0, 17.0, 30.0], [17.0, 17.0, 17.0, 8.0], [21.0, 21.0, 3.0, 12.0], [8.0, 8.0, 8.0, 8.0])\n"
       ]
      }
     ],
     "prompt_number": 91
    },
    {
     "cell_type": "code",
     "collapsed": false,
     "input": [
      "indices = range(shape(x)[0])\n",
      "print indices\n",
      "lol = [list(x),list(y)]\n",
      "indices.sort(key=lol[1].__getitem__)\n",
      "for i, sublist in enumerate(lol):\n",
      "    lol[i] = [sublist[j] for j in indices]\n",
      "lol[0][1]"
     ],
     "language": "python",
     "metadata": {},
     "outputs": [
      {
       "ename": "NameError",
       "evalue": "name 'y' is not defined",
       "output_type": "pyerr",
       "traceback": [
        "\u001b[1;31m---------------------------------------------------------------------------\u001b[0m\n\u001b[1;31mNameError\u001b[0m                                 Traceback (most recent call last)",
        "\u001b[1;32m<ipython-input-50-2e981db815a9>\u001b[0m in \u001b[0;36m<module>\u001b[1;34m()\u001b[0m\n\u001b[0;32m      1\u001b[0m \u001b[0mindices\u001b[0m \u001b[1;33m=\u001b[0m \u001b[0mrange\u001b[0m\u001b[1;33m(\u001b[0m\u001b[0mshape\u001b[0m\u001b[1;33m(\u001b[0m\u001b[0mx\u001b[0m\u001b[1;33m)\u001b[0m\u001b[1;33m[\u001b[0m\u001b[1;36m0\u001b[0m\u001b[1;33m]\u001b[0m\u001b[1;33m)\u001b[0m\u001b[1;33m\u001b[0m\u001b[0m\n\u001b[0;32m      2\u001b[0m \u001b[1;32mprint\u001b[0m \u001b[0mindices\u001b[0m\u001b[1;33m\u001b[0m\u001b[0m\n\u001b[1;32m----> 3\u001b[1;33m \u001b[0mlol\u001b[0m \u001b[1;33m=\u001b[0m \u001b[1;33m[\u001b[0m\u001b[0mlist\u001b[0m\u001b[1;33m(\u001b[0m\u001b[0mx\u001b[0m\u001b[1;33m)\u001b[0m\u001b[1;33m,\u001b[0m\u001b[0mlist\u001b[0m\u001b[1;33m(\u001b[0m\u001b[0my\u001b[0m\u001b[1;33m)\u001b[0m\u001b[1;33m]\u001b[0m\u001b[1;33m\u001b[0m\u001b[0m\n\u001b[0m\u001b[0;32m      4\u001b[0m \u001b[0mindices\u001b[0m\u001b[1;33m.\u001b[0m\u001b[0msort\u001b[0m\u001b[1;33m(\u001b[0m\u001b[0mkey\u001b[0m\u001b[1;33m=\u001b[0m\u001b[0mlol\u001b[0m\u001b[1;33m[\u001b[0m\u001b[1;36m1\u001b[0m\u001b[1;33m]\u001b[0m\u001b[1;33m.\u001b[0m\u001b[0m__getitem__\u001b[0m\u001b[1;33m)\u001b[0m\u001b[1;33m\u001b[0m\u001b[0m\n\u001b[0;32m      5\u001b[0m \u001b[1;32mfor\u001b[0m \u001b[0mi\u001b[0m\u001b[1;33m,\u001b[0m \u001b[0msublist\u001b[0m \u001b[1;32min\u001b[0m \u001b[0menumerate\u001b[0m\u001b[1;33m(\u001b[0m\u001b[0mlol\u001b[0m\u001b[1;33m)\u001b[0m\u001b[1;33m:\u001b[0m\u001b[1;33m\u001b[0m\u001b[0m\n",
        "\u001b[1;31mNameError\u001b[0m: name 'y' is not defined"
       ]
      },
      {
       "output_type": "stream",
       "stream": "stdout",
       "text": [
        "[0, 1, 2, 3, 4]\n"
       ]
      }
     ],
     "prompt_number": 50
    },
    {
     "cell_type": "code",
     "collapsed": false,
     "input": [
      "xxx = array([1,25,12,33,31])\n",
      "lll = arange(1,41)\n",
      "g_i=[]\n",
      "xxx = sort(xxx)\n",
      "for i in range(1,xxx.shape[0]):\n",
      "   g_i.append(xxx[i]-xxx[i-1]-1)\n",
      "g_i.append(max(lll)-xxx[-1]+xxx[0]-1)\n",
      "print \"spaces in front=\",g_i\n",
      "print unsort(xxx"
     ],
     "language": "python",
     "metadata": {},
     "outputs": [
      {
       "ename": "NameError",
       "evalue": "name 'unsort' is not defined",
       "output_type": "pyerr",
       "traceback": [
        "\u001b[1;31m---------------------------------------------------------------------------\u001b[0m\n\u001b[1;31mNameError\u001b[0m                                 Traceback (most recent call last)",
        "\u001b[1;32m<ipython-input-53-895c783e24a8>\u001b[0m in \u001b[0;36m<module>\u001b[1;34m()\u001b[0m\n\u001b[0;32m      7\u001b[0m \u001b[0mg_i\u001b[0m\u001b[1;33m.\u001b[0m\u001b[0mappend\u001b[0m\u001b[1;33m(\u001b[0m\u001b[0mmax\u001b[0m\u001b[1;33m(\u001b[0m\u001b[0mlll\u001b[0m\u001b[1;33m)\u001b[0m\u001b[1;33m-\u001b[0m\u001b[0mxxx\u001b[0m\u001b[1;33m[\u001b[0m\u001b[1;33m-\u001b[0m\u001b[1;36m1\u001b[0m\u001b[1;33m]\u001b[0m\u001b[1;33m+\u001b[0m\u001b[0mxxx\u001b[0m\u001b[1;33m[\u001b[0m\u001b[1;36m0\u001b[0m\u001b[1;33m]\u001b[0m\u001b[1;33m-\u001b[0m\u001b[1;36m1\u001b[0m\u001b[1;33m)\u001b[0m\u001b[1;33m\u001b[0m\u001b[0m\n\u001b[0;32m      8\u001b[0m \u001b[1;32mprint\u001b[0m \u001b[1;34m\"spaces in front=\"\u001b[0m\u001b[1;33m,\u001b[0m\u001b[0mg_i\u001b[0m\u001b[1;33m\u001b[0m\u001b[0m\n\u001b[1;32m----> 9\u001b[1;33m \u001b[1;32mprint\u001b[0m \u001b[0munsort\u001b[0m\u001b[1;33m(\u001b[0m\u001b[0mxxx\u001b[0m\u001b[1;33m)\u001b[0m\u001b[1;33m\u001b[0m\u001b[0m\n\u001b[0m",
        "\u001b[1;31mNameError\u001b[0m: name 'unsort' is not defined"
       ]
      },
      {
       "output_type": "stream",
       "stream": "stdout",
       "text": [
        "spaces in front= [10, 12, 5, 1, 7]\n"
       ]
      }
     ],
     "prompt_number": 53
    },
    {
     "cell_type": "code",
     "collapsed": false,
     "input": [
      "print CA184(X_new,V_new,l_)\n",
      "X_new,V_new=CA184(X_new,V_new,l_)\n",
      "#figure out how to continue this glory\n",
      "print CA184(X_new,V_new,l_)"
     ],
     "language": "python",
     "metadata": {},
     "outputs": [
      {
       "output_type": "stream",
       "stream": "stdout",
       "text": [
        "g_i is [7.0, 3.0, 14.0, 6.0, 5.0]\n",
        "(array([ 13.,  22.,  27.,   2.,  10.]), array([2, 3, 4, 4, 5]))\n",
        "g_i is [7.0, 3.0, 14.0, 6.0, 5.0]\n",
        "g_i is [7.0, 5.0, 14.0, 6.0, 3.0]\n",
        "(array([ 18.,  26.,  34.,   9.,  13.]), array([4, 4, 6, 6, 3]))\n"
       ]
      }
     ],
     "prompt_number": 111
    },
    {
     "cell_type": "code",
     "collapsed": false,
     "input": [
      "CA184(X_new,V_new,l_)"
     ],
     "language": "python",
     "metadata": {},
     "outputs": [
      {
       "output_type": "stream",
       "stream": "stdout",
       "text": [
        "g_i is [7.0, 5.0, 14.0, 6.0, 3.0]\n"
       ]
      },
      {
       "output_type": "pyout",
       "prompt_number": 112,
       "text": [
        "(array([ 19.,  27.,  35.,   9.,  13.]), array([5, 5, 7, 6, 3]))"
       ]
      }
     ],
     "prompt_number": 112
    },
    {
     "cell_type": "markdown",
     "metadata": {},
     "source": [
      "###The Full STCA Function"
     ]
    },
    {
     "cell_type": "code",
     "collapsed": false,
     "input": [
      "prob = 50. #%\n",
      "p = prob/100.\n",
      "\n",
      "v_max = 10\n",
      "num_cars=5\n",
      "l_=arange(1,41)\n",
      "random.shuffle(l_)\n",
      "XX = sort(l_[:5])\n",
      "\n",
      "VV=[]\n",
      "for i in range(num_cars):\n",
      "    VV.append(random.randint(0,v_max))\n",
      "VV = list(set(VV))\n",
      "while len(VV)<num_cars:\n",
      "    VV.append(randint(0,v_max))\n",
      "    VV = list(set(VV))\n",
      "    if len(VV)==num_cars:\n",
      "        break\n",
      "VV=array(VV)\n",
      "\n",
      "print \"initial position\",XX\n",
      "print \"initial velocity\",VV\n",
      "v_max = 10\n",
      "\n",
      "\n",
      "from numpy import random\n",
      "def STCA(x,v,l):\n",
      "#this g_i list iterates and appends the number of spaces in front of each car    \n",
      "    g_i=[]\n",
      "    x=sort(x)\n",
      "    for i in range(1,x.shape[0]):\n",
      "        g_i.append(x[i]-x[i-1]-1)\n",
      "    g_i.append(max(l)-x[-1]+x[0]-1)\n",
      "   \n",
      "#Using the STCA rules I change my initial velocity accordingly    \n",
      "    for i in range(v.shape[0]):\n",
      "        if g_i[i]<v[i]:\n",
      "            v[i]=g_i[i]\n",
      "    for i in range(v.shape[0]):\n",
      "        if g_i[i]>v[i] and v[i]<v_max:\n",
      "            v[i]=(v[i]+1)\n",
      "    for i in range(v.shape[0]):\n",
      "        if g_i[i]==0:\n",
      "            v[i]=0\n",
      "#the modification to make this STCA and not CA184:\n",
      "    for i in range(v.shape[0]):\n",
      "        if ranf(1)<p and v[i]>0:\n",
      "            v[i]=v[i]-1\n",
      "    for i in range(v.shape[0]):\n",
      "        if v[i]>v_max:\n",
      "            v[i]=v_max\n",
      "#With the new velocity I make an array of new position   \n",
      "    X_new=[]\n",
      "    for i in range(x.shape[0]):\n",
      "        X_new.append(x[i]+v[i])\n",
      "    for i in range(x.shape[0]):\n",
      "        if X_new[i]>40:\n",
      "            X_new[i]=X_new[i]-40\n",
      "    return array(X_new),array(v)\n",
      "\n",
      "\n",
      "STCA(XX,VV,l_)\n",
      "#I'm pretty sure this is working--check again later***** "
     ],
     "language": "python",
     "metadata": {},
     "outputs": [
      {
       "output_type": "stream",
       "stream": "stdout",
       "text": [
        "initial position [ 1 13 22 28 29]\n",
        "initial velocity [8 9 2 6 0]\n"
       ]
      },
      {
       "output_type": "pyout",
       "prompt_number": 37,
       "text": [
        "(array([10, 20, 25, 28, 30]), array([9, 7, 3, 0, 1]))"
       ]
      }
     ],
     "prompt_number": 37
    },
    {
     "cell_type": "markdown",
     "metadata": {},
     "source": [
      "###The Full ASEP Function"
     ]
    },
    {
     "cell_type": "code",
     "collapsed": false,
     "input": [
      "v_max = 10\n",
      "num_cars=5\n",
      "l_=arange(1,41)\n",
      "random.shuffle(l_)\n",
      "x = sort(l_[:5])\n",
      "\n",
      "v=[]\n",
      "for i in range(num_cars):\n",
      "    v.append(random.randint(0,v_max))\n",
      "v = list(set(v))\n",
      "\n",
      "while len(v)<num_cars:\n",
      "    v.append(randint(0,v_max))\n",
      "    v = list(set(v))\n",
      "    if len(v)==num_cars:\n",
      "        break\n",
      "v=array(v)\n",
      "\n",
      "print \"initial position\",x\n",
      "print \"initial velocity\",v\n",
      "\n",
      "\n",
      "\n",
      "def ASEP(x,v,l):\n",
      "    a = range(num_cars)\n",
      "    random.shuffle(a)\n",
      "\n",
      "    g_i=[]\n",
      "    for i in range(1,x.shape[0]):\n",
      "        x=sort(x)\n",
      "        g_i.append(x[i]-x[i-1]-1)\n",
      "    g_i.append((max(l)-x[-1])+x[0]-1)\n",
      "    print \"spaces in front=\",g_i\n",
      " \n",
      "#Using the ASEP rules I change my initial velocity accordingly    \n",
      "    for i in range(v.shape[0]):\n",
      "        if g_i[a[i]]<v[a[i]]:\n",
      "            v[a[i]]=g_i[a[i]]\n",
      "        if g_i[a[i]]>v[a[i]] and v[a[i]]<v_max:\n",
      "            v[a[i]]=(v[a[i]]+1)\n",
      "        if g_i[a[i]]==0:\n",
      "            v[a[i]]=0\n",
      "        if v[a[i]]>v_max:\n",
      "            v[a[i]]=v_max\n",
      "            \n",
      "    X_new=[]\n",
      "    for i in range(x.shape[0]):\n",
      "        X_new.append(x[i]+v[i])\n",
      "    for i in range(x.shape[0]):\n",
      "        if X_new[i]>40:\n",
      "            X_new[i]=X_new[i]-40\n",
      "   \n",
      "    return array(X_new),array(v)\n",
      "    \n",
      "    \n",
      "ASEP(x,v,l_)\n",
      "\n"
     ],
     "language": "python",
     "metadata": {},
     "outputs": [
      {
       "output_type": "stream",
       "stream": "stdout",
       "text": [
        "initial position [ 6  9 10 15 37]\n",
        "initial velocity [8 9 3 5 7]\n",
        "spaces in front= [2, 0, 4, 21, 8]\n"
       ]
      },
      {
       "output_type": "pyout",
       "prompt_number": 38,
       "text": [
        "(array([ 8,  9, 14, 21,  5]), array([2, 0, 4, 6, 8]))"
       ]
      }
     ],
     "prompt_number": 38
    },
    {
     "cell_type": "markdown",
     "metadata": {},
     "source": [
      "###Storing Variables to Plot Current"
     ]
    },
    {
     "cell_type": "code",
     "collapsed": false,
     "input": [
      "iterations=150\n",
      "#initial conditions:\n",
      "v_max = 20\n",
      "num_cars=5\n",
      "\n",
      "#10 cars, 150 iterations-- so we have the following empty data sets:\n",
      "Positions = zeros(num_cars*iterations).reshape(iterations,num_cars)\n",
      "Velocities = zeros(num_cars*iterations).reshape(iterations,num_cars)\n",
      "Data = Positions,Velocities\n",
      "#Velocities[1,2] returns row 1, column 2\n",
      "#Data[1]=Velocities\n",
      "#Data[0]=Positions   "
     ],
     "language": "python",
     "metadata": {},
     "outputs": [],
     "prompt_number": 113
    },
    {
     "cell_type": "code",
     "collapsed": false,
     "input": [
      "#Initial Conditions:\n",
      "v_max = 20\n",
      "num_cars=5\n",
      "l_=arange(1,41)\n",
      "random.shuffle(l_)\n",
      "X_ = sort(l_[:num_cars])\n",
      "#==========================\n",
      "Positions[0]=X_\n",
      "#==========================\n",
      "V_=[]\n",
      "for i in range(num_cars):\n",
      "    V_.append(random.randint(0,v_max))\n",
      "V_ = list(set(V_))\n",
      "while len(V_)<num_cars:\n",
      "    V_.append(randint(0,v_max))\n",
      "    V_ = list(set(V_))\n",
      "    if len(V_)==num_cars:\n",
      "        break\n",
      "V_=array(V_)\n",
      "#==========================\n",
      "Velocities[0]=V_\n",
      "#==========================\n",
      "print \"initial position\",Positions[0]\n",
      "print \"initial velocity\",Velocities[0]\n",
      "\n",
      "#CA184 Function\n",
      "def CA184(x,v,l):\n",
      "#this g_i list iterates and appends the number of spaces in front of each car    \n",
      "    g_i=[]\n",
      "    x = sort(x)\n",
      "    for i in range(1,x.shape[0]):\n",
      "        g_i.append(x[i]-x[i-1]-1)\n",
      "    g_i.append(max(l)-x[-1]+x[0]-1)\n",
      "    \n",
      "#Using the CA184 rules I change my initial velocity accordingly    \n",
      "    for i in range(v.shape[0]):\n",
      "        if g_i[i]<v[i]:\n",
      "            v[i]=g_i[i]\n",
      "    for i in range(v.shape[0]):\n",
      "        if g_i[i]>v[i] and v_max>v[i]:\n",
      "            v[i]=(v[i]+1)\n",
      "    for i in range(v.shape[0]):\n",
      "        if g_i[i]==0:\n",
      "            v[i]=0\n",
      "    for i in range(v.shape[0]):\n",
      "        if v[i]>v_max:\n",
      "            v[i]=v_max\n",
      "#With the new velocity I make an array of new position   \n",
      "    X_new=[]\n",
      "    for i in range(x.shape[0]):\n",
      "        X_new.append(x[i]+v[i])\n",
      "    for i in range(x.shape[0]):\n",
      "        if X_new[i]>40:\n",
      "            X_new[i]=X_new[i]-40\n",
      "  \n",
      "    return array(X_new),array(v)"
     ],
     "language": "python",
     "metadata": {},
     "outputs": [
      {
       "output_type": "stream",
       "stream": "stdout",
       "text": [
        "initial position [  4.  22.  30.  33.  34.]\n",
        "initial velocity [  0.   3.   4.  14.   6.]\n"
       ]
      }
     ],
     "prompt_number": 114
    },
    {
     "cell_type": "code",
     "collapsed": false,
     "input": [
      "iterations=150\n",
      "#initial conditions:\n",
      "v_max = 20\n",
      "num_cars=5\n",
      "l_=arange(1,41)\n",
      "random.shuffle(l_)\n",
      "X_ = sort(l_[:num_cars])\n",
      "#==========================\n",
      "Positions[0]=X_\n",
      "#==========================\n",
      "V_=[]\n",
      "for i in range(num_cars):\n",
      "    V_.append(random.randint(0,v_max))\n",
      "V_ = list(set(V_))\n",
      "while len(V_)<num_cars:\n",
      "    V_.append(randint(0,v_max))\n",
      "    V_ = list(set(V_))\n",
      "    if len(V_)==num_cars:\n",
      "        break\n",
      "V_=array(V_)\n",
      "#==========================\n",
      "Velocities[0]=V_\n",
      "#==========================\n",
      "print \"initial position\",Positions[0]\n",
      "print \"initial velocity\",Velocities[0]\n",
      "#==========================\n",
      "\n",
      "#Storing the data of each iteration in arrays\n",
      "for i in range(0,iterations-1):\n",
      "    Positions[i+1],Velocities[i+1]=CA184(Positions[i],Velocities[i],l_);\n",
      "\n",
      "\n",
      "print shape(Velocities)[0]\n",
      "print sum(Velocities[2])"
     ],
     "language": "python",
     "metadata": {},
     "outputs": [
      {
       "output_type": "stream",
       "stream": "stdout",
       "text": [
        "initial position [ 20.  23.  28.  30.  39.]\n",
        "initial velocity [ 17.   2.   3.   5.   9.]\n",
        "150\n",
        "27.0\n"
       ]
      }
     ],
     "prompt_number": 115
    },
    {
     "cell_type": "code",
     "collapsed": false,
     "input": [
      "#I create an array of the sum of all velocities at each time step\n",
      "SumVel = []\n",
      "for i in range(shape(Velocities)[0]):\n",
      "    SumVel.append(sum(Velocities[i]))\n",
      "SumVel=array(SumVel)\n",
      "print shape(SumVel)[0]"
     ],
     "language": "python",
     "metadata": {},
     "outputs": [
      {
       "output_type": "stream",
       "stream": "stdout",
       "text": [
        "150\n"
       ]
      }
     ],
     "prompt_number": 116
    },
    {
     "cell_type": "code",
     "collapsed": false,
     "input": [
      "#I compute the average velocity per time step by simply dividing by the number of cars\n",
      "AvgVel = SumVel/num_cars\n",
      "print AvgVel"
     ],
     "language": "python",
     "metadata": {},
     "outputs": [
      {
       "output_type": "stream",
       "stream": "stdout",
       "text": [
        "[ 4.4  5.   5.4  5.6  5.8  6.   5.6  6.   6.4  6.8  6.   6.4  6.6  6.8  7.\n",
        "  6.   6.2  6.4  6.2  6.6  7.   7.   7.   7.   7.   7.   7.   7.   7.   7.\n",
        "  7.   7.   7.   7.   7.   7.   7.   7.   7.   7.   7.   7.   7.   7.   7.\n",
        "  7.   7.   7.   7.   7.   7.   7.   7.   7.   7.   7.   7.   7.   7.   7.\n",
        "  7.   7.   7.   7.   7.   7.   7.   7.   7.   7.   7.   7.   7.   7.   7.\n",
        "  7.   7.   7.   7.   7.   7.   7.   7.   7.   7.   7.   7.   7.   7.   7.\n",
        "  7.   7.   7.   7.   7.   7.   7.   7.   7.   7.   7.   7.   7.   7.   7.\n",
        "  7.   7.   7.   7.   7.   7.   7.   7.   7.   7.   7.   7.   7.   7.   7.\n",
        "  7.   7.   7.   7.   7.   7.   7.   7.   7.   7.   7.   7.   7.   7.   7.\n",
        "  7.   7.   7.   7.   7.   7.   7.   7.   7.   7.   7.   7.   7.   7.   7. ]\n"
       ]
      }
     ],
     "prompt_number": 117
    },
    {
     "cell_type": "code",
     "collapsed": false,
     "input": [
      "#Plotting Car Positions Vs Time\n",
      "t_ = arange(shape(Positions[:,[1]])[0])\n",
      "print shape(Positions[:,[1]])[0]\n",
      "plot(t_,Positions[:,[2]])\n",
      "print Positions"
     ],
     "language": "python",
     "metadata": {},
     "outputs": [
      {
       "output_type": "stream",
       "stream": "stdout",
       "text": [
        "150\n",
        "[[ 20.  23.  28.  30.  39.]\n",
        " [ 22.  26.  29.  36.   9.]\n",
        " [ 12.  25.  28.  35.   7.]\n",
        " [ 11.  16.  27.  34.   6.]\n",
        " [ 10.  15.  19.  33.   5.]\n",
        " [  9.  14.  18.  26.   4.]\n",
        " [  8.  13.  17.  25.  38.]\n",
        " [ 12.  16.  21.  33.   7.]\n",
        " [ 11.  15.  20.  30.   3.]\n",
        " [  8.  14.  19.  29.   1.]\n",
        " [  7.  12.  18.  28.  40.]\n",
        " [ 11.  17.  23.  38.   6.]\n",
        " [ 10.  16.  22.  34.   5.]\n",
        " [  9.  15.  21.  33.   2.]\n",
        " [  7.  14.  20.  32.   1.]\n",
        " [  6.  13.  19.  31.  40.]\n",
        " [ 12.  18.  25.  39.   5.]\n",
        " [ 11.  17.  24.  34.   4.]\n",
        " [ 10.  16.  23.  33.  40.]\n",
        " [ 15.  22.  30.  39.   7.]\n",
        " [ 13.  21.  29.  37.   6.]\n",
        " [ 12.  20.  28.  36.   5.]\n",
        " [ 11.  19.  27.  35.   4.]\n",
        " [ 10.  18.  26.  34.   3.]\n",
        " [  9.  17.  25.  33.   2.]\n",
        " [  8.  16.  24.  32.   1.]\n",
        " [  7.  15.  23.  31.  40.]\n",
        " [ 14.  22.  30.  39.   6.]\n",
        " [ 13.  21.  29.  38.   5.]\n",
        " [ 12.  20.  28.  37.   4.]\n",
        " [ 11.  19.  27.  36.   3.]\n",
        " [ 10.  18.  26.  35.   2.]\n",
        " [  9.  17.  25.  34.   1.]\n",
        " [  8.  16.  24.  33.  40.]\n",
        " [ 15.  23.  32.  39.   7.]\n",
        " [ 14.  22.  31.  38.   6.]\n",
        " [ 13.  21.  30.  37.   5.]\n",
        " [ 12.  20.  29.  36.   4.]\n",
        " [ 11.  19.  28.  35.   3.]\n",
        " [ 10.  18.  27.  34.   2.]\n",
        " [  9.  17.  26.  33.   1.]\n",
        " [  8.  16.  25.  32.  40.]\n",
        " [ 15.  24.  31.  39.   7.]\n",
        " [ 14.  23.  30.  38.   6.]\n",
        " [ 13.  22.  29.  37.   5.]\n",
        " [ 12.  21.  28.  36.   4.]\n",
        " [ 11.  20.  27.  35.   3.]\n",
        " [ 10.  19.  26.  34.   2.]\n",
        " [  9.  18.  25.  33.   1.]\n",
        " [  8.  17.  24.  32.  40.]\n",
        " [ 16.  23.  31.  39.   7.]\n",
        " [ 15.  22.  30.  38.   6.]\n",
        " [ 14.  21.  29.  37.   5.]\n",
        " [ 13.  20.  28.  36.   4.]\n",
        " [ 12.  19.  27.  35.   3.]\n",
        " [ 11.  18.  26.  34.   2.]\n",
        " [ 10.  17.  25.  33.   1.]\n",
        " [  9.  16.  24.  32.  40.]\n",
        " [ 15.  23.  31.  39.   8.]\n",
        " [ 14.  22.  30.  38.   7.]\n",
        " [ 13.  21.  29.  37.   6.]\n",
        " [ 12.  20.  28.  36.   5.]\n",
        " [ 11.  19.  27.  35.   4.]\n",
        " [ 10.  18.  26.  34.   3.]\n",
        " [  9.  17.  25.  33.   2.]\n",
        " [  8.  16.  24.  32.   1.]\n",
        " [  7.  15.  23.  31.  40.]\n",
        " [ 14.  22.  30.  39.   6.]\n",
        " [ 13.  21.  29.  38.   5.]\n",
        " [ 12.  20.  28.  37.   4.]\n",
        " [ 11.  19.  27.  36.   3.]\n",
        " [ 10.  18.  26.  35.   2.]\n",
        " [  9.  17.  25.  34.   1.]\n",
        " [  8.  16.  24.  33.  40.]\n",
        " [ 15.  23.  32.  39.   7.]\n",
        " [ 14.  22.  31.  38.   6.]\n",
        " [ 13.  21.  30.  37.   5.]\n",
        " [ 12.  20.  29.  36.   4.]\n",
        " [ 11.  19.  28.  35.   3.]\n",
        " [ 10.  18.  27.  34.   2.]\n",
        " [  9.  17.  26.  33.   1.]\n",
        " [  8.  16.  25.  32.  40.]\n",
        " [ 15.  24.  31.  39.   7.]\n",
        " [ 14.  23.  30.  38.   6.]\n",
        " [ 13.  22.  29.  37.   5.]\n",
        " [ 12.  21.  28.  36.   4.]\n",
        " [ 11.  20.  27.  35.   3.]\n",
        " [ 10.  19.  26.  34.   2.]\n",
        " [  9.  18.  25.  33.   1.]\n",
        " [  8.  17.  24.  32.  40.]\n",
        " [ 16.  23.  31.  39.   7.]\n",
        " [ 15.  22.  30.  38.   6.]\n",
        " [ 14.  21.  29.  37.   5.]\n",
        " [ 13.  20.  28.  36.   4.]\n",
        " [ 12.  19.  27.  35.   3.]\n",
        " [ 11.  18.  26.  34.   2.]\n",
        " [ 10.  17.  25.  33.   1.]\n",
        " [  9.  16.  24.  32.  40.]\n",
        " [ 15.  23.  31.  39.   8.]\n",
        " [ 14.  22.  30.  38.   7.]\n",
        " [ 13.  21.  29.  37.   6.]\n",
        " [ 12.  20.  28.  36.   5.]\n",
        " [ 11.  19.  27.  35.   4.]\n",
        " [ 10.  18.  26.  34.   3.]\n",
        " [  9.  17.  25.  33.   2.]\n",
        " [  8.  16.  24.  32.   1.]\n",
        " [  7.  15.  23.  31.  40.]\n",
        " [ 14.  22.  30.  39.   6.]\n",
        " [ 13.  21.  29.  38.   5.]\n",
        " [ 12.  20.  28.  37.   4.]\n",
        " [ 11.  19.  27.  36.   3.]\n",
        " [ 10.  18.  26.  35.   2.]\n",
        " [  9.  17.  25.  34.   1.]\n",
        " [  8.  16.  24.  33.  40.]\n",
        " [ 15.  23.  32.  39.   7.]\n",
        " [ 14.  22.  31.  38.   6.]\n",
        " [ 13.  21.  30.  37.   5.]\n",
        " [ 12.  20.  29.  36.   4.]\n",
        " [ 11.  19.  28.  35.   3.]\n",
        " [ 10.  18.  27.  34.   2.]\n",
        " [  9.  17.  26.  33.   1.]\n",
        " [  8.  16.  25.  32.  40.]\n",
        " [ 15.  24.  31.  39.   7.]\n",
        " [ 14.  23.  30.  38.   6.]\n",
        " [ 13.  22.  29.  37.   5.]\n",
        " [ 12.  21.  28.  36.   4.]\n",
        " [ 11.  20.  27.  35.   3.]\n",
        " [ 10.  19.  26.  34.   2.]\n",
        " [  9.  18.  25.  33.   1.]\n",
        " [  8.  17.  24.  32.  40.]\n",
        " [ 16.  23.  31.  39.   7.]\n",
        " [ 15.  22.  30.  38.   6.]\n",
        " [ 14.  21.  29.  37.   5.]\n",
        " [ 13.  20.  28.  36.   4.]\n",
        " [ 12.  19.  27.  35.   3.]\n",
        " [ 11.  18.  26.  34.   2.]\n",
        " [ 10.  17.  25.  33.   1.]\n",
        " [  9.  16.  24.  32.  40.]\n",
        " [ 15.  23.  31.  39.   8.]\n",
        " [ 14.  22.  30.  38.   7.]\n",
        " [ 13.  21.  29.  37.   6.]\n",
        " [ 12.  20.  28.  36.   5.]\n",
        " [ 11.  19.  27.  35.   4.]\n",
        " [ 10.  18.  26.  34.   3.]\n",
        " [  9.  17.  25.  33.   2.]\n",
        " [  8.  16.  24.  32.   1.]\n",
        " [  7.  15.  23.  31.  40.]\n",
        " [ 14.  22.  30.  39.   6.]\n",
        " [ 13.  21.  29.  38.   5.]\n",
        " [ 12.  20.  28.  37.   4.]]"
       ]
      },
      {
       "output_type": "stream",
       "stream": "stdout",
       "text": [
        "\n"
       ]
      },
      {
       "output_type": "display_data",
       "png": "[encoded data removed]"
      }
     ],
     "prompt_number": 118
    },
    {
     "cell_type": "code",
     "collapsed": false,
     "input": [
      "#Plotting Current Vs. Time\n",
      "t = arange(iterations)\n",
      "#Current is simply density times avg vel\n",
      "plot(t,SumVel/len(l_))\n",
      "title(\"CA184Current Vs. Time\")\n",
      "xlabel('time')\n",
      "ylabel('current')\n",
      "xlim(0,150)\n",
      "ylim(0,1)\n",
      "show()"
     ],
     "language": "python",
     "metadata": {},
     "outputs": [
      {
       "output_type": "display_data",
       "png": "[encoded data removed]"
      }
     ],
     "prompt_number": 119
    },
    {
     "cell_type": "code",
     "collapsed": false,
     "input": [
      "iterations=150\n",
      "#initial conditions:\n",
      "v_max = 10\n",
      "num_cars=10\n",
      "\n",
      "PositionsSTCA = zeros(num_cars*iterations).reshape(iterations,num_cars)\n",
      "VelocitiesSTCA = zeros(num_cars*iterations).reshape(iterations,num_cars)\n",
      "Data = PositionsSTCA,VelocitiesSTCA"
     ],
     "language": "python",
     "metadata": {},
     "outputs": [],
     "prompt_number": 46
    },
    {
     "cell_type": "code",
     "collapsed": false,
     "input": [
      "iterations=150\n",
      "#initial conditions:\n",
      "v_max = 10\n",
      "num_cars=10\n",
      "l__=arange(1,41)\n",
      "random.shuffle(l__)\n",
      "X__ = sort(l__[:num_cars])\n",
      "#==========================\n",
      "PositionsSTCA[0]=X__\n",
      "#==========================\n",
      "V__=[]\n",
      "for i in range(num_cars):\n",
      "    V__.append(random.randint(0,v_max))\n",
      "V__ = list(set(V__))\n",
      "while len(V__)<num_cars:\n",
      "    V__.append(randint(0,v_max))\n",
      "    V__ = list(set(V__))\n",
      "    if len(V__)==num_cars:\n",
      "        break\n",
      "V__=array(V__)\n",
      "#==========================\n",
      "VelocitiesSTCA[0]=V__\n",
      "#==========================\n",
      "print \"initial position\",PositionsSTCA[0]\n",
      "print \"initial velocity\",VelocitiesSTCA[0]\n",
      "#==========================\n",
      "\n",
      "for i in range(0,iterations-1):\n",
      "    PositionsSTCA[i+1],VelocitiesSTCA[i+1]=STCA(PositionsSTCA[i],VelocitiesSTCA[i],l__);\n",
      "    \n",
      "print PositionsSTCA"
     ],
     "language": "python",
     "metadata": {},
     "outputs": [
      {
       "output_type": "stream",
       "stream": "stdout",
       "text": [
        "initial position [  2.   5.   8.  10.  13.  15.  22.  26.  29.  34.]\n",
        "initial velocity [ 0.  1.  2.  3.  4.  5.  6.  7.  8.  9.]\n",
        "[[  2.   5.   8. ...,  26.  29.  34.]\n",
        " [  2.   6.   9. ...,  28.  32.   1.]\n",
        " [  1.   4.   8. ...,  27.  30.  39.]\n",
        " ..., \n",
        " [  2.   8.  11. ...,  35.  38.  39.]\n",
        " [  3.   9.  13. ...,  37.  38.  39.]\n",
        " [  4.  11.  16. ...,  37.  38.  39.]]\n"
       ]
      }
     ],
     "prompt_number": 47
    },
    {
     "cell_type": "code",
     "collapsed": false,
     "input": [
      "SumVelSTCA = []\n",
      "for i in range(shape(VelocitiesSTCA)[0]):\n",
      "    SumVelSTCA.append(sum(VelocitiesSTCA[i]))\n",
      "SumVelSTCA=array(SumVelSTCA)"
     ],
     "language": "python",
     "metadata": {},
     "outputs": [],
     "prompt_number": 48
    },
    {
     "cell_type": "code",
     "collapsed": false,
     "input": [
      "#Plotting Current Vs. Time\n",
      "t = arange(iterations)\n",
      "#Current is simply density times avg vel\n",
      "plot(t,SumVelSTCA/len(l_))\n",
      "title(\"STCACurrent Vs. Time\")\n",
      "xlabel('time')\n",
      "ylabel('current')\n",
      "xlim(0,iterations)\n",
      "ylim(0,1)\n",
      "show()"
     ],
     "language": "python",
     "metadata": {},
     "outputs": [
      {
       "output_type": "display_data",
       "png": "[encoded data removed]"
      }
     ],
     "prompt_number": 49
    },
    {
     "cell_type": "code",
     "collapsed": false,
     "input": [
      "#Plotting Car Positions Vs Time\n",
      "t__ = arange(shape(PositionsSTCA[:,[1]])[0])\n",
      "print PositionsSTCA\n",
      "plot(t__,PositionsSTCA[:,[0]])\n",
      "print shape(Positions[:,[1]])"
     ],
     "language": "python",
     "metadata": {},
     "outputs": [
      {
       "output_type": "stream",
       "stream": "stdout",
       "text": [
        "[[  1.   3.  13. ...,  35.  36.  40.]\n",
        " [  2.   5.  15. ...,  35.  39.  40.]\n",
        " [  4.   8.  18. ...,  36.  39.   1.]\n",
        " ..., \n",
        " [  7.  16.  27. ...,  35.  37.   2.]\n",
        " [  6.  15.  25. ...,  33.  36.   1.]\n",
        " [  5.  14.  24. ...,  32.  35.  40.]]\n",
        "(150, 1)\n"
       ]
      },
      {
       "output_type": "display_data",
       "png": "[encoded data removed]"
      }
     ],
     "prompt_number": 26
    },
    {
     "cell_type": "markdown",
     "metadata": {},
     "source": [
      "#ISSUES WITH SORTING THE LIST"
     ]
    },
    {
     "cell_type": "markdown",
     "metadata": {},
     "source": [
      "###Density Graphs"
     ]
    },
    {
     "cell_type": "code",
     "collapsed": false,
     "input": [
      "iterations_=80.\n",
      "#initial conditions:\n",
      "v_max = 15.\n",
      "num_cars=10.\n",
      "length = arange(1.,81.)\n",
      "Density = arange(0,.8,.01)\n",
      "\n",
      "rho=num_cars/length\n",
      "print rho\n",
      "\n",
      "#10 cars, 150 iterations-- so we have the following empty data sets:\n",
      "Densities = zeros(num_cars*iterations).reshape(iterations,num_cars)"
     ],
     "language": "python",
     "metadata": {},
     "outputs": [
      {
       "output_type": "stream",
       "stream": "stdout",
       "text": [
        "[ 10.           5.           3.33333333   2.5          2.           1.66666667\n",
        "   1.42857143   1.25         1.11111111   1.           0.90909091\n",
        "   0.83333333   0.76923077   0.71428571   0.66666667   0.625        0.58823529\n",
        "   0.55555556   0.52631579   0.5          0.47619048   0.45454545\n",
        "   0.43478261   0.41666667   0.4          0.38461538   0.37037037\n",
        "   0.35714286   0.34482759   0.33333333   0.32258065   0.3125       0.3030303\n",
        "   0.29411765   0.28571429   0.27777778   0.27027027   0.26315789\n",
        "   0.25641026   0.25         0.24390244   0.23809524   0.23255814\n",
        "   0.22727273   0.22222222   0.2173913    0.21276596   0.20833333\n",
        "   0.20408163   0.2          0.19607843   0.19230769   0.18867925\n",
        "   0.18518519   0.18181818   0.17857143   0.1754386    0.17241379\n",
        "   0.16949153   0.16666667   0.16393443   0.16129032   0.15873016   0.15625\n",
        "   0.15384615   0.15151515   0.14925373   0.14705882   0.14492754\n",
        "   0.14285714   0.14084507   0.13888889   0.1369863    0.13513514\n",
        "   0.13333333   0.13157895   0.12987013   0.12820513   0.12658228   0.125     ]\n"
       ]
      }
     ],
     "prompt_number": 24
    }
   ],
   "metadata": {}
  }
 ]
}