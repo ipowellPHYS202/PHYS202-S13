{
 "metadata": {
  "name": "1DTrafficFlow"
 },
 "nbformat": 3,
 "nbformat_minor": 0,
 "worksheets": [
  {
   "cells": [
    {
     "cell_type": "code",
     "collapsed": false,
     "input": [
      "X = array([[1],[2],[4]])\n",
      "V = array([[2],[4],[1]])\n",
      "\n",
      "L = 10\n",
      "\n",
      "rest = L-X[2]\n",
      "\n",
      "def delta_X(a,b):\n",
      "    return X[a]-X[b]\n",
      "\n",
      "def delta_V(a,b):\n",
      "    return V[a]-V[b]\n",
      "\n",
      "g_i = array([[delta_X(1,0)],[delta_X(2,1)],[rest]])"
     ],
     "language": "python",
     "metadata": {},
     "outputs": [],
     "prompt_number": 17
    },
    {
     "cell_type": "code",
     "collapsed": false,
     "input": [
      "def CA184(X,V,L):\n",
      "    X = array([[1],[2],[4]])\n",
      "    V = array([[2],[4],[1]])\n",
      "\n",
      "    L = 10\n",
      "\n",
      "    rest = L-X[2]\n",
      "\n",
      "    def delta_X(a,b):\n",
      "        return X[a]-X[b]\n",
      "\n",
      "    def delta_V(a,b):\n",
      "        return V[a]-V[b]\n",
      "\n",
      "    g_i = array([[delta_X(1,0)],[delta_X(2,1)],[rest]])\n",
      "    for i in g_i:\n",
      "        if g_i[i]==0:\n",
      "            V[i]==0"
     ],
     "language": "python",
     "metadata": {},
     "outputs": [],
     "prompt_number": 25
    },
    {
     "cell_type": "code",
     "collapsed": false,
     "input": [],
     "language": "python",
     "metadata": {},
     "outputs": []
    }
   ],
   "metadata": {}
  }
 ]
}