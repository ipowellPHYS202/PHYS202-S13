{
 "metadata": {
  "name": "NumPyEx1"
 },
 "nbformat": 3,
 "nbformat_minor": 0,
 "worksheets": [
  {
   "cells": [
    {
     "cell_type": "markdown",
     "metadata": {},
     "source": [
      "Problem 1: array creation with the appropriate data types"
     ]
    },
    {
     "cell_type": "code",
     "collapsed": false,
     "input": [
      "import numpy as np"
     ],
     "language": "python",
     "metadata": {},
     "outputs": [],
     "prompt_number": 6
    },
    {
     "cell_type": "code",
     "collapsed": false,
     "input": [
      "a = np.array([[1,1,1,1],[1,1,1,1],[1,1,1,2],[1,6,1,1]])"
     ],
     "language": "python",
     "metadata": {},
     "outputs": [],
     "prompt_number": 11
    },
    {
     "cell_type": "code",
     "collapsed": false,
     "input": [
      "a"
     ],
     "language": "python",
     "metadata": {},
     "outputs": [
      {
       "output_type": "pyout",
       "prompt_number": 12,
       "text": [
        "array([[1, 1, 1, 1],\n",
        "       [1, 1, 1, 1],\n",
        "       [1, 1, 1, 2],\n",
        "       [1, 6, 1, 1]])"
       ]
      }
     ],
     "prompt_number": 12
    },
    {
     "cell_type": "code",
     "collapsed": false,
     "input": [
      "\n",
      "b = np.array([[0.,0.,0.,0.,0.],[2.,0.,0.,0.,0.],[0.,3.,0.,0.,0.],[0.,0.,4.,0.,0.],[0.,0.,0.,5.,0.],[0.,0.,0.,0.,6.]])\n"
     ],
     "language": "python",
     "metadata": {},
     "outputs": [],
     "prompt_number": 13
    },
    {
     "cell_type": "code",
     "collapsed": false,
     "input": [
      "b"
     ],
     "language": "python",
     "metadata": {},
     "outputs": [
      {
       "output_type": "pyout",
       "prompt_number": 14,
       "text": [
        "array([[ 0.,  0.,  0.,  0.,  0.],\n",
        "       [ 2.,  0.,  0.,  0.,  0.],\n",
        "       [ 0.,  3.,  0.,  0.,  0.],\n",
        "       [ 0.,  0.,  4.,  0.,  0.],\n",
        "       [ 0.,  0.,  0.,  5.,  0.],\n",
        "       [ 0.,  0.,  0.,  0.,  6.]])"
       ]
      }
     ],
     "prompt_number": 14
    },
    {
     "cell_type": "code",
     "collapsed": false,
     "input": [
      "np.tile([[[4,3]] ,[[2,1]], [[4,3]],[[2,1]]],3)"
     ],
     "language": "python",
     "metadata": {},
     "outputs": [
      {
       "output_type": "pyout",
       "prompt_number": 15,
       "text": [
        "array([[[4, 3, 4, 3, 4, 3]],\n",
        "\n",
        "       [[2, 1, 2, 1, 2, 1]],\n",
        "\n",
        "       [[4, 3, 4, 3, 4, 3]],\n",
        "\n",
        "       [[2, 1, 2, 1, 2, 1]]])"
       ]
      }
     ],
     "prompt_number": 15
    },
    {
     "cell_type": "code",
     "collapsed": false,
     "input": [
      "is_prime = np.ones((100,), dtype=bool)"
     ],
     "language": "python",
     "metadata": {},
     "outputs": [],
     "prompt_number": 16
    },
    {
     "cell_type": "code",
     "collapsed": false,
     "input": [
      "is_prime\n",
      "    "
     ],
     "language": "python",
     "metadata": {},
     "outputs": [
      {
       "output_type": "pyout",
       "prompt_number": 17,
       "text": [
        "array([ True,  True,  True,  True,  True,  True,  True,  True,  True,\n",
        "        True,  True,  True,  True,  True,  True,  True,  True,  True,\n",
        "        True,  True,  True,  True,  True,  True,  True,  True,  True,\n",
        "        True,  True,  True,  True,  True,  True,  True,  True,  True,\n",
        "        True,  True,  True,  True,  True,  True,  True,  True,  True,\n",
        "        True,  True,  True,  True,  True,  True,  True,  True,  True,\n",
        "        True,  True,  True,  True,  True,  True,  True,  True,  True,\n",
        "        True,  True,  True,  True,  True,  True,  True,  True,  True,\n",
        "        True,  True,  True,  True,  True,  True,  True,  True,  True,\n",
        "        True,  True,  True,  True,  True,  True,  True,  True,  True,\n",
        "        True,  True,  True,  True,  True,  True,  True,  True,  True,  True], dtype=bool)"
       ]
      }
     ],
     "prompt_number": 17
    },
    {
     "cell_type": "code",
     "collapsed": false,
     "input": [
      "is_prime[0:2] = 0"
     ],
     "language": "python",
     "metadata": {},
     "outputs": [],
     "prompt_number": 18
    },
    {
     "cell_type": "code",
     "collapsed": false,
     "input": [
      "N_max = int(np.sqrt(len(is_prime)))\n",
      "for j in range(2, N_max):\n",
      "    is_prime[2*j::j] = False"
     ],
     "language": "python",
     "metadata": {},
     "outputs": [],
     "prompt_number": 19
    },
    {
     "cell_type": "code",
     "collapsed": false,
     "input": [],
     "language": "python",
     "metadata": {},
     "outputs": [],
     "prompt_number": 19
    },
    {
     "cell_type": "markdown",
     "metadata": {},
     "source": [
      "MARKDOWN"
     ]
    },
    {
     "cell_type": "code",
     "collapsed": false,
     "input": [
      "help(np.nonzero)"
     ],
     "language": "python",
     "metadata": {},
     "outputs": [
      {
       "output_type": "stream",
       "stream": "stdout",
       "text": [
        "Help on function nonzero in module numpy.core.fromnumeric:\n",
        "\n",
        "nonzero(a)\n",
        "    Return the indices of the elements that are non-zero.\n",
        "    \n",
        "    Returns a tuple of arrays, one for each dimension of `a`, containing\n",
        "    the indices of the non-zero elements in that dimension. The\n",
        "    corresponding non-zero values can be obtained with::\n",
        "    \n",
        "        a[nonzero(a)]\n",
        "    \n",
        "    To group the indices by element, rather than dimension, use::\n",
        "    \n",
        "        transpose(nonzero(a))\n",
        "    \n",
        "    The result of this is always a 2-D array, with a row for\n",
        "    each non-zero element.\n",
        "    \n",
        "    Parameters\n",
        "    ----------\n",
        "    a : array_like\n",
        "        Input array.\n",
        "    \n",
        "    Returns\n",
        "    -------\n",
        "    tuple_of_arrays : tuple\n",
        "        Indices of elements that are non-zero.\n",
        "    \n",
        "    See Also\n",
        "    --------\n",
        "    flatnonzero :\n",
        "        Return indices that are non-zero in the flattened version of the input\n",
        "        array.\n",
        "    ndarray.nonzero :\n",
        "        Equivalent ndarray method.\n",
        "    count_nonzero :\n",
        "        Counts the number of non-zero elements in the input array.\n",
        "    \n",
        "    Examples\n",
        "    --------\n",
        "    >>> x = np.eye(3)\n",
        "    >>> x\n",
        "    array([[ 1.,  0.,  0.],\n",
        "           [ 0.,  1.,  0.],\n",
        "           [ 0.,  0.,  1.]])\n",
        "    >>> np.nonzero(x)\n",
        "    (array([0, 1, 2]), array([0, 1, 2]))\n",
        "    \n",
        "    >>> x[np.nonzero(x)]\n",
        "    array([ 1.,  1.,  1.])\n",
        "    >>> np.transpose(np.nonzero(x))\n",
        "    array([[0, 0],\n",
        "           [1, 1],\n",
        "           [2, 2]])\n",
        "    \n",
        "    A common use for ``nonzero`` is to find the indices of an array, where\n",
        "    a condition is True.  Given an array `a`, the condition `a` > 3 is a\n",
        "    boolean array and since False is interpreted as 0, np.nonzero(a > 3)\n",
        "    yields the indices of the `a` where the condition is true.\n",
        "    \n",
        "    >>> a = np.array([[1,2,3],[4,5,6],[7,8,9]])\n",
        "    >>> a > 3\n",
        "    array([[False, False, False],\n",
        "           [ True,  True,  True],\n",
        "           [ True,  True,  True]], dtype=bool)\n",
        "    >>> np.nonzero(a > 3)\n",
        "    (array([1, 1, 1, 2, 2, 2]), array([0, 1, 2, 0, 1, 2]))\n",
        "    \n",
        "    The ``nonzero`` method of the boolean array can also be called.\n",
        "    \n",
        "    >>> (a > 3).nonzero()\n",
        "    (array([1, 1, 1, 2, 2, 2]), array([0, 1, 2, 0, 1, 2]))\n",
        "\n"
       ]
      }
     ],
     "prompt_number": 20
    },
    {
     "cell_type": "code",
     "collapsed": false,
     "input": [
      "np.nonzero(is_prime)"
     ],
     "language": "python",
     "metadata": {},
     "outputs": [
      {
       "output_type": "pyout",
       "prompt_number": 23,
       "text": [
        "(array([ 2,  3,  5,  7, 11, 13, 17, 19, 23, 29, 31, 37, 41, 43, 47, 53, 59,\n",
        "       61, 67, 71, 73, 79, 83, 89, 97]),)"
       ]
      }
     ],
     "prompt_number": 23
    },
    {
     "cell_type": "code",
     "collapsed": false,
     "input": [
      "def eratosthenes_sieve(maximum):\n",
      "    is_prime = np.ones((maximum,), dtype=bool)\n",
      "    is_prime[0:2]=0\n",
      "    N_max = int(np.sqrt(len(is_prime)))\n",
      "    for j in range(2, N_max):\n",
      "        is_prime[2*j::j] = False\n",
      "    print np.nonzero(is_prime)\n",
      "    "
     ],
     "language": "python",
     "metadata": {},
     "outputs": [],
     "prompt_number": 34
    },
    {
     "cell_type": "code",
     "collapsed": false,
     "input": [
      "eratosthenes_sieve(10)"
     ],
     "language": "python",
     "metadata": {},
     "outputs": [
      {
       "output_type": "stream",
       "stream": "stdout",
       "text": [
        "(array([2, 3, 5, 7, 9]),)\n"
       ]
      }
     ],
     "prompt_number": 38
    },
    {
     "cell_type": "code",
     "collapsed": false,
     "input": [
      "from scipy import misc\n",
      "lena = misc.lena()"
     ],
     "language": "python",
     "metadata": {},
     "outputs": [],
     "prompt_number": 46
    },
    {
     "cell_type": "code",
     "collapsed": false,
     "input": [
      "imshow(lena)"
     ],
     "language": "python",
     "metadata": {},
     "outputs": [
      {
       "ename": "NameError",
       "evalue": "name 'imshow' is not defined",
       "output_type": "pyerr",
       "traceback": [
        "\u001b[0;31m---------------------------------------------------------------------------\u001b[0m\n\u001b[0;31mNameError\u001b[0m                                 Traceback (most recent call last)",
        "\u001b[0;32m<ipython-input-47-e80e41cad2a5>\u001b[0m in \u001b[0;36m<module>\u001b[0;34m()\u001b[0m\n\u001b[0;32m----> 1\u001b[0;31m \u001b[0mimshow\u001b[0m\u001b[0;34m(\u001b[0m\u001b[0mlena\u001b[0m\u001b[0;34m)\u001b[0m\u001b[0;34m\u001b[0m\u001b[0m\n\u001b[0m",
        "\u001b[0;31mNameError\u001b[0m: name 'imshow' is not defined"
       ]
      }
     ],
     "prompt_number": 47
    },
    {
     "cell_type": "code",
     "collapsed": false,
     "input": [],
     "language": "python",
     "metadata": {},
     "outputs": []
    }
   ],
   "metadata": {}
  }
 ]
}