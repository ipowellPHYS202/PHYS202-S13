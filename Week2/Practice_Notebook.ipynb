{
 "metadata": {
  "name": "Practice_Notebook"
 },
 "nbformat": 3,
 "nbformat_minor": 0,
 "worksheets": [
  {
   "cells": [
    {
     "cell_type": "code",
     "collapsed": false,
     "input": [
      "from math import *"
     ],
     "language": "python",
     "metadata": {},
     "outputs": [],
     "prompt_number": 2
    },
    {
     "cell_type": "code",
     "collapsed": false,
     "input": [
      "a = arange(1,2,.2)\n",
      "b = np.array(a)\n",
      "d = (b**5)%10\n",
      "e = diag(d)\n",
      "print e"
     ],
     "language": "python",
     "metadata": {},
     "outputs": [
      {
       "output_type": "stream",
       "stream": "stdout",
       "text": [
        "[[ 1.       0.       0.       0.       0.     ]\n",
        " [ 0.       2.48832  0.       0.       0.     ]\n",
        " [ 0.       0.       5.37824  0.       0.     ]\n",
        " [ 0.       0.       0.       0.48576  0.     ]\n",
        " [ 0.       0.       0.       0.       8.89568]]\n"
       ]
      }
     ],
     "prompt_number": 20
    },
    {
     "cell_type": "code",
     "collapsed": false,
     "input": [
      "print e.transpose()"
     ],
     "language": "python",
     "metadata": {},
     "outputs": [
      {
       "output_type": "stream",
       "stream": "stdout",
       "text": [
        "[[ 1.       0.       0.       0.       0.     ]\n",
        " [ 0.       2.48832  0.       0.       0.     ]\n",
        " [ 0.       0.       5.37824  0.       0.     ]\n",
        " [ 0.       0.       0.       0.48576  0.     ]\n",
        " [ 0.       0.       0.       0.       8.89568]]\n"
       ]
      }
     ],
     "prompt_number": 21
    },
    {
     "cell_type": "code",
     "collapsed": false,
     "input": [],
     "language": "python",
     "metadata": {},
     "outputs": []
    }
   ],
   "metadata": {}
  }
 ]
}