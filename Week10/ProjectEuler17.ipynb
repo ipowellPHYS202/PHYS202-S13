{
 "metadata": {
  "name": "ProjectEuler17"
 },
 "nbformat": 3,
 "nbformat_minor": 0,
 "worksheets": [
  {
   "cells": [
    {
     "cell_type": "markdown",
     "metadata": {},
     "source": [
      "#Number Letter Counts"
     ]
    },
    {
     "cell_type": "markdown",
     "metadata": {},
     "source": [
      "If the numbers 1 to 5 are written out in words: one, two, three, four, five, then there are 3 + 3 + 5 + 4 + 4 = 19 letters used in total.\n",
      "\n",
      "If all the numbers from 1 to 1000 (one thousand) inclusive were written out in words, how many letters would be used?\n",
      "\n",
      "\n",
      "NOTE: Do not count spaces or hyphens. For example, 342 (three hundred and forty-two) contains 23 letters and 115 (one hundred and fifteen) contains 20 letters. The use of \"and\" when writing out numbers is in compliance with British usage."
     ]
    },
    {
     "cell_type": "code",
     "collapsed": false,
     "input": [
      "#Here i create some sublists in lists for all permutations of numbers\n",
      "\n",
      "sett=[[\"one\"],[\"two\"],[\"three\"],[\"four\"],[\"five\"],[\"six\"],[\"seven\"],[\"eight\"],[\"nine\"]]\n",
      "\n",
      "settt=[['twenty'],['thirty'],['forty'],['fifty'],['sixty'],['seventy'],['eighty'],['ninety']]\n",
      "\n",
      "strange=[['ten'],['eleven'],['twelve'],['thirteen'],['fourteen'],['fifteen'],['sixteen'],['seventeen'],['eighteen'],['nineteen']]\n",
      "\n",
      "\n",
      "Hundo=[['hundred'], ['and']]\n",
      "\n",
      "tot=0\n",
      "for i in range(len(sett)):\n",
      "    tot+=len(sett[i][0])\n",
      "print tot\n",
      "#by hand this should equal 36"
     ],
     "language": "python",
     "metadata": {},
     "outputs": [
      {
       "output_type": "stream",
       "stream": "stdout",
       "text": [
        "36\n"
       ]
      }
     ],
     "prompt_number": 48
    },
    {
     "cell_type": "markdown",
     "metadata": {},
     "source": [
      "We get 36 so the Test Case works for \"tot\""
     ]
    },
    {
     "cell_type": "code",
     "collapsed": false,
     "input": [
      "tott =0\n",
      "for i in range(len(strange)):\n",
      "    tott+=len(strange[i][0])\n",
      "print tott\n",
      "\n",
      "tottt=0\n",
      "for i in range(len(settt)):\n",
      "    tottt+=len(settt[i][0])*10\n",
      "tottt=tottt+8*tot\n",
      "print tottt\n",
      "\n",
      "#all letters 1-99:\n",
      "TOT=tottt+tot+tott\n",
      "print TOT"
     ],
     "language": "python",
     "metadata": {},
     "outputs": [
      {
       "output_type": "stream",
       "stream": "stdout",
       "text": [
        "70\n",
        "748\n",
        "854\n"
       ]
      }
     ],
     "prompt_number": 49
    },
    {
     "cell_type": "code",
     "collapsed": false,
     "input": [
      "#We have \"hundred\" occuring 9 times, \"hundred and\" occuring 9*99 times, 1-99 occuring 9 times and 1-9 occuring 100 times\n",
      "Q=len(Hundo[0][0])*9+(len(Hundo[0][0])+len(Hundo[1][0]))*9*99+(TOT*9)+tot*100"
     ],
     "language": "python",
     "metadata": {},
     "outputs": [],
     "prompt_number": 50
    },
    {
     "cell_type": "code",
     "collapsed": false,
     "input": [
      "#finally i add 'one thousand' to the total and all of the numbers 1-99\n",
      "Answer=Q+TOT+len('onethousand')\n",
      "print Answer"
     ],
     "language": "python",
     "metadata": {},
     "outputs": [
      {
       "output_type": "stream",
       "stream": "stdout",
       "text": [
        "21124\n"
       ]
      }
     ],
     "prompt_number": 51
    },
    {
     "cell_type": "markdown",
     "metadata": {},
     "source": [
      "Thus there are 21124 letters in all numbers 1-1000!"
     ]
    }
   ],
   "metadata": {}
  }
 ]
}